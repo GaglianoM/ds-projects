{
 "cells": [
  {
   "cell_type": "markdown",
   "metadata": {},
   "source": [
    "# Text Classification \n",
    "- This is a comprehensive tutorial covering intermediate (and advanced) topics in text classification"
   ]
  },
  {
   "cell_type": "code",
   "execution_count": 1,
   "metadata": {},
   "outputs": [],
   "source": [
    "%matplotlib inline\n",
    "import nltk\n",
    "import matplotlib.pyplot as plt\n",
    "import csv\n",
    "import pandas as pd\n",
    "import sklearn\n",
    "import numpy as np\n",
    "from collections import Counter\n",
    "\n",
    "# feature engineering (words to vectors)\n",
    "from sklearn.feature_extraction.text import TfidfVectorizer\n",
    "\n",
    "# classification algorithms (or classifiers)\n",
    "from sklearn.naive_bayes import MultinomialNB\n",
    "from sklearn.neighbors import KNeighborsClassifier\n",
    "from sklearn.svm import SVC, LinearSVC\n",
    "\n",
    "# build a pipeline\n",
    "from sklearn.pipeline import Pipeline\n",
    "\n",
    "# model evaluation, validation\n",
    "from sklearn.metrics import classification_report, f1_score, accuracy_score, confusion_matrix\n",
    "from sklearn.model_selection import StratifiedKFold, cross_val_score, train_test_split, GridSearchCV \n",
    "from sklearn import metrics\n",
    "from sklearn.metrics import roc_curve, auc\n",
    "\n",
    "#pip install scikit-plot \n",
    "import scikitplot as skplt"
   ]
  },
  {
   "cell_type": "markdown",
   "metadata": {},
   "source": [
    "# Step 1: Loading the dataset\n",
    "\n",
    "The data is in a single csv file. We can use Pandas, a python package, to load the data"
   ]
  },
  {
   "cell_type": "code",
   "execution_count": 2,
   "metadata": {},
   "outputs": [],
   "source": [
    "sms_data = []\n",
    "sms_labels = []\n",
    "sms = []\n",
    "\n",
    "openfile = open('data/spam.csv', 'r')\n",
    "r = csv.reader(openfile)\n",
    "for i in r:\n",
    "    sms.append(i)\n",
    "    sms_data.append(i[0])\n",
    "    sms_labels.append(i[1])    \n",
    "openfile.close()"
   ]
  },
  {
   "cell_type": "markdown",
   "metadata": {},
   "source": [
    "This corpus (in a csv file) contains spam emails and regular emails. Two **labels** or **y values** are 0 (regular email) and 1 (spam email). \n",
    "\n",
    "We'll **train a predictive (or machine learning) model to learn to discriminate between spam emails and regular emails automatically**. Then, **the predictive model will be used to classify a set of unknown (or unlabeled) emails as either spam or regular**. "
   ]
  },
  {
   "cell_type": "code",
   "execution_count": 8,
   "metadata": {},
   "outputs": [
    {
     "name": "stdout",
     "output_type": "stream",
     "text": [
      "5574\n",
      "5574\n",
      "5574\n"
     ]
    }
   ],
   "source": [
    "#entire data\n",
    "print(len(sms))\n",
    "#texts only\n",
    "print(len(sms_data))\n",
    "#labels only\n",
    "print(len(sms_labels))"
   ]
  },
  {
   "cell_type": "code",
   "execution_count": 9,
   "metadata": {},
   "outputs": [
    {
     "data": {
      "text/plain": [
       "['Go until jurong point, crazy.. Available only in bugis n great world la e buffet... Cine there got amore wat...',\n",
       " '0']"
      ]
     },
     "execution_count": 9,
     "metadata": {},
     "output_type": "execute_result"
    }
   ],
   "source": [
    "#first row\n",
    "sms[0]"
   ]
  },
  {
   "cell_type": "code",
   "execution_count": 10,
   "metadata": {},
   "outputs": [
    {
     "name": "stdout",
     "output_type": "stream",
     "text": [
      "4827\n",
      "747\n"
     ]
    }
   ],
   "source": [
    "# how many spams in the dataset\n",
    "print(sms_labels.count('0'))\n",
    "print(sms_labels.count('1'))  #1 refers to spam emails"
   ]
  },
  {
   "cell_type": "markdown",
   "metadata": {},
   "source": [
    "747 spam emails & 4827 regular emails in the dataset"
   ]
  },
  {
   "cell_type": "markdown",
   "metadata": {},
   "source": [
    "# Step 2: Preprocessing & Step 3: Feature Engineering (Words to Vectors)"
   ]
  },
  {
   "cell_type": "code",
   "execution_count": 11,
   "metadata": {},
   "outputs": [
    {
     "name": "stdout",
     "output_type": "stream",
     "text": [
      "(5574, 8752)\n",
      "  (0, 3585)\t0.14787938686701288\n",
      "  (0, 8116)\t0.23001892323914586\n",
      "  (0, 4395)\t0.326467645747019\n",
      "  (0, 5981)\t0.25535113536077003\n",
      "  (0, 2347)\t0.2528296765647095\n",
      "  (0, 1316)\t0.2441904570208067\n",
      "  (0, 5594)\t0.15603453765460987\n",
      "  (0, 4131)\t0.10700055412297083\n",
      "  (0, 1770)\t0.2758032215037706\n",
      "  (0, 3669)\t0.1803467768751424\n",
      "  (0, 8584)\t0.22083422107921832\n",
      "  (0, 4522)\t0.2758032215037706\n",
      "  (0, 1768)\t0.31164925159555484\n",
      "  (0, 2068)\t0.2758032215037706\n",
      "  (0, 7724)\t0.15552099304359127\n",
      "  (0, 3629)\t0.15305623970002818\n",
      "  (0, 1082)\t0.326467645747019\n",
      "  (0, 8358)\t0.182416008162686\n",
      "  (1, 5561)\t0.27190435673704183\n",
      "  (1, 4558)\t0.4083285209202484\n",
      "  (1, 4363)\t0.5236769406481622\n",
      "  (1, 8486)\t0.4316309977097208\n",
      "  (1, 5590)\t0.5466195966483365\n",
      "  (2, 4131)\t0.0790778808416933\n",
      "  (2, 3387)\t0.11311495706056472\n",
      "  :\t:\n",
      "  (5572, 4263)\t0.12237960544282811\n",
      "  (5572, 8405)\t0.18728867170245597\n",
      "  (5572, 1097)\t0.1122413213871188\n",
      "  (5572, 4663)\t0.15953549121482666\n",
      "  (5572, 7116)\t0.18431882284957893\n",
      "  (5572, 3336)\t0.12151520409495568\n",
      "  (5572, 7704)\t0.10220272840546468\n",
      "  (5572, 1452)\t0.14289417461390885\n",
      "  (5572, 5389)\t0.2100937471614966\n",
      "  (5572, 2615)\t0.18431882284957893\n",
      "  (5572, 8152)\t0.20886480936927976\n",
      "  (5572, 1797)\t0.1363252301388037\n",
      "  (5572, 7126)\t0.20539935158002573\n",
      "  (5572, 2917)\t0.24407331328934226\n",
      "  (5572, 3503)\t0.2753475557534448\n",
      "  (5572, 1805)\t0.28299185861725923\n",
      "  (5572, 3723)\t0.24257924855214688\n",
      "  (5572, 4205)\t0.28299185861725923\n",
      "  (5572, 914)\t0.3248421399707286\n",
      "  (5572, 1562)\t0.3402878336229574\n",
      "  (5573, 7836)\t0.14838908740174528\n",
      "  (5573, 5298)\t0.3905143369117778\n",
      "  (5573, 4271)\t0.5779643918614525\n",
      "  (5573, 7968)\t0.42553298389964656\n",
      "  (5573, 6574)\t0.5570979023117179\n"
     ]
    }
   ],
   "source": [
    "tfidf_vectorizer = TfidfVectorizer(decode_error ='ignore')\n",
    "tfidf = tfidf_vectorizer.fit_transform(sms_data)\n",
    "print(tfidf.shape)\n",
    "print(tfidf)"
   ]
  },
  {
   "cell_type": "code",
   "execution_count": 12,
   "metadata": {},
   "outputs": [
    {
     "data": {
      "text/plain": [
       "['00',\n",
       " '000',\n",
       " '000pes',\n",
       " '008704050406',\n",
       " '0089',\n",
       " '0121',\n",
       " '01223585236',\n",
       " '01223585334',\n",
       " '0125698789',\n",
       " '02']"
      ]
     },
     "execution_count": 12,
     "metadata": {},
     "output_type": "execute_result"
    }
   ],
   "source": [
    "tfidf_vectorizer.get_feature_names()[0:10]"
   ]
  },
  {
   "cell_type": "code",
   "execution_count": 13,
   "metadata": {},
   "outputs": [
    {
     "data": {
      "text/plain": [
       "['zoe',\n",
       " 'zogtorius',\n",
       " 'zoom',\n",
       " 'zouk',\n",
       " 'zyada',\n",
       " 'ãº1',\n",
       " 'ã¼',\n",
       " 'ãœ',\n",
       " 'éˆ',\n",
       " 'œharry']"
      ]
     },
     "execution_count": 13,
     "metadata": {},
     "output_type": "execute_result"
    }
   ],
   "source": [
    "tfidf_vectorizer.get_feature_names()[-10:]"
   ]
  },
  {
   "cell_type": "markdown",
   "metadata": {},
   "source": [
    "## Document Term Matrix (DTM)"
   ]
  },
  {
   "cell_type": "code",
   "execution_count": 14,
   "metadata": {},
   "outputs": [
    {
     "data": {
      "text/plain": [
       "array([[0., 0., 0., ..., 0., 0., 0.],\n",
       "       [0., 0., 0., ..., 0., 0., 0.],\n",
       "       [0., 0., 0., ..., 0., 0., 0.],\n",
       "       ...,\n",
       "       [0., 0., 0., ..., 0., 0., 0.],\n",
       "       [0., 0., 0., ..., 0., 0., 0.],\n",
       "       [0., 0., 0., ..., 0., 0., 0.]])"
      ]
     },
     "execution_count": 14,
     "metadata": {},
     "output_type": "execute_result"
    }
   ],
   "source": [
    "tfidf_matrix = tfidf_vectorizer.fit_transform(sms_data).toarray()\n",
    "tfidf_matrix"
   ]
  },
  {
   "cell_type": "code",
   "execution_count": 15,
   "metadata": {},
   "outputs": [
    {
     "data": {
      "text/html": [
       "<div>\n",
       "<style scoped>\n",
       "    .dataframe tbody tr th:only-of-type {\n",
       "        vertical-align: middle;\n",
       "    }\n",
       "\n",
       "    .dataframe tbody tr th {\n",
       "        vertical-align: top;\n",
       "    }\n",
       "\n",
       "    .dataframe thead th {\n",
       "        text-align: right;\n",
       "    }\n",
       "</style>\n",
       "<table border=\"1\" class=\"dataframe\">\n",
       "  <thead>\n",
       "    <tr style=\"text-align: right;\">\n",
       "      <th></th>\n",
       "      <th>00</th>\n",
       "      <th>000</th>\n",
       "      <th>000pes</th>\n",
       "      <th>008704050406</th>\n",
       "      <th>0089</th>\n",
       "      <th>0121</th>\n",
       "      <th>01223585236</th>\n",
       "      <th>01223585334</th>\n",
       "      <th>0125698789</th>\n",
       "      <th>02</th>\n",
       "      <th>...</th>\n",
       "      <th>zoe</th>\n",
       "      <th>zogtorius</th>\n",
       "      <th>zoom</th>\n",
       "      <th>zouk</th>\n",
       "      <th>zyada</th>\n",
       "      <th>ãº1</th>\n",
       "      <th>ã¼</th>\n",
       "      <th>ãœ</th>\n",
       "      <th>éˆ</th>\n",
       "      <th>œharry</th>\n",
       "    </tr>\n",
       "  </thead>\n",
       "  <tbody>\n",
       "    <tr>\n",
       "      <th>Go until jurong point, crazy.. Available only in bugis n great world la e buffet... Cine there got amore wat...</th>\n",
       "      <td>0.0</td>\n",
       "      <td>0.0</td>\n",
       "      <td>0.0</td>\n",
       "      <td>0.0</td>\n",
       "      <td>0.0</td>\n",
       "      <td>0.0</td>\n",
       "      <td>0.0</td>\n",
       "      <td>0.0</td>\n",
       "      <td>0.0</td>\n",
       "      <td>0.0</td>\n",
       "      <td>...</td>\n",
       "      <td>0.0</td>\n",
       "      <td>0.0</td>\n",
       "      <td>0.0</td>\n",
       "      <td>0.0</td>\n",
       "      <td>0.0</td>\n",
       "      <td>0.0</td>\n",
       "      <td>0.0</td>\n",
       "      <td>0.0</td>\n",
       "      <td>0.0</td>\n",
       "      <td>0.0</td>\n",
       "    </tr>\n",
       "    <tr>\n",
       "      <th>Ok lar... Joking wif u oni...</th>\n",
       "      <td>0.0</td>\n",
       "      <td>0.0</td>\n",
       "      <td>0.0</td>\n",
       "      <td>0.0</td>\n",
       "      <td>0.0</td>\n",
       "      <td>0.0</td>\n",
       "      <td>0.0</td>\n",
       "      <td>0.0</td>\n",
       "      <td>0.0</td>\n",
       "      <td>0.0</td>\n",
       "      <td>...</td>\n",
       "      <td>0.0</td>\n",
       "      <td>0.0</td>\n",
       "      <td>0.0</td>\n",
       "      <td>0.0</td>\n",
       "      <td>0.0</td>\n",
       "      <td>0.0</td>\n",
       "      <td>0.0</td>\n",
       "      <td>0.0</td>\n",
       "      <td>0.0</td>\n",
       "      <td>0.0</td>\n",
       "    </tr>\n",
       "    <tr>\n",
       "      <th>Free entry in 2 a wkly comp to win FA Cup final tkts 21st May 2005. Text FA to 87121 to receive entry question(std txt rate)T&amp;C's apply 08452810075over18's</th>\n",
       "      <td>0.0</td>\n",
       "      <td>0.0</td>\n",
       "      <td>0.0</td>\n",
       "      <td>0.0</td>\n",
       "      <td>0.0</td>\n",
       "      <td>0.0</td>\n",
       "      <td>0.0</td>\n",
       "      <td>0.0</td>\n",
       "      <td>0.0</td>\n",
       "      <td>0.0</td>\n",
       "      <td>...</td>\n",
       "      <td>0.0</td>\n",
       "      <td>0.0</td>\n",
       "      <td>0.0</td>\n",
       "      <td>0.0</td>\n",
       "      <td>0.0</td>\n",
       "      <td>0.0</td>\n",
       "      <td>0.0</td>\n",
       "      <td>0.0</td>\n",
       "      <td>0.0</td>\n",
       "      <td>0.0</td>\n",
       "    </tr>\n",
       "    <tr>\n",
       "      <th>U dun say so early hor... U c already then say...</th>\n",
       "      <td>0.0</td>\n",
       "      <td>0.0</td>\n",
       "      <td>0.0</td>\n",
       "      <td>0.0</td>\n",
       "      <td>0.0</td>\n",
       "      <td>0.0</td>\n",
       "      <td>0.0</td>\n",
       "      <td>0.0</td>\n",
       "      <td>0.0</td>\n",
       "      <td>0.0</td>\n",
       "      <td>...</td>\n",
       "      <td>0.0</td>\n",
       "      <td>0.0</td>\n",
       "      <td>0.0</td>\n",
       "      <td>0.0</td>\n",
       "      <td>0.0</td>\n",
       "      <td>0.0</td>\n",
       "      <td>0.0</td>\n",
       "      <td>0.0</td>\n",
       "      <td>0.0</td>\n",
       "      <td>0.0</td>\n",
       "    </tr>\n",
       "    <tr>\n",
       "      <th>Nah I don't think he goes to usf, he lives around here though</th>\n",
       "      <td>0.0</td>\n",
       "      <td>0.0</td>\n",
       "      <td>0.0</td>\n",
       "      <td>0.0</td>\n",
       "      <td>0.0</td>\n",
       "      <td>0.0</td>\n",
       "      <td>0.0</td>\n",
       "      <td>0.0</td>\n",
       "      <td>0.0</td>\n",
       "      <td>0.0</td>\n",
       "      <td>...</td>\n",
       "      <td>0.0</td>\n",
       "      <td>0.0</td>\n",
       "      <td>0.0</td>\n",
       "      <td>0.0</td>\n",
       "      <td>0.0</td>\n",
       "      <td>0.0</td>\n",
       "      <td>0.0</td>\n",
       "      <td>0.0</td>\n",
       "      <td>0.0</td>\n",
       "      <td>0.0</td>\n",
       "    </tr>\n",
       "  </tbody>\n",
       "</table>\n",
       "<p>5 rows × 8752 columns</p>\n",
       "</div>"
      ],
      "text/plain": [
       "                                                     00  000  000pes  \\\n",
       "Go until jurong point, crazy.. Available only i...  0.0  0.0     0.0   \n",
       "Ok lar... Joking wif u oni...                       0.0  0.0     0.0   \n",
       "Free entry in 2 a wkly comp to win FA Cup final...  0.0  0.0     0.0   \n",
       "U dun say so early hor... U c already then say...   0.0  0.0     0.0   \n",
       "Nah I don't think he goes to usf, he lives arou...  0.0  0.0     0.0   \n",
       "\n",
       "                                                    008704050406  0089  0121  \\\n",
       "Go until jurong point, crazy.. Available only i...           0.0   0.0   0.0   \n",
       "Ok lar... Joking wif u oni...                                0.0   0.0   0.0   \n",
       "Free entry in 2 a wkly comp to win FA Cup final...           0.0   0.0   0.0   \n",
       "U dun say so early hor... U c already then say...            0.0   0.0   0.0   \n",
       "Nah I don't think he goes to usf, he lives arou...           0.0   0.0   0.0   \n",
       "\n",
       "                                                    01223585236  01223585334  \\\n",
       "Go until jurong point, crazy.. Available only i...          0.0          0.0   \n",
       "Ok lar... Joking wif u oni...                               0.0          0.0   \n",
       "Free entry in 2 a wkly comp to win FA Cup final...          0.0          0.0   \n",
       "U dun say so early hor... U c already then say...           0.0          0.0   \n",
       "Nah I don't think he goes to usf, he lives arou...          0.0          0.0   \n",
       "\n",
       "                                                    0125698789   02   ...    \\\n",
       "Go until jurong point, crazy.. Available only i...         0.0  0.0   ...     \n",
       "Ok lar... Joking wif u oni...                              0.0  0.0   ...     \n",
       "Free entry in 2 a wkly comp to win FA Cup final...         0.0  0.0   ...     \n",
       "U dun say so early hor... U c already then say...          0.0  0.0   ...     \n",
       "Nah I don't think he goes to usf, he lives arou...         0.0  0.0   ...     \n",
       "\n",
       "                                                    zoe  zogtorius  zoom  \\\n",
       "Go until jurong point, crazy.. Available only i...  0.0        0.0   0.0   \n",
       "Ok lar... Joking wif u oni...                       0.0        0.0   0.0   \n",
       "Free entry in 2 a wkly comp to win FA Cup final...  0.0        0.0   0.0   \n",
       "U dun say so early hor... U c already then say...   0.0        0.0   0.0   \n",
       "Nah I don't think he goes to usf, he lives arou...  0.0        0.0   0.0   \n",
       "\n",
       "                                                    zouk  zyada  ãº1   ã¼  \\\n",
       "Go until jurong point, crazy.. Available only i...   0.0    0.0  0.0  0.0   \n",
       "Ok lar... Joking wif u oni...                        0.0    0.0  0.0  0.0   \n",
       "Free entry in 2 a wkly comp to win FA Cup final...   0.0    0.0  0.0  0.0   \n",
       "U dun say so early hor... U c already then say...    0.0    0.0  0.0  0.0   \n",
       "Nah I don't think he goes to usf, he lives arou...   0.0    0.0  0.0  0.0   \n",
       "\n",
       "                                                     ãœ   éˆ  œharry  \n",
       "Go until jurong point, crazy.. Available only i...  0.0  0.0     0.0  \n",
       "Ok lar... Joking wif u oni...                       0.0  0.0     0.0  \n",
       "Free entry in 2 a wkly comp to win FA Cup final...  0.0  0.0     0.0  \n",
       "U dun say so early hor... U c already then say...   0.0  0.0     0.0  \n",
       "Nah I don't think he goes to usf, he lives arou...  0.0  0.0     0.0  \n",
       "\n",
       "[5 rows x 8752 columns]"
      ]
     },
     "execution_count": 15,
     "metadata": {},
     "output_type": "execute_result"
    }
   ],
   "source": [
    "# Document Term Matrix\n",
    "pd.DataFrame(tfidf_matrix,index=sms_data,columns=tfidf_vectorizer.get_feature_names()).head()"
   ]
  },
  {
   "cell_type": "markdown",
   "metadata": {},
   "source": [
    "# Step 4 Model Building / Model Validation / Model Evaluation"
   ]
  },
  {
   "cell_type": "markdown",
   "metadata": {},
   "source": [
    "## Naive Bayes"
   ]
  },
  {
   "cell_type": "markdown",
   "metadata": {},
   "source": [
    "Now that we have our features, we can train a classifier to try to predict the category of a post. Let’s start with a naïve Bayes classifier, which provides a nice baseline for this task. scikit-learn includes several variants of this classifier; the one most suitable for word counts is the multinomial variant:"
   ]
  },
  {
   "cell_type": "code",
   "execution_count": 16,
   "metadata": {},
   "outputs": [
    {
     "data": {
      "text/plain": [
       "0.9761392177969143"
      ]
     },
     "execution_count": 16,
     "metadata": {},
     "output_type": "execute_result"
    }
   ],
   "source": [
    "# the below model does not use \"split validation\", meaning this model is NOT validated. \n",
    "# We create this invalidated model to illustrate the concep called \"overfitting\"\n",
    "# overfitting happends that the model fits extremely well into the existing dataset, but would not be suitable for new datasets\n",
    "# Simply, the model is not much generalizable.\n",
    "\n",
    "nb = MultinomialNB().fit(tfidf, sms_labels)\n",
    "\n",
    "predicted = nb.predict(tfidf)\n",
    "np.mean(predicted == sms_labels)  "
   ]
  },
  {
   "cell_type": "code",
   "execution_count": 17,
   "metadata": {},
   "outputs": [
    {
     "name": "stdout",
     "output_type": "stream",
     "text": [
      "\n",
      " overall accuracy:\n",
      "0.9761392177969143\n",
      "\n",
      " confusion_matrix:\n",
      "[[4827    0]\n",
      " [ 133  614]]\n",
      "\n",
      " Here is the classification report:\n",
      "             precision    recall  f1-score   support\n",
      "\n",
      "          0       0.97      1.00      0.99      4827\n",
      "          1       1.00      0.82      0.90       747\n",
      "\n",
      "avg / total       0.98      0.98      0.98      5574\n",
      "\n"
     ]
    }
   ],
   "source": [
    "print('\\n overall accuracy:')\n",
    "print(metrics.accuracy_score(sms_labels, predicted))\n",
    "\n",
    "print('\\n confusion_matrix:')\n",
    "print(metrics.confusion_matrix(sms_labels, predicted))\n",
    "\n",
    "print('\\n Here is the classification report:')\n",
    "print(metrics.classification_report(sms_labels, predicted))"
   ]
  },
  {
   "cell_type": "markdown",
   "metadata": {},
   "source": [
    "- 4827 regular mails correctly predicted as regular & zero false positive \n",
    "- 614 spam correctly as spam & 133 false negative ==> This indicates that you would expect some spam mails in your inbox.\n",
    "- About different measures (e.g., prediction) for model accuracy, https://en.wikipedia.org/wiki/Precision_and_recall"
   ]
  },
  {
   "cell_type": "code",
   "execution_count": 18,
   "metadata": {},
   "outputs": [
    {
     "data": {
      "image/png": "[encoded data removed]",
      "text/plain": [
       "<Figure size 432x288 with 2 Axes>"
      ]
     },
     "metadata": {},
     "output_type": "display_data"
    }
   ],
   "source": [
    "#using scikit-plot python package (https://github.com/reiinakano/scikit-plot) ... you need to install \n",
    "# pip install scikit-plot\n",
    "\n",
    "skplt.metrics.plot_confusion_matrix(y_true=sms_labels, y_pred=predicted)\n",
    "plt.show()"
   ]
  },
  {
   "cell_type": "code",
   "execution_count": 19,
   "metadata": {},
   "outputs": [
    {
     "data": {
      "image/png": "[encoded data removed]",
      "text/plain": [
       "<Figure size 432x288 with 1 Axes>"
      ]
     },
     "metadata": {},
     "output_type": "display_data"
    }
   ],
   "source": [
    "# true positive rate = 614 / 747 = 82%\n",
    "# false positive rate = 0 / 4827 = 0%\n",
    "\n",
    "probas = nb.predict_proba(tfidf)\n",
    "skplt.metrics.plot_roc(y_true=sms_labels, y_probas=probas)\n",
    "plt.show()"
   ]
  },
  {
   "cell_type": "markdown",
   "metadata": {},
   "source": [
    "The above ROC curve shows our Naive Bayesian classification model is almost perfect. \n",
    "<br><br>\n",
    "The diagonal line represents pure guessing."
   ]
  },
  {
   "cell_type": "markdown",
   "metadata": {},
   "source": [
    "## Split validation\n",
    "\n",
    "In Step 4, we built a model using different machine learning (or classification) algorithms. However, it is a **bad idea to evaluate the performance of the model on the same dataset we train the model on**. Thus, we'll use a validation method called ** split validation**.\n",
    "\n",
    "First, we split the dataset to two parts: **training dataset (70% of the original dataset)** and **testing dataset (30% of the original dataset)**. We build a model using training dataset and apply the model to testing dataset and measure the accuracy of the model. You could have a 80-20 split or a 50-50 split.\n",
    "\n",
    "We will build a predictive model using **x_train** and **y_train**, which are called as **training dataset**.\n",
    "\n",
    "Then, we will apply the model to **x_test** and **y_test** (**testing dataset**) and this will tell us the performance or quality of the model"
   ]
  },
  {
   "cell_type": "code",
   "execution_count": 20,
   "metadata": {},
   "outputs": [
    {
     "data": {
      "text/html": [
       "<img src=\"http://www.developer.com/imagesvr_ce/6793/ML4.png\"/>"
      ],
      "text/plain": [
       "<IPython.core.display.Image object>"
      ]
     },
     "execution_count": 20,
     "metadata": {},
     "output_type": "execute_result"
    }
   ],
   "source": [
    "from IPython.display import Image\n",
    "from IPython.core.display import HTML \n",
    "Image(url= \"http://www.developer.com/imagesvr_ce/6793/ML4.png\")"
   ]
  },
  {
   "cell_type": "code",
   "execution_count": 21,
   "metadata": {},
   "outputs": [
    {
     "data": {
      "text/plain": [
       "(3901, 3901, 1673, 1673)"
      ]
     },
     "execution_count": 21,
     "metadata": {},
     "output_type": "execute_result"
    }
   ],
   "source": [
    "x_train, x_test, y_train, y_test = train_test_split(sms_data, sms_labels, test_size=0.3, random_state=0)\n",
    "len(x_train), len(y_train), len(x_test), len(y_test)"
   ]
  },
  {
   "cell_type": "code",
   "execution_count": 22,
   "metadata": {},
   "outputs": [
    {
     "name": "stdout",
     "output_type": "stream",
     "text": [
      "  (0, 3182)\t0.34129878492030447\n",
      "  (0, 1922)\t0.6004378402878641\n",
      "  (0, 2372)\t0.6004378402878641\n",
      "  (0, 3274)\t0.27594680975462554\n",
      "  (0, 938)\t0.2484712367228165\n",
      "  (0, 7210)\t0.15677800234884126\n",
      "  (1, 5933)\t0.258711966055589\n",
      "  (1, 4698)\t0.6819219252799984\n",
      "  (1, 2211)\t0.2598237567601937\n",
      "  (1, 3704)\t0.377125617507527\n",
      "  (1, 7010)\t0.27752586155984127\n",
      "  (1, 5468)\t0.425790895452364\n",
      "+++++++++++++++++++++++++++++++++++++++++\n",
      "  (0, 7210)\t0.1269402950696128\n",
      "  (0, 6997)\t0.22510474503229708\n",
      "  (0, 6373)\t0.1928973004434898\n",
      "  (0, 5229)\t0.2784828459218237\n",
      "  (0, 4447)\t0.27564784479135046\n",
      "  (0, 3888)\t0.23566743494259\n",
      "  (0, 3808)\t0.4238852289542574\n",
      "  (0, 3701)\t0.23332599618327315\n",
      "  (0, 3172)\t0.269744320099569\n",
      "  (0, 3127)\t0.25647516259355124\n",
      "  (0, 1836)\t0.3326490775932562\n",
      "  (0, 1144)\t0.20830269953022892\n",
      "  (0, 960)\t0.3289905044742613\n",
      "  (0, 812)\t0.2280124699804868\n",
      "  (1, 5933)\t0.425140823894348\n",
      "  (1, 4129)\t0.5526837553138312\n",
      "  (1, 3888)\t0.3797534296218529\n",
      "  (1, 3764)\t0.45232868675332566\n",
      "  (1, 3390)\t0.2656321307949841\n",
      "  (1, 1463)\t0.3072809941900161\n"
     ]
    }
   ],
   "source": [
    "X_train = tfidf_vectorizer.fit_transform(x_train)\n",
    "X_test = tfidf_vectorizer.transform(x_test)\n",
    "print(X_train[:2])\n",
    "print(\"+++++++++++++++++++++++++++++++++++++++++\")\n",
    "print(X_test[:2])"
   ]
  },
  {
   "cell_type": "code",
   "execution_count": 23,
   "metadata": {},
   "outputs": [
    {
     "data": {
      "text/plain": [
       "0.9557680812910938"
      ]
     },
     "execution_count": 23,
     "metadata": {},
     "output_type": "execute_result"
    }
   ],
   "source": [
    "nb = MultinomialNB().fit(X_train, y_train)\n",
    "\n",
    "predicted = nb.predict(X_test)\n",
    "np.mean(predicted == y_test)  "
   ]
  },
  {
   "cell_type": "code",
   "execution_count": 24,
   "metadata": {},
   "outputs": [
    {
     "name": "stdout",
     "output_type": "stream",
     "text": [
      "\n",
      " overall accuracy:\n",
      "0.9557680812910938\n",
      "\n",
      " confusion_matrix:\n",
      "[[1431    0]\n",
      " [  74  168]]\n",
      "\n",
      " Here is the classification report:\n",
      "             precision    recall  f1-score   support\n",
      "\n",
      "          0       0.95      1.00      0.97      1431\n",
      "          1       1.00      0.69      0.82       242\n",
      "\n",
      "avg / total       0.96      0.96      0.95      1673\n",
      "\n"
     ]
    }
   ],
   "source": [
    "print('\\n overall accuracy:')\n",
    "print(metrics.accuracy_score(y_test, predicted))\n",
    "\n",
    "print('\\n confusion_matrix:')\n",
    "print(metrics.confusion_matrix(y_test, predicted))\n",
    "\n",
    "print('\\n Here is the classification report:')\n",
    "print(metrics.classification_report(y_test, predicted))"
   ]
  },
  {
   "cell_type": "markdown",
   "metadata": {},
   "source": [
    "- true positive rate is only 69%\n",
    "- false negative rate is very high, meaning a large number of spams will be found in your inbox."
   ]
  },
  {
   "cell_type": "code",
   "execution_count": 25,
   "metadata": {},
   "outputs": [
    {
     "data": {
      "image/png": "[encoded data removed]",
      "text/plain": [
       "<Figure size 432x288 with 2 Axes>"
      ]
     },
     "metadata": {},
     "output_type": "display_data"
    }
   ],
   "source": [
    "#using scikit-plot python package (https://github.com/reiinakano/scikit-plot) ... you need to install \n",
    "# pip install scikit-plot\n",
    "\n",
    "skplt.metrics.plot_confusion_matrix(y_true=np.array(y_test), y_pred=predicted)\n",
    "plt.show()"
   ]
  },
  {
   "cell_type": "markdown",
   "metadata": {},
   "source": [
    "### Summary of split validation:\n",
    "* The accuracy of Naive Bayes-based model on this dataset was about 97%. This performance is based on when the predictive model was tested on the same dataset on which the model was built. **again, this is a bad practice since the model appears to be better than what it is**. This is called **\"model overfitting**.\n",
    "\n",
    "* The **true accuracy** of Naive Bayes-based model on this dataset turns out to be about 95%, according to **split validation**. "
   ]
  },
  {
   "cell_type": "markdown",
   "metadata": {},
   "source": [
    "# Step 5: Model Deployment"
   ]
  },
  {
   "cell_type": "code",
   "execution_count": 26,
   "metadata": {},
   "outputs": [
    {
     "name": "stdout",
     "output_type": "stream",
     "text": [
      "'Free entry in 2 a wkly comp to win FA Cup final tkts 21st May 2005. Text FA to 87121 to receive entry question' => 1\n",
      "'Even my brother is not like to speak with me. They treat me like aids patent.' => 0\n",
      "\"As per your request 'Melle Melle (Oru Minnaminunginte Nurungu Vettam)' has been set as your callertune for all Callers. Press *9\" => 0\n",
      "'hello, thank you' => 0\n",
      "'To claim txt DIS to 87121' => 1\n"
     ]
    }
   ],
   "source": [
    "docs_new = [\"Free entry in 2 a wkly comp to win FA Cup final tkts 21st May 2005. Text FA to 87121 to receive entry question\",\n",
    "            \"Even my brother is not like to speak with me. They treat me like aids patent.\",\n",
    "             \"As per your request 'Melle Melle (Oru Minnaminunginte Nurungu Vettam)' has been set as your callertune for all Callers. Press *9\",\n",
    "            \"hello, thank you\",\n",
    "           \"To claim txt DIS to 87121\"]\n",
    "\n",
    "unlabeled_tfidf = tfidf_vectorizer.transform(docs_new)\n",
    "\n",
    "predicted = nb.predict(unlabeled_tfidf)\n",
    "\n",
    "for doc, category in zip(docs_new, predicted):\n",
    "    print('%r => %s' % (doc, category))"
   ]
  },
  {
   "cell_type": "code",
   "execution_count": 27,
   "metadata": {},
   "outputs": [
    {
     "name": "stdout",
     "output_type": "stream",
     "text": [
      "'Free entry in 2 a wkly comp to win FA Cup final tkts 21st May 2005. Text FA to 87121 to receive entry question' => [0.09803565 0.90196435]\n",
      "'Even my brother is not like to speak with me. They treat me like aids patent.' => [0.99482808 0.00517192]\n",
      "\"As per your request 'Melle Melle (Oru Minnaminunginte Nurungu Vettam)' has been set as your callertune for all Callers. Press *9\" => [0.90327474 0.09672526]\n",
      "'hello, thank you' => [0.98165747 0.01834253]\n",
      "'To claim txt DIS to 87121' => [0.38969356 0.61030644]\n"
     ]
    }
   ],
   "source": [
    "#let's find the probability\n",
    "\n",
    "predicted_prob = nb.predict_proba(unlabeled_tfidf)\n",
    "\n",
    "for doc, category in zip(docs_new, predicted_prob):\n",
    "    print('%r => %s' % (doc, category))"
   ]
  },
  {
   "cell_type": "markdown",
   "metadata": {},
   "source": [
    "# Appendixes\n",
    "- We need to understand the following topics as well."
   ]
  },
  {
   "cell_type": "markdown",
   "metadata": {},
   "source": [
    "## Appendix. Building a pipeline\n",
    "\n",
    "As you have seen, building a classification (or predictive) model requires several steps. **Pipeline** is what chains these different steps together, and thus streamline the predictive modeling process. Using pipeline we write less codes.\n",
    "\n",
    "Also, Pipeline can build several predictive models through a loop to find the best one.\n",
    "\n",
    "http://scikit-learn.org/stable/modules/generated/sklearn.pipeline.Pipeline.html#sklearn.pipeline.Pipeline\n",
    "http://scikit-learn.org/stable/modules/pipeline.html"
   ]
  },
  {
   "cell_type": "code",
   "execution_count": 28,
   "metadata": {},
   "outputs": [],
   "source": [
    "# combining feature engineering and model building\n",
    "nb_pipeline = Pipeline([('tfidf', TfidfVectorizer(decode_error ='ignore')), ('clf', MultinomialNB())])"
   ]
  },
  {
   "cell_type": "code",
   "execution_count": 29,
   "metadata": {},
   "outputs": [
    {
     "data": {
      "text/plain": [
       "Pipeline(memory=None,\n",
       "     steps=[('tfidf', TfidfVectorizer(analyzer='word', binary=False, decode_error='ignore',\n",
       "        dtype=<class 'numpy.int64'>, encoding='utf-8', input='content',\n",
       "        lowercase=True, max_df=1.0, max_features=None, min_df=1,\n",
       "        ngram_range=(1, 1), norm='l2', preprocessor=None, smooth_idf=True,\n",
       " ...rue,\n",
       "        vocabulary=None)), ('clf', MultinomialNB(alpha=1.0, class_prior=None, fit_prior=True))])"
      ]
     },
     "execution_count": 29,
     "metadata": {},
     "output_type": "execute_result"
    }
   ],
   "source": [
    "nb_pipeline = nb_pipeline.fit(x_train, y_train)\n",
    "nb_pipeline"
   ]
  },
  {
   "cell_type": "code",
   "execution_count": 30,
   "metadata": {},
   "outputs": [
    {
     "data": {
      "text/plain": [
       "0.9557680812910938"
      ]
     },
     "execution_count": 30,
     "metadata": {},
     "output_type": "execute_result"
    }
   ],
   "source": [
    "predicted = nb_pipeline.predict(x_test)\n",
    "np.mean(predicted == y_test)  "
   ]
  },
  {
   "cell_type": "code",
   "execution_count": 31,
   "metadata": {},
   "outputs": [
    {
     "data": {
      "text/plain": [
       "0.9557680812910938"
      ]
     },
     "execution_count": 31,
     "metadata": {},
     "output_type": "execute_result"
    }
   ],
   "source": [
    "# a complete pipeline\n",
    "\n",
    "nb_pipeline = Pipeline([('tfidf', TfidfVectorizer(decode_error ='ignore')), ('clf', MultinomialNB())])\n",
    "nb_pipeline = nb_pipeline.fit(x_train, y_train)\n",
    "predicted = nb_pipeline.predict(x_test)\n",
    "np.mean(predicted == y_test)  "
   ]
  },
  {
   "cell_type": "markdown",
   "metadata": {},
   "source": [
    "## Appendix. Other Classifiers: How to find a better model with different classifiers or classification algorithms?"
   ]
  },
  {
   "cell_type": "markdown",
   "metadata": {},
   "source": [
    "<img src=\"http://scikit-learn.org/stable/_static/ml_map.png\">"
   ]
  },
  {
   "cell_type": "markdown",
   "metadata": {},
   "source": [
    "### kNeighbors Classifier (kNN)\n",
    "- http://scikit-learn.org/stable/modules/generated/sklearn.neighbors.KNeighborsClassifier.html\n",
    "- http://scikit-learn.org/stable/modules/neighbors.html"
   ]
  },
  {
   "cell_type": "code",
   "execution_count": 27,
   "metadata": {
    "scrolled": true
   },
   "outputs": [
    {
     "data": {
      "text/plain": [
       "0.8971906754333533"
      ]
     },
     "execution_count": 27,
     "metadata": {},
     "output_type": "execute_result"
    }
   ],
   "source": [
    "from sklearn.neighbors import KNeighborsClassifier #import algorithm\n",
    "\n",
    "#Include completed pipeline\n",
    "knn_pipeline = Pipeline([('tfidf', TfidfVectorizer(decode_error ='ignore')), ('clf', KNeighborsClassifier())])\n",
    "knn_pipeline = knn_pipeline.fit(x_train, y_train)\n",
    "predicted = knn_pipeline.predict(x_test)\n",
    "np.mean(predicted == y_test)  \n"
   ]
  },
  {
   "cell_type": "markdown",
   "metadata": {},
   "source": [
    "### Support Vector Machine (SVM)\n",
    "- http://scikit-learn.org/stable/modules/svm.html"
   ]
  },
  {
   "cell_type": "code",
   "execution_count": 28,
   "metadata": {},
   "outputs": [
    {
     "data": {
      "text/plain": [
       "0.9838613269575612"
      ]
     },
     "execution_count": 28,
     "metadata": {},
     "output_type": "execute_result"
    }
   ],
   "source": [
    "svm_pipeline = Pipeline([('tfidf', TfidfVectorizer(decode_error ='ignore')), ('clf', SVC(kernel='linear', probability=True))])\n",
    "svm_pipeline = svm_pipeline.fit(x_train, y_train)\n",
    "predicted = svm_pipeline.predict(x_test)\n",
    "np.mean(predicted == y_test)"
   ]
  },
  {
   "cell_type": "markdown",
   "metadata": {},
   "source": [
    "This shows that SVM works best for this dataset. You can use this svm model for model deployment"
   ]
  },
  {
   "cell_type": "code",
   "execution_count": 32,
   "metadata": {},
   "outputs": [
    {
     "name": "stdout",
     "output_type": "stream",
     "text": [
      "0.9838613269575612\n",
      "this processing has taken 6.63398332299224\n"
     ]
    }
   ],
   "source": [
    "# to figure out processing time\n",
    "\n",
    "import timeit\n",
    "start_time = timeit.default_timer()\n",
    "\n",
    "svm_pipeline = Pipeline([('tfidf', TfidfVectorizer(decode_error ='ignore')), ('clf', SVC(kernel='linear', probability=True))])\n",
    "svm_pipeline = svm_pipeline.fit(x_train, y_train)\n",
    "predicted = svm_pipeline.predict(x_test)\n",
    "print(np.mean(predicted == y_test))\n",
    "\n",
    "elapsed = timeit.default_timer() - start_time\n",
    "print(\"%s %s\" % (\"this processing has taken\", elapsed))"
   ]
  },
  {
   "cell_type": "markdown",
   "metadata": {},
   "source": [
    "In my computer the above processing took about 2.63 seconds. How about yours?"
   ]
  },
  {
   "cell_type": "code",
   "execution_count": 30,
   "metadata": {},
   "outputs": [
    {
     "name": "stdout",
     "output_type": "stream",
     "text": [
      "'Free entry in 2 a wkly comp to win FA Cup final tkts 21st May 2005. Text FA to 87121 to receive entry question' => 1\n",
      "'Even my brother is not like to speak with me. They treat me like aids patent.' => 0\n",
      "\"As per your request 'Melle Melle (Oru Minnaminunginte Nurungu Vettam)' has been set as your callertune for all Callers. Press *9\" => 0\n",
      "'hello, thank you' => 0\n",
      "'To claim txt DIS to 87121' => 1\n"
     ]
    }
   ],
   "source": [
    "docs_new = [\"Free entry in 2 a wkly comp to win FA Cup final tkts 21st May 2005. Text FA to 87121 to receive entry question\",\n",
    "            \"Even my brother is not like to speak with me. They treat me like aids patent.\",\n",
    "             \"As per your request 'Melle Melle (Oru Minnaminunginte Nurungu Vettam)' has been set as your callertune for all Callers. Press *9\",\n",
    "            \"hello, thank you\",\n",
    "           \"To claim txt DIS to 87121\"]\n",
    "\n",
    "#unlabeled_tfidf = tfidf_vectorizer.transform(docs_new)\n",
    "predicted = svm_pipeline.predict(docs_new)\n",
    "\n",
    "for doc, category in zip(docs_new, predicted):\n",
    "    print('%r => %s' % (doc, category))"
   ]
  },
  {
   "cell_type": "code",
   "execution_count": 31,
   "metadata": {},
   "outputs": [
    {
     "name": "stdout",
     "output_type": "stream",
     "text": [
      "Free entry in 2 a wkly comp to win FA Cup final tkts 21st May 2005. Text FA to 87121 to receive entry question => [0.01651113 0.98348887]\n",
      "Even my brother is not like to speak with me. They treat me like aids patent. => [0.99897918 0.00102082]\n",
      "As per your request 'Melle Melle (Oru Minnaminunginte Nurungu Vettam)' has been set as your callertune for all Callers. Press *9 => [0.98031493 0.01968507]\n",
      "hello, thank you => [0.98425937 0.01574063]\n",
      "To claim txt DIS to 87121 => [2.36162413e-06 9.99997638e-01]\n"
     ]
    }
   ],
   "source": [
    "#let's find the probability\n",
    "\n",
    "predicted_prob = svm_pipeline.predict_proba(docs_new)\n",
    "\n",
    "for doc, category in zip(docs_new, predicted_prob):\n",
    "    print('%s => %s' % (doc, (category)))"
   ]
  },
  {
   "cell_type": "markdown",
   "metadata": {},
   "source": [
    "## Appendix. Changing Parameters: How to improve this model? How to find a better model? How to deploy the predictive model in practice?"
   ]
  },
  {
   "cell_type": "markdown",
   "metadata": {},
   "source": [
    "### Improving the Naive Bayes-based predictive model by changing parameter values?\n",
    "\n",
    "See the parameters in Naive Bayes classifier\n",
    "\n",
    "- TfidfVectorizer(input=’content’, encoding=’utf-8’, decode_error=’strict’, strip_accents=None, lowercase=True, preprocessor=None, tokenizer=None, analyzer=’word’, stop_words=None, token_pattern=’(?u)\\b\\w\\w+\\b’, ngram_range=(1, 1), max_df=1.0, min_df=1, max_features=None, vocabulary=None, binary=False, dtype=<class ‘numpy.int64’>, norm=’l2’, use_idf=True, smooth_idf=True, sublinear_tf=False)\n",
    "\n",
    "http://scikit-learn.org/stable/modules/generated/sklearn.feature_extraction.text.TfidfVectorizer.html\n",
    "\n",
    "- max_df : float in range [0.0, 1.0] or int, default=1.0 \n",
    "When building the vocabulary ignore terms that have a **document frequency** strictly higher than the given threshold (corpus-specific stop words). If float, the parameter represents a proportion of documents, integer absolute counts. \n",
    "    - For example, max_df = 0.7 ==> This removes words which appear in more than 70% of the corpus (**removing frequent words**).\n",
    "<br><br>    \n",
    "- min_df : float in range [0.0, 1.0] or int, default=1\n",
    "When building the vocabulary ignore terms that have a document frequency strictly lower than the given threshold. This value is also called cut-off in the literature. If float, the parameter represents a proportion of documents, integer absolute counts. \n",
    "    - For example, min_df = 5 ==> This removes words which appear in less than five documents (**removing rare words**)."
   ]
  },
  {
   "cell_type": "markdown",
   "metadata": {},
   "source": [
    "### Using different parameter values (e.g., removing stopwords, using stemming words, using ngrams, removing too frequent words, removing too rare words), the model accuracy can be improved."
   ]
  },
  {
   "cell_type": "code",
   "execution_count": 73,
   "metadata": {},
   "outputs": [
    {
     "data": {
      "text/plain": [
       "0.9665271966527197"
      ]
     },
     "execution_count": 73,
     "metadata": {},
     "output_type": "execute_result"
    }
   ],
   "source": [
    "# removing stopwords\n",
    "\n",
    "nb_pipeline = Pipeline([('tfidf', TfidfVectorizer(decode_error ='ignore', stop_words='english')), ('clf', MultinomialNB())])\n",
    "nb_pipeline = nb_pipeline.fit(x_train, y_train)\n",
    "predicted = nb_pipeline.predict(x_test)\n",
    "np.mean(predicted == y_test)  "
   ]
  },
  {
   "cell_type": "code",
   "execution_count": 74,
   "metadata": {},
   "outputs": [
    {
     "data": {
      "text/plain": [
       "0.9742976688583384"
      ]
     },
     "execution_count": 74,
     "metadata": {},
     "output_type": "execute_result"
    }
   ],
   "source": [
    "# removing stopwords & rare words\n",
    "# min_df=2 argument removes words that appear in 2 or less documents/items\n",
    "\n",
    "nb_pipeline = Pipeline([('tfidf',\n",
    "                         TfidfVectorizer(decode_error ='ignore', stop_words='english', min_df=2)),\n",
    "                        ('clf', MultinomialNB())])\n",
    "nb_pipeline = nb_pipeline.fit(x_train, y_train)\n",
    "predicted = nb_pipeline.predict(x_test)\n",
    "np.mean(predicted == y_test)  "
   ]
  },
  {
   "cell_type": "code",
   "execution_count": 79,
   "metadata": {},
   "outputs": [
    {
     "data": {
      "text/plain": [
       "0.8918111177525403"
      ]
     },
     "execution_count": 79,
     "metadata": {},
     "output_type": "execute_result"
    }
   ],
   "source": [
    "# removing stopwords\n",
    "\n",
    "knn_pipeline = Pipeline([('tfidf',\n",
    "                          TfidfVectorizer(decode_error ='ignore', stop_words='english')),\n",
    "                         ('clf', KNeighborsClassifier())])\n",
    "knn_pipeline = knn_pipeline.fit(x_train, y_train)\n",
    "predicted = knn_pipeline.predict(x_test)\n",
    "np.mean(predicted == y_test)"
   ]
  },
  {
   "cell_type": "code",
   "execution_count": 80,
   "metadata": {},
   "outputs": [
    {
     "data": {
      "text/plain": [
       "0.982068141063957"
      ]
     },
     "execution_count": 80,
     "metadata": {},
     "output_type": "execute_result"
    }
   ],
   "source": [
    "# removing stopwords\n",
    "\n",
    "svm_pipeline = Pipeline([('tfidf',\n",
    "                          TfidfVectorizer(decode_error ='ignore', stop_words='english')),\n",
    "                         ('clf', SVC(kernel='linear', probability=True))])\n",
    "svm_pipeline = svm_pipeline.fit(x_train, y_train)\n",
    "predicted = svm_pipeline.predict(x_test)\n",
    "np.mean(predicted == y_test)"
   ]
  },
  {
   "cell_type": "code",
   "execution_count": 77,
   "metadata": {},
   "outputs": [
    {
     "data": {
      "text/plain": [
       "0.8828451882845189"
      ]
     },
     "execution_count": 77,
     "metadata": {},
     "output_type": "execute_result"
    }
   ],
   "source": [
    "# removing stopwords & using bigram as well\n",
    "# ngram_range=(1,2) compares bigrams \n",
    "\n",
    "knn_pipeline = Pipeline([('tfidf', TfidfVectorizer(decode_error ='ignore', stop_words='english', ngram_range=(1, 2))), ('clf', KNeighborsClassifier())])\n",
    "knn_pipeline = knn_pipeline.fit(x_train, y_train)\n",
    "predicted = knn_pipeline.predict(x_test)\n",
    "np.mean(predicted == y_test)"
   ]
  },
  {
   "cell_type": "code",
   "execution_count": 81,
   "metadata": {},
   "outputs": [
    {
     "data": {
      "text/plain": [
       "0.9838613269575612"
      ]
     },
     "execution_count": 81,
     "metadata": {},
     "output_type": "execute_result"
    }
   ],
   "source": [
    "#SVM is most accurate when you account for: stopwords, ngram(bigrams), and linear regression\n",
    "\n",
    "svm_pipeline = Pipeline([('tfidf',\n",
    "                          TfidfVectorizer(decode_error ='ignore', stop_words='english', ngram_range=(1, 2))),\n",
    "                         ('clf', SVC(kernel='linear', probability=True))])\n",
    "svm_pipeline = svm_pipeline.fit(x_train, y_train)\n",
    "predicted = svm_pipeline.predict(x_test)\n",
    "np.mean(predicted == y_test)"
   ]
  },
  {
   "cell_type": "code",
   "execution_count": null,
   "metadata": {},
   "outputs": [],
   "source": []
  },
  {
   "cell_type": "markdown",
   "metadata": {},
   "source": [
    "It looks like the best model uses **TFIDF (and bigram) with SVM after removing stopwords**"
   ]
  },
  {
   "cell_type": "markdown",
   "metadata": {},
   "source": [
    "### Pipeline with multiple classifiers (or algorithms)\n",
    "- Then, can we test the accuracy of all classifiers at once?"
   ]
  },
  {
   "cell_type": "code",
   "execution_count": 82,
   "metadata": {},
   "outputs": [],
   "source": [
    "classifiers = [MultinomialNB(), KNeighborsClassifier(), SVC(kernel='linear', probability=True)]"
   ]
  },
  {
   "cell_type": "code",
   "execution_count": 84,
   "metadata": {},
   "outputs": [
    {
     "name": "stdout",
     "output_type": "stream",
     "text": [
      "MultinomialNB(alpha=1.0, class_prior=None, fit_prior=True) --> 0.9539748953974896\n",
      " ++++++++++++++++++++++++++++++++++++++++++++++++++++++++ \n",
      "KNeighborsClassifier(algorithm='auto', leaf_size=30, metric='minkowski',\n",
      "           metric_params=None, n_jobs=1, n_neighbors=5, p=2,\n",
      "           weights='uniform') --> 0.8828451882845189\n",
      " ++++++++++++++++++++++++++++++++++++++++++++++++++++++++ \n",
      "SVC(C=1.0, cache_size=200, class_weight=None, coef0=0.0,\n",
      "  decision_function_shape='ovr', degree=3, gamma='auto', kernel='linear',\n",
      "  max_iter=-1, probability=True, random_state=None, shrinking=True,\n",
      "  tol=0.001, verbose=False) --> 0.9838613269575612\n",
      " ++++++++++++++++++++++++++++++++++++++++++++++++++++++++ \n"
     ]
    }
   ],
   "source": [
    "for clf in classifiers:\n",
    "    pipeline = Pipeline([('tfidf', TfidfVectorizer(decode_error ='ignore', stop_words='english', ngram_range=(1, 2))), \n",
    "                         ('clf', clf)])\n",
    "    classifiers_pipeline = pipeline.fit(x_train, y_train)\n",
    "    predicted = classifiers_pipeline.predict(x_test)\n",
    "    print(\"%s --> %s\" % (clf, np.mean(predicted == y_test)))\n",
    "    print(\" ++++++++++++++++++++++++++++++++++++++++++++++++++++++++ \")"
   ]
  },
  {
   "cell_type": "markdown",
   "metadata": {},
   "source": [
    "## Appendix. k-fold Cross validation (CV) \n",
    "\n",
    "### 10-fold CV\n",
    "* The basic idea is that, rather than testing the model quality **only once**, cross validation (or 10-fold CV) tests the model **10 times** with 10 different testing datasets.\n",
    "\n",
    "#### How?\n",
    "* The training (or original) dataset is randomly partitioned into 10 equal sized subsamples (see the figure below). \n",
    "* At each time, one subsample is set aside as the **testing** or **validation dataset** and the other 9 subsamples are used as the training dataset. \n",
    "* A model is built using the training dataset and tested with the testing dataset. This is done 10 times. \n",
    "* This leads to 10 evaluation scores (mean squared error). The final score is based on the average of the scores.\n",
    "\n",
    "<img src=\"https://chrisjmccormick.files.wordpress.com/2013/07/10_fold_cv.png\">\n"
   ]
  },
  {
   "cell_type": "code",
   "execution_count": 87,
   "metadata": {},
   "outputs": [
    {
     "name": "stdout",
     "output_type": "stream",
     "text": [
      "[0.98028674 0.97670251 0.96774194 0.97849462 0.96774194 0.96415771\n",
      " 0.96774194 0.97302158 0.97302158 0.97661871]\n",
      "0.9725529254016141\n"
     ]
    }
   ],
   "source": [
    "# use nb\n",
    "\n",
    "nb_pipeline = Pipeline([('tfidf', TfidfVectorizer(decode_error ='ignore', stop_words='english')), ('clf', MultinomialNB())])\n",
    "nb_pipeline = nb_pipeline.fit(sms_data, sms_labels)\n",
    "\n",
    "scores = cross_val_score(nb_pipeline, sms_data, sms_labels, scoring='accuracy', cv=10)\n",
    "print(scores)\n",
    "print(scores.mean())"
   ]
  },
  {
   "cell_type": "code",
   "execution_count": 88,
   "metadata": {
    "scrolled": true
   },
   "outputs": [
    {
     "name": "stdout",
     "output_type": "stream",
     "text": [
      "[0.90681004 0.91577061 0.91397849 0.90501792 0.90860215 0.90860215\n",
      " 0.90860215 0.91546763 0.91546763 0.92086331]\n",
      "0.9119182073695882\n"
     ]
    }
   ],
   "source": [
    "# use knn\n",
    "\n",
    "knn_pipeline = Pipeline([('tfidf', TfidfVectorizer(decode_error ='ignore', stop_words='english')), ('clf', KNeighborsClassifier())])\n",
    "knn_pipeline = knn_pipeline.fit(sms_data, sms_labels)\n",
    "\n",
    "scores = cross_val_score(knn_pipeline, sms_data, sms_labels, scoring='accuracy', cv=10)\n",
    "print(scores)\n",
    "print(scores.mean())\n",
    "\n"
   ]
  },
  {
   "cell_type": "code",
   "execution_count": 90,
   "metadata": {},
   "outputs": [
    {
     "name": "stdout",
     "output_type": "stream",
     "text": [
      "[0.99103943 0.98028674 0.9874552  0.99103943 0.98207885 0.98387097\n",
      " 0.98566308 0.98201439 0.98741007 0.98741007]\n",
      "0.9858268224130372\n",
      "this processing has taken 77.93409132617728\n"
     ]
    }
   ],
   "source": [
    "import timeit\n",
    "start_time = timeit.default_timer()\n",
    "\n",
    "svm_pipeline = Pipeline([('tfidf', TfidfVectorizer(decode_error ='ignore', stop_words='english', ngram_range=(1, 2))), ('clf', SVC(kernel='linear', probability=True))])\n",
    "svm_pipeline = svm_pipeline.fit(sms_data, sms_labels)\n",
    "\n",
    "scores = cross_val_score(svm_pipeline, sms_data, sms_labels, scoring='accuracy', cv=10)\n",
    "print(scores)\n",
    "print(scores.mean())\n",
    "\n",
    "elapsed = timeit.default_timer() - start_time\n",
    "print(\"%s %s\" % (\"this processing has taken\", elapsed))"
   ]
  },
  {
   "cell_type": "markdown",
   "metadata": {},
   "source": [
    "This process has taken 72 seconds in my machine. "
   ]
  },
  {
   "cell_type": "markdown",
   "metadata": {},
   "source": [
    "## Appendix. Parameter tuning using Grid Search (Requiring high computational power!!!) \n",
    "## Warning: This process is likely to slow down your computer"
   ]
  },
  {
   "cell_type": "markdown",
   "metadata": {},
   "source": [
    "\" We’ve already encountered some parameters such as stopwords and ngram in the TfidfTransformer. Classifiers tend to have many parameters as well; e.g., MultinomialNB includes a smoothing parameter alpha and SGDClassifier has a penalty parameter alpha and configurable loss and penalty terms in the objective function (see the module documentation, or use the Python help function, to get a description of these).\n",
    "\n",
    "Instead of tweaking the parameters of the various components of the chain, it is possible to run an exhaustive search of the best parameters on a grid of possible values. We try out all classifiers on either words or bigrams, with or without idf, and with a penalty parameter of either 0.01 or 0.001 for the linear SVM:\"\n",
    "\n",
    "http://scikit-learn.org/stable/tutorial/text_analytics/working_with_text_data.html"
   ]
  },
  {
   "cell_type": "code",
   "execution_count": 91,
   "metadata": {},
   "outputs": [],
   "source": [
    "nb_pipeline = Pipeline([('tfidf', TfidfVectorizer(decode_error ='ignore', stop_words='english')), ('clf', MultinomialNB())])"
   ]
  },
  {
   "cell_type": "code",
   "execution_count": 92,
   "metadata": {},
   "outputs": [],
   "source": [
    "parameters = {'tfidf__ngram_range': [(1, 1), (1, 2), (1, 3)],\n",
    "              'tfidf__min_df': [1, 2, 5],\n",
    "              'tfidf__max_df': [0.9, 0.8, 0.7],\n",
    "              'clf__alpha': (0.01, 0.001, 1),\n",
    "}"
   ]
  },
  {
   "cell_type": "markdown",
   "metadata": {},
   "source": [
    "**TfidfVectorizer** \n",
    "\n",
    "- ngram_range : tuple (min_n, max_n)\n",
    "    - The lower and upper boundary of the range of n-values for different n-grams to be extracted. All values of n such that min_n <= n <= max_n will be used.\n",
    "\n",
    "- min_df : float in range [0.0, 1.0] or int, default=1\n",
    "    - When building the vocabulary ignore terms that have a document frequency strictly lower than the given threshold. This value is also called cut-off in the literature. If float, the parameter represents a proportion of documents, integer absolute counts.\n",
    "\n",
    "http://scikit-learn.org/stable/modules/generated/sklearn.feature_extraction.text.TfidfVectorizer.html\n",
    "\n",
    "**MultinomialNB()** MultinomialNB(alpha=1.0, fit_prior=True, class_prior=None)\n",
    "\n",
    "- alpha : float, optional (default=1.0)\n",
    "    - Additive (Laplace/Lidstone) smoothing parameter (0 for no smoothing).\n",
    "\n",
    "http://scikit-learn.org/stable/modules/generated/sklearn.naive_bayes.MultinomialNB.html"
   ]
  },
  {
   "cell_type": "code",
   "execution_count": 93,
   "metadata": {},
   "outputs": [
    {
     "data": {
      "text/plain": [
       "GridSearchCV(cv=None, error_score='raise',\n",
       "       estimator=Pipeline(memory=None,\n",
       "     steps=[('tfidf', TfidfVectorizer(analyzer='word', binary=False, decode_error='ignore',\n",
       "        dtype=<class 'numpy.int64'>, encoding='utf-8', input='content',\n",
       "        lowercase=True, max_df=1.0, max_features=None, min_df=1,\n",
       "        ngram_range=(1, 1), norm='l2', preprocessor=None, smooth_idf=True,\n",
       " ...rue,\n",
       "        vocabulary=None)), ('clf', MultinomialNB(alpha=1.0, class_prior=None, fit_prior=True))]),\n",
       "       fit_params=None, iid=True, n_jobs=1,\n",
       "       param_grid={'tfidf__ngram_range': [(1, 1), (1, 2), (1, 3)], 'tfidf__min_df': [1, 2, 5], 'tfidf__max_df': [0.9, 0.8, 0.7], 'clf__alpha': (0.01, 0.001, 1)},\n",
       "       pre_dispatch='2*n_jobs', refit=True, return_train_score='warn',\n",
       "       scoring=None, verbose=0)"
      ]
     },
     "execution_count": 93,
     "metadata": {},
     "output_type": "execute_result"
    }
   ],
   "source": [
    "gs_clf = GridSearchCV(nb_pipeline, parameters)\n",
    "gs_clf.fit(x_train, y_train)"
   ]
  },
  {
   "cell_type": "code",
   "execution_count": 94,
   "metadata": {},
   "outputs": [
    {
     "data": {
      "text/plain": [
       "0.9864137400666496"
      ]
     },
     "execution_count": 94,
     "metadata": {},
     "output_type": "execute_result"
    }
   ],
   "source": [
    "gs_clf.best_score_"
   ]
  },
  {
   "cell_type": "code",
   "execution_count": 95,
   "metadata": {},
   "outputs": [
    {
     "name": "stdout",
     "output_type": "stream",
     "text": [
      "clf__alpha: 0.01\n",
      "tfidf__max_df: 0.9\n",
      "tfidf__min_df: 1\n",
      "tfidf__ngram_range: (1, 2)\n"
     ]
    }
   ],
   "source": [
    "for param_name in sorted(parameters.keys()):\n",
    "    print(\"%s: %r\" % (param_name, gs_clf.best_params_[param_name]))"
   ]
  },
  {
   "cell_type": "markdown",
   "metadata": {},
   "source": [
    "Now, we can use the best model recommended by gridsearch."
   ]
  },
  {
   "cell_type": "code",
   "execution_count": 96,
   "metadata": {},
   "outputs": [
    {
     "data": {
      "text/plain": [
       "0.9814704124327556"
      ]
     },
     "execution_count": 96,
     "metadata": {},
     "output_type": "execute_result"
    }
   ],
   "source": [
    "# split validation\n",
    "\n",
    "nb_pipeline = Pipeline([('tfidf', TfidfVectorizer(decode_error='ignore', stop_words='english', min_df=1, \n",
    "                                                  ngram_range=(1,2), max_df=0.9)), \n",
    "                        ('clf', MultinomialNB(alpha=0.01))])\n",
    "nb_pipeline = nb_pipeline.fit(x_train, y_train)\n",
    "predicted = nb_pipeline.predict(x_test)\n",
    "np.mean(predicted == y_test) "
   ]
  },
  {
   "cell_type": "code",
   "execution_count": 98,
   "metadata": {},
   "outputs": [
    {
     "name": "stdout",
     "output_type": "stream",
     "text": [
      "[0.99462366 0.98207885 0.98924731 0.98924731 0.97849462 0.98387097\n",
      " 0.98566308 0.98741007 0.98021583 0.98920863]\n",
      "0.9860060338825715\n"
     ]
    }
   ],
   "source": [
    "# 10 fold cross validation\n",
    "\n",
    "nb_pipeline = Pipeline([('tfidf', TfidfVectorizer(decode_error='ignore', stop_words='english', min_df=1, \n",
    "                                                  ngram_range=(1,2), max_df=0.9)), \n",
    "                        ('clf', MultinomialNB(alpha=0.01))])\n",
    "nb_pipeline = nb_pipeline.fit(sms_data, sms_labels)\n",
    "\n",
    "scores = cross_val_score(nb_pipeline, sms_data, sms_labels, scoring='accuracy', cv=10)\n",
    "print(scores)\n",
    "print(scores.mean())"
   ]
  },
  {
   "cell_type": "markdown",
   "metadata": {},
   "source": [
    "## Appendix get most informative features for scikit-learn classifier (Naive Bayes) for different class?"
   ]
  },
  {
   "cell_type": "code",
   "execution_count": 99,
   "metadata": {},
   "outputs": [],
   "source": [
    "# since we know the parameters for the best NB model, let's initialize TfidfVectorizer again\n",
    "\n",
    "tfidf_vectorizer = TfidfVectorizer(decode_error='ignore', stop_words='english', min_df=1, ngram_range=(1,2), max_df=0.9)"
   ]
  },
  {
   "cell_type": "code",
   "execution_count": 100,
   "metadata": {},
   "outputs": [
    {
     "data": {
      "text/plain": [
       "(4459, 4459, 1115, 1115)"
      ]
     },
     "execution_count": 100,
     "metadata": {},
     "output_type": "execute_result"
    }
   ],
   "source": [
    "# split validation again\n",
    "\n",
    "x_train, x_test, y_train, y_test = train_test_split(sms_data, sms_labels, test_size=0.2, random_state=0)\n",
    "len(x_train), len(y_train), len(x_test), len(y_test)"
   ]
  },
  {
   "cell_type": "code",
   "execution_count": 101,
   "metadata": {},
   "outputs": [],
   "source": [
    "# transform traing data and testing data to tfidf format \n",
    "\n",
    "X_train = tfidf_vectorizer.fit_transform(x_train)\n",
    "X_test = tfidf_vectorizer.transform(x_test)"
   ]
  },
  {
   "cell_type": "code",
   "execution_count": 103,
   "metadata": {},
   "outputs": [
    {
     "name": "stdout",
     "output_type": "stream",
     "text": [
      "(4459, 31554)\n",
      "(1115, 31554)\n"
     ]
    }
   ],
   "source": [
    "# now we have more vectors due to bi-grams\n",
    "print(X_train.shape)\n",
    "print(X_test.shape)"
   ]
  },
  {
   "cell_type": "code",
   "execution_count": null,
   "metadata": {},
   "outputs": [],
   "source": [
    "print tfidf_vectorizer.get_feature_names()[0:5]\n",
    "print tfidf_vectorizer.get_feature_names()[-5:]"
   ]
  },
  {
   "cell_type": "code",
   "execution_count": 104,
   "metadata": {},
   "outputs": [
    {
     "data": {
      "text/plain": [
       "0.9533632286995516"
      ]
     },
     "execution_count": 104,
     "metadata": {},
     "output_type": "execute_result"
    }
   ],
   "source": [
    "nb = MultinomialNB().fit(X_train, y_train)\n",
    "\n",
    "predicted = nb.predict(X_test)\n",
    "np.mean(predicted == y_test)  "
   ]
  },
  {
   "cell_type": "code",
   "execution_count": 106,
   "metadata": {},
   "outputs": [
    {
     "data": {
      "image/png": "[encoded data removed]",
      "text/plain": [
       "<Figure size 432x288 with 1 Axes>"
      ]
     },
     "metadata": {},
     "output_type": "display_data"
    }
   ],
   "source": [
    "probas = nb.predict_proba(X_test)\n",
    "skplt.metrics.plot_roc(y_true=y_test, y_probas=probas)\n",
    "plt.show()"
   ]
  },
  {
   "cell_type": "code",
   "execution_count": 109,
   "metadata": {},
   "outputs": [
    {
     "name": "stdout",
     "output_type": "stream",
     "text": [
      "0 -10.452933789790448 000pes\n",
      "0 -10.452933789790448 000pes 48\n",
      "0 -10.452933789790448 0125698789\n",
      "0 -10.452933789790448 0125698789 ring\n",
      "0 -10.452933789790448 0quit\n",
      "0 -10.452933789790448 0quit edrunk\n",
      "0 -10.452933789790448 10 1mega\n",
      "0 -10.452933789790448 10 den\n",
      "0 -10.452933789790448 10 did\n",
      "0 -10.452933789790448 10 evey\n",
      "=========================================\n",
      "1 -7.550702919931535 free\n",
      "1 -7.81223633053982 txt\n",
      "1 -7.890726461354635 mobile\n",
      "1 -8.014208044609424 stop\n",
      "1 -8.020512176333012 claim\n",
      "1 -8.02266882123961 text\n",
      "1 -8.038482950181008 ur\n",
      "1 -8.092133690586532 prize\n",
      "1 -8.143649163112967 reply\n",
      "1 -8.185761160649694 www\n"
     ]
    }
   ],
   "source": [
    "#https://stackoverflow.com/questions/26976362/how-to-get-most-informative-features-for-scikit-learn-classifier-for-different-c\n",
    "\n",
    "def most_informative_feature_for_binanry_classification(vectorizer, classifier, n=50):\n",
    "    \n",
    "    class_labels = classifier.classes_\n",
    "    feature_names = vectorizer.get_feature_names()\n",
    "    topn_class1 = sorted(zip(classifier.coef_[0], feature_names))[:n]\n",
    "    topn_class2 = sorted(zip(classifier.coef_[0], feature_names))[-n:]\n",
    "\n",
    "    for coef, feat in topn_class1:\n",
    "        print(class_labels[0], coef, feat)\n",
    "\n",
    "    print(\"=========================================\")\n",
    "\n",
    "    for coef, feat in reversed(topn_class2):\n",
    "        print(class_labels[1], coef, feat)\n",
    "\n",
    "\n",
    "most_informative_feature_for_binanry_classification(tfidf_vectorizer, nb, n=10)"
   ]
  },
  {
   "cell_type": "markdown",
   "metadata": {},
   "source": [
    "It appears **spam** mails tend to contain such terms as **free, claim, prize, reply, ... **"
   ]
  },
  {
   "cell_type": "markdown",
   "metadata": {},
   "source": [
    "# References\n",
    "\n",
    "- http://scikit-learn.org/stable/tutorial/text_analytics/working_with_text_data.html\n",
    "- http://scikit-learn.org/stable/modules/generated/sklearn.naive_bayes.MultinomialNB.html (Naive Bayes)\n",
    "- http://scikit-learn.org/stable/modules/generated/sklearn.neighbors.KNeighborsClassifier.html (KNN)\n",
    "- http://scikit-learn.org/stable/modules/generated/sklearn.svm.SVC.html (SVM)\n",
    "- https://stackoverflow.com/questions/26976362/how-to-get-most-informative-features-for-scikit-learn-classifier-for-different-c"
   ]
  },
  {
   "cell_type": "markdown",
   "metadata": {},
   "source": [
    "# Neural Network using SVM"
   ]
  },
  {
   "cell_type": "code",
   "execution_count": 32,
   "metadata": {},
   "outputs": [],
   "source": [
    "#SVM Neural Network Method\n",
    "\n",
    "from sklearn.neural_network import MLPClassifier"
   ]
  },
  {
   "cell_type": "code",
   "execution_count": 33,
   "metadata": {},
   "outputs": [],
   "source": [
    "clf = MLPClassifier(solver='lbfgs', alpha=1e-5, hidden_layer_sizes=(5, 2), random_state=1)"
   ]
  },
  {
   "cell_type": "code",
   "execution_count": 34,
   "metadata": {},
   "outputs": [
    {
     "data": {
      "text/plain": [
       "0.9796772265391512"
      ]
     },
     "execution_count": 34,
     "metadata": {},
     "output_type": "execute_result"
    }
   ],
   "source": [
    "NN_pipeline = Pipeline([('tfidf',\n",
    "                          TfidfVectorizer(decode_error ='ignore', stop_words='english', ngram_range=(1, 2))),\n",
    "                         ('clf', clf)])\n",
    "NN_pipeline = NN_pipeline.fit(x_train, y_train)\n",
    "predicted = NN_pipeline.predict(x_test)\n",
    "np.mean(predicted == y_test)"
   ]
  },
  {
   "cell_type": "markdown",
   "metadata": {},
   "source": [
    "# Understanding Theory of Models"
   ]
  },
  {
   "cell_type": "markdown",
   "metadata": {},
   "source": [
    "TLDR, what I think are the most important factors of KNN vs NB:<br>\n",
    "KNN is bad if you have too many data points and speed is important.<br>\n",
    "NB is bad if (you know that) not having conditional independence in your data will have a highly negative influence on classification, or if (you know that) the decision boundary is not linear / not elliptic / not parabolic."
   ]
  },
  {
   "cell_type": "markdown",
   "metadata": {},
   "source": [
    "### I can only think of three more advantages to KNN over NB:\n",
    "- KNN's decision boundary can take on any form\n",
    "\n",
    "This is because KNN is non-parametric, i.e. it makes no assumption about the data distribution. Contrast this to NB, which assumes that attributes are conditionally independent to each other given the class, and are normally distributed (for real-valued attributes). As a result, NB can only have linear, elliptic, or parabolic decision boundaries, which makes the flexibility of KNN's decision boundary a huge advantage. But of course, if your data is separable by any of the form of NB's - -decision boundaries, then KNN is not going to help much.\n",
    "\n",
    "- Naive Bayes can be fooled by correlated attributes\n",
    "\n",
    "Imagine we have two attributes, A and B, and assume a two-class classification problem. Suppose that P(A|C1) = P(A|C2) and P(B|C1) = P(B|C2); that is marginal distributions of A and B in both classes are the same. In this case, NB can't classify data points as it relies on marginal distribution of attributes given class to do classification. If the distinguishing characteristic for classification is not the marginal distributions but correlation, then NB won't be a good choice. An example is when in class 1 A is positively correlated with B whereas in class 2 they are negatively correlated.<br><br>\n",
    "- Naive Bayes can be fooled by zero frequencies\n",
    "\n",
    "You have a zero frequency problem when you don't observe a count-valued attribute for a particular class. This is a common problem in text classification, e.g. you see many occurrences of the word \"password\" in spam class, but you don't observe \"password\" in non-spam class. As a result, any new data point which contains a zero-frequency attribute will be always classified as the other class, e.g. any email which contains \"password\" will always be classified as spam, the reason being P(password|non-spam) = 0. Simple solutions exist for this problem, though, for example, Laplace or add-one smoothing.</span>\n",
    "\n",
    "\n",
    "### In addition, here are cons of KNN, so you'd know when not to choose KNN over NB:\n",
    "- KNN doesn't know which attributes are more important\n",
    "\n",
    "When computing distance between data points (usually Euclidean distance or other generalisations of it), each attribute normally weighs the same to the total distance. This means that attributes which are not so important will have the same influence on the distance compared to more important attributes.\n",
    "\n",
    "- Non-parametric, and thus not as interpretable as NB\n",
    "\n",
    "NB may not be the most interpretable model for classification, but arguably it is more interpretable than KNN. With KNN you can't really answer question like \"Why is this data point classified as class A?\" or \"What is the relationship between this attribute and the class distribution?\"\n",
    "\n",
    "- Doesn't handle missing data gracefully\n",
    "\n",
    "NB is one of the classifiers that handle missing data very well: it just excludes the attribute with missing data when computing posterior probability (i.e. probability of class given data point). With KNN, you can't do classification if you have missing data. The reason is that distance is undefined if one or more of attributes (which are essentially dimensions) are missing, unless you are willing to omit these attributes when computing distance. You thus have to rely on common solutions for missing data, e.g. imputing average values.\n",
    "\n",
    "- Have to tune K\n",
    "\n",
    "KNN have one parameter more than NB: the number of neighbours K (NB has no obvious parameter). This means you need to do model selection for KNN in order to determine the best K, either with training-validation split or cross-validation.\n",
    "Slow during prediction (not training)\n",
    "<br><br>\n",
    "<b>You should definitely not use KNN when you have a very large number of data points; although you can get around this problem a little by using KD trees, inverted lists, or hashing. What an irony since KNN is asymptotically correct (always correct if you have infinitely many data points with no noise)."
   ]
  },
  {
   "cell_type": "code",
   "execution_count": null,
   "metadata": {},
   "outputs": [],
   "source": []
  }
 ],
 "metadata": {
  "kernelspec": {
   "display_name": "Python 3",
   "language": "python",
   "name": "python3"
  },
  "language_info": {
   "codemirror_mode": {
    "name": "ipython",
    "version": 3
   },
   "file_extension": ".py",
   "mimetype": "text/x-python",
   "name": "python",
   "nbconvert_exporter": "python",
   "pygments_lexer": "ipython3",
   "version": "3.6.5"
  }
 },
 "nbformat": 4,
 "nbformat_minor": 1
}
