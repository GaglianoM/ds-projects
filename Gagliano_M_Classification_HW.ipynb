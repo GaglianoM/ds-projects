{
 "cells": [
  {
   "cell_type": "markdown",
   "metadata": {},
   "source": [
    "<h1 style=\"text-align: center;\"><span style=\"color: #333399;\">MIS670 Classification Modeling HW: Various ML Applications</span></h1>\n",
    "<h6 style=\"text-align: center;\">Created by: Michael Gagliano on 10/18/2018</h6>\n",
    "<h6 style=\"text-align: center;\">\"K-State Honor Code \"On my honor, as a student, I have neither given nor received unauthorized aid on this academic work.</h6>"
   ]
  },
  {
   "cell_type": "code",
   "execution_count": 175,
   "metadata": {},
   "outputs": [],
   "source": [
    "%matplotlib inline\n",
    "import nltk\n",
    "import matplotlib.pyplot as plt\n",
    "import csv\n",
    "import pandas as pd\n",
    "import sklearn\n",
    "import numpy as np\n",
    "import requests as req #Pulls the data via URL\n",
    "from lxml import html #Xpath manipulation\n",
    "import re #Regular Expression to target specific parent:child nodes \n",
    "from collections import Counter\n",
    "\n",
    "# feature engineering (words to vectors)\n",
    "from sklearn.feature_extraction.text import TfidfVectorizer\n",
    "\n",
    "# classification algorithms (or classifiers)\n",
    "from sklearn.naive_bayes import MultinomialNB\n",
    "from sklearn.neighbors import KNeighborsClassifier\n",
    "from sklearn.svm import SVC, LinearSVC\n",
    "\n",
    "# build a pipeline\n",
    "from sklearn.pipeline import Pipeline\n",
    "\n",
    "# model evaluation, validation\n",
    "from sklearn.metrics import classification_report, f1_score, accuracy_score, confusion_matrix\n",
    "from sklearn.model_selection import StratifiedKFold, cross_val_score, train_test_split, GridSearchCV \n",
    "from sklearn import metrics\n",
    "from sklearn.metrics import roc_curve, auc\n",
    "\n",
    "#pip install scikit-plot \n",
    "import scikitplot as skplt\n",
    "\n",
    "#Stopwords\n",
    "from nltk.corpus import stopwords\n",
    "stopwords = stopwords.words('english')"
   ]
  },
  {
   "cell_type": "markdown",
   "metadata": {},
   "source": [
    "<h1 style=\"text-align: center;\">1. Data Extraction and Pre-Processing </span>"
   ]
  },
  {
   "cell_type": "markdown",
   "metadata": {},
   "source": [
    "## Scraping and Importing HR Recruiting Data (650 Items)"
   ]
  },
  {
   "cell_type": "code",
   "execution_count": 126,
   "metadata": {},
   "outputs": [
    {
     "data": {
      "text/plain": [
       "614"
      ]
     },
     "execution_count": 126,
     "metadata": {},
     "output_type": "execute_result"
    }
   ],
   "source": [
    "web = \"https://www.workforce.com/topics/Recruitment/page/%s\" #20 reviews per page == 10 pages\n",
    "\n",
    "alldata =[]\n",
    "\n",
    "for page in range(1, 65):\n",
    "    url = web % page\n",
    "    data = html.fromstring(req.get(url).text)\n",
    "#xpath\n",
    "    for i in data.xpath('//article'):\n",
    "        rev = i.xpath('div/div[@class=\"tm-article-content\"]/text() | div/div[@class=\"tm-article-content\"]/p/text()')\n",
    "        alldata.append([rev])      \n",
    "    \n",
    "len(alldata)"
   ]
  },
  {
   "cell_type": "markdown",
   "metadata": {},
   "source": [
    "<b>There are only 614 Total Reviews to pull from this website regarding recruitment articles"
   ]
  },
  {
   "cell_type": "code",
   "execution_count": 188,
   "metadata": {},
   "outputs": [
    {
     "name": "stdout",
     "output_type": "stream",
     "text": [
      "<class 'pandas.core.frame.DataFrame'>\n",
      "RangeIndex: 614 entries, 0 to 613\n",
      "Data columns (total 1 columns):\n",
      "0    614 non-null object\n",
      "dtypes: object(1)\n",
      "memory usage: 4.9+ KB\n"
     ]
    }
   ],
   "source": [
    "df = pd.DataFrame(alldata)\n",
    "df.to_csv('hr_data_test.csv')\n",
    "df.info()"
   ]
  },
  {
   "cell_type": "code",
   "execution_count": 189,
   "metadata": {},
   "outputs": [
    {
     "data": {
      "text/html": [
       "<div>\n",
       "<style scoped>\n",
       "    .dataframe tbody tr th:only-of-type {\n",
       "        vertical-align: middle;\n",
       "    }\n",
       "\n",
       "    .dataframe tbody tr th {\n",
       "        vertical-align: top;\n",
       "    }\n",
       "\n",
       "    .dataframe thead th {\n",
       "        text-align: right;\n",
       "    }\n",
       "</style>\n",
       "<table border=\"1\" class=\"dataframe\">\n",
       "  <thead>\n",
       "    <tr style=\"text-align: right;\">\n",
       "      <th></th>\n",
       "      <th>0</th>\n",
       "    </tr>\n",
       "  </thead>\n",
       "  <tbody>\n",
       "    <tr>\n",
       "      <th>0</th>\n",
       "      <td>[SSM Health, Choptank Transport Inc. and ReedT...</td>\n",
       "    </tr>\n",
       "    <tr>\n",
       "      <th>1</th>\n",
       "      <td>[AMB Group, LLC hired and trained 4,000 new em...</td>\n",
       "    </tr>\n",
       "    <tr>\n",
       "      <th>2</th>\n",
       "      <td>[Sporting events during the work week can be a...</td>\n",
       "    </tr>\n",
       "    <tr>\n",
       "      <th>3</th>\n",
       "      <td>[Gen Z is changing the workplace with their li...</td>\n",
       "    </tr>\n",
       "    <tr>\n",
       "      <th>4</th>\n",
       "      <td>[The acquisition of Glint complements LinkedIn...</td>\n",
       "    </tr>\n",
       "  </tbody>\n",
       "</table>\n",
       "</div>"
      ],
      "text/plain": [
       "                                                   0\n",
       "0  [SSM Health, Choptank Transport Inc. and ReedT...\n",
       "1  [AMB Group, LLC hired and trained 4,000 new em...\n",
       "2  [Sporting events during the work week can be a...\n",
       "3  [Gen Z is changing the workplace with their li...\n",
       "4  [The acquisition of Glint complements LinkedIn..."
      ]
     },
     "execution_count": 189,
     "metadata": {},
     "output_type": "execute_result"
    }
   ],
   "source": [
    "df.head()"
   ]
  },
  {
   "cell_type": "code",
   "execution_count": 190,
   "metadata": {},
   "outputs": [
    {
     "data": {
      "text/html": [
       "<div>\n",
       "<style scoped>\n",
       "    .dataframe tbody tr th:only-of-type {\n",
       "        vertical-align: middle;\n",
       "    }\n",
       "\n",
       "    .dataframe tbody tr th {\n",
       "        vertical-align: top;\n",
       "    }\n",
       "\n",
       "    .dataframe thead th {\n",
       "        text-align: right;\n",
       "    }\n",
       "</style>\n",
       "<table border=\"1\" class=\"dataframe\">\n",
       "  <thead>\n",
       "    <tr style=\"text-align: right;\">\n",
       "      <th></th>\n",
       "      <th>review</th>\n",
       "      <th>is_hr</th>\n",
       "    </tr>\n",
       "  </thead>\n",
       "  <tbody>\n",
       "    <tr>\n",
       "      <th>0</th>\n",
       "      <td>SSM Health, Choptank Transport Inc. and ReedTM...</td>\n",
       "      <td>1</td>\n",
       "    </tr>\n",
       "    <tr>\n",
       "      <th>1</th>\n",
       "      <td>AMB Group, LLC hired and trained 4,000 new emp...</td>\n",
       "      <td>1</td>\n",
       "    </tr>\n",
       "    <tr>\n",
       "      <th>2</th>\n",
       "      <td>Sporting events during the work week can be a ...</td>\n",
       "      <td>1</td>\n",
       "    </tr>\n",
       "    <tr>\n",
       "      <th>3</th>\n",
       "      <td>Gen Z is changing the workplace with their lif...</td>\n",
       "      <td>1</td>\n",
       "    </tr>\n",
       "    <tr>\n",
       "      <th>4</th>\n",
       "      <td>The acquisition of Glint complements LinkedIn’...</td>\n",
       "      <td>1</td>\n",
       "    </tr>\n",
       "  </tbody>\n",
       "</table>\n",
       "</div>"
      ],
      "text/plain": [
       "                                              review  is_hr\n",
       "0  SSM Health, Choptank Transport Inc. and ReedTM...      1\n",
       "1  AMB Group, LLC hired and trained 4,000 new emp...      1\n",
       "2  Sporting events during the work week can be a ...      1\n",
       "3  Gen Z is changing the workplace with their lif...      1\n",
       "4  The acquisition of Glint complements LinkedIn’...      1"
      ]
     },
     "execution_count": 190,
     "metadata": {},
     "output_type": "execute_result"
    }
   ],
   "source": [
    "df['is_hr'] = 1 #add column indicating classification\n",
    "df.rename(columns = {0 : 'review', 1: 'is_hr'}, inplace = True) #change column names\n",
    "df['review'] = df['review'].apply(', '.join) #remove brackets\n",
    "df.head()"
   ]
  },
  {
   "cell_type": "markdown",
   "metadata": {},
   "source": [
    "## Importing Movie Review Data (150 items)"
   ]
  },
  {
   "cell_type": "code",
   "execution_count": 191,
   "metadata": {},
   "outputs": [
    {
     "data": {
      "text/html": [
       "<div>\n",
       "<style scoped>\n",
       "    .dataframe tbody tr th:only-of-type {\n",
       "        vertical-align: middle;\n",
       "    }\n",
       "\n",
       "    .dataframe tbody tr th {\n",
       "        vertical-align: top;\n",
       "    }\n",
       "\n",
       "    .dataframe thead th {\n",
       "        text-align: right;\n",
       "    }\n",
       "</style>\n",
       "<table border=\"1\" class=\"dataframe\">\n",
       "  <thead>\n",
       "    <tr style=\"text-align: right;\">\n",
       "      <th></th>\n",
       "      <th>review</th>\n",
       "      <th>is_hr</th>\n",
       "    </tr>\n",
       "  </thead>\n",
       "  <tbody>\n",
       "    <tr>\n",
       "      <th>0</th>\n",
       "      <td>I have never seen such an amazing film since I...</td>\n",
       "      <td>0</td>\n",
       "    </tr>\n",
       "    <tr>\n",
       "      <th>1</th>\n",
       "      <td>Tell me a movie that is more famous than this....</td>\n",
       "      <td>0</td>\n",
       "    </tr>\n",
       "    <tr>\n",
       "      <th>2</th>\n",
       "      <td>The original Godfather is a brilliant work. It...</td>\n",
       "      <td>0</td>\n",
       "    </tr>\n",
       "    <tr>\n",
       "      <th>3</th>\n",
       "      <td>I couldn't believe \"The Dark knight\" could liv...</td>\n",
       "      <td>0</td>\n",
       "    </tr>\n",
       "    <tr>\n",
       "      <th>4</th>\n",
       "      <td>Spielberg is now the Numero Uno director of sc...</td>\n",
       "      <td>0</td>\n",
       "    </tr>\n",
       "  </tbody>\n",
       "</table>\n",
       "</div>"
      ],
      "text/plain": [
       "                                              review  is_hr\n",
       "0  I have never seen such an amazing film since I...      0\n",
       "1  Tell me a movie that is more famous than this....      0\n",
       "2  The original Godfather is a brilliant work. It...      0\n",
       "3  I couldn't believe \"The Dark knight\" could liv...      0\n",
       "4  Spielberg is now the Numero Uno director of sc...      0"
      ]
     },
     "execution_count": 191,
     "metadata": {},
     "output_type": "execute_result"
    }
   ],
   "source": [
    "df2 = pd.read_csv('rev.csv', header = None )\n",
    "df2.rename(columns = {0 : 'review'}, inplace = True)\n",
    "df2['is_hr'] = 0\n",
    "df2.head()"
   ]
  },
  {
   "cell_type": "markdown",
   "metadata": {},
   "source": [
    "## Merging Dataframes to a single Train Dataset"
   ]
  },
  {
   "cell_type": "code",
   "execution_count": 192,
   "metadata": {},
   "outputs": [
    {
     "data": {
      "text/html": [
       "<div>\n",
       "<style scoped>\n",
       "    .dataframe tbody tr th:only-of-type {\n",
       "        vertical-align: middle;\n",
       "    }\n",
       "\n",
       "    .dataframe tbody tr th {\n",
       "        vertical-align: top;\n",
       "    }\n",
       "\n",
       "    .dataframe thead th {\n",
       "        text-align: right;\n",
       "    }\n",
       "</style>\n",
       "<table border=\"1\" class=\"dataframe\">\n",
       "  <thead>\n",
       "    <tr style=\"text-align: right;\">\n",
       "      <th></th>\n",
       "      <th>review</th>\n",
       "      <th>is_hr</th>\n",
       "    </tr>\n",
       "  </thead>\n",
       "  <tbody>\n",
       "    <tr>\n",
       "      <th>610</th>\n",
       "      <td>You don’t need an HR drone; you need stellar t...</td>\n",
       "      <td>1</td>\n",
       "    </tr>\n",
       "    <tr>\n",
       "      <th>611</th>\n",
       "      <td>One 31-question survey used by Ceridian for it...</td>\n",
       "      <td>1</td>\n",
       "    </tr>\n",
       "    <tr>\n",
       "      <th>612</th>\n",
       "      <td>It looks like nothing was found at this locati...</td>\n",
       "      <td>1</td>\n",
       "    </tr>\n",
       "    <tr>\n",
       "      <th>613</th>\n",
       "      <td>It looks like nothing was found at this locati...</td>\n",
       "      <td>1</td>\n",
       "    </tr>\n",
       "    <tr>\n",
       "      <th>614</th>\n",
       "      <td>I have never seen such an amazing film since I...</td>\n",
       "      <td>0</td>\n",
       "    </tr>\n",
       "    <tr>\n",
       "      <th>615</th>\n",
       "      <td>Tell me a movie that is more famous than this....</td>\n",
       "      <td>0</td>\n",
       "    </tr>\n",
       "    <tr>\n",
       "      <th>616</th>\n",
       "      <td>The original Godfather is a brilliant work. It...</td>\n",
       "      <td>0</td>\n",
       "    </tr>\n",
       "    <tr>\n",
       "      <th>617</th>\n",
       "      <td>I couldn't believe \"The Dark knight\" could liv...</td>\n",
       "      <td>0</td>\n",
       "    </tr>\n",
       "    <tr>\n",
       "      <th>618</th>\n",
       "      <td>Spielberg is now the Numero Uno director of sc...</td>\n",
       "      <td>0</td>\n",
       "    </tr>\n",
       "    <tr>\n",
       "      <th>619</th>\n",
       "      <td>Saying that this film starts where `Two Towers...</td>\n",
       "      <td>0</td>\n",
       "    </tr>\n",
       "  </tbody>\n",
       "</table>\n",
       "</div>"
      ],
      "text/plain": [
       "                                                review  is_hr\n",
       "610  You don’t need an HR drone; you need stellar t...      1\n",
       "611  One 31-question survey used by Ceridian for it...      1\n",
       "612  It looks like nothing was found at this locati...      1\n",
       "613  It looks like nothing was found at this locati...      1\n",
       "614  I have never seen such an amazing film since I...      0\n",
       "615  Tell me a movie that is more famous than this....      0\n",
       "616  The original Godfather is a brilliant work. It...      0\n",
       "617  I couldn't believe \"The Dark knight\" could liv...      0\n",
       "618  Spielberg is now the Numero Uno director of sc...      0\n",
       "619  Saying that this film starts where `Two Towers...      0"
      ]
     },
     "execution_count": 192,
     "metadata": {},
     "output_type": "execute_result"
    }
   ],
   "source": [
    "dataframes = [df, df2]\n",
    "hr = pd.concat(dataframes).reset_index(drop = True)\n",
    "hr[610:620] #Confirmed that the concatenation worked between dataframes"
   ]
  },
  {
   "cell_type": "code",
   "execution_count": 193,
   "metadata": {},
   "outputs": [
    {
     "name": "stdout",
     "output_type": "stream",
     "text": [
      "<class 'pandas.core.frame.DataFrame'>\n",
      "RangeIndex: 764 entries, 0 to 763\n",
      "Data columns (total 2 columns):\n",
      "review    764 non-null object\n",
      "is_hr     764 non-null int64\n",
      "dtypes: int64(1), object(1)\n",
      "memory usage: 12.0+ KB\n"
     ]
    }
   ],
   "source": [
    "hr.info()"
   ]
  },
  {
   "cell_type": "code",
   "execution_count": 194,
   "metadata": {},
   "outputs": [],
   "source": [
    "hr['review'] = hr['review'].str.lower() #change case all to lower\n",
    "hr['review'] = hr['review'].str.replace('[^a-zA-Z]+', ' ') #replace all non alphanumerics\n",
    "hr['review'] = hr['review'].str.findall('\\w{3,}').str.join(' ') #\"replace\" or only show words >3 char"
   ]
  },
  {
   "cell_type": "code",
   "execution_count": 195,
   "metadata": {},
   "outputs": [
    {
     "data": {
      "text/html": [
       "<div>\n",
       "<style scoped>\n",
       "    .dataframe tbody tr th:only-of-type {\n",
       "        vertical-align: middle;\n",
       "    }\n",
       "\n",
       "    .dataframe tbody tr th {\n",
       "        vertical-align: top;\n",
       "    }\n",
       "\n",
       "    .dataframe thead th {\n",
       "        text-align: right;\n",
       "    }\n",
       "</style>\n",
       "<table border=\"1\" class=\"dataframe\">\n",
       "  <thead>\n",
       "    <tr style=\"text-align: right;\">\n",
       "      <th></th>\n",
       "      <th>review</th>\n",
       "      <th>is_hr</th>\n",
       "    </tr>\n",
       "  </thead>\n",
       "  <tbody>\n",
       "    <tr>\n",
       "      <th>0</th>\n",
       "      <td>ssm health choptank transport inc and reedtms ...</td>\n",
       "      <td>1</td>\n",
       "    </tr>\n",
       "    <tr>\n",
       "      <th>1</th>\n",
       "      <td>amb group llc hired and trained new employees ...</td>\n",
       "      <td>1</td>\n",
       "    </tr>\n",
       "    <tr>\n",
       "      <th>2</th>\n",
       "      <td>sporting events during the work week can distr...</td>\n",
       "      <td>1</td>\n",
       "    </tr>\n",
       "    <tr>\n",
       "      <th>3</th>\n",
       "      <td>gen changing the workplace with their lifestyl...</td>\n",
       "      <td>1</td>\n",
       "    </tr>\n",
       "    <tr>\n",
       "      <th>4</th>\n",
       "      <td>the acquisition glint complements linkedin str...</td>\n",
       "      <td>1</td>\n",
       "    </tr>\n",
       "  </tbody>\n",
       "</table>\n",
       "</div>"
      ],
      "text/plain": [
       "                                              review  is_hr\n",
       "0  ssm health choptank transport inc and reedtms ...      1\n",
       "1  amb group llc hired and trained new employees ...      1\n",
       "2  sporting events during the work week can distr...      1\n",
       "3  gen changing the workplace with their lifestyl...      1\n",
       "4  the acquisition glint complements linkedin str...      1"
      ]
     },
     "execution_count": 195,
     "metadata": {},
     "output_type": "execute_result"
    }
   ],
   "source": [
    "hr.head()"
   ]
  },
  {
   "cell_type": "code",
   "execution_count": 196,
   "metadata": {},
   "outputs": [],
   "source": [
    "hr['review'] = hr['review'].apply(lambda x: ' '.join([word for word in x.split() if word not in (stopwords)]))"
   ]
  },
  {
   "cell_type": "markdown",
   "metadata": {},
   "source": [
    "<b> I have decided not to remove any extra StopWords to prevent bias within the model. I want it to classify without missing specific words that are important to the context of each datapoint which ultimately will determine classification. This treats the Train dataset as a single entity rather than two merged datasets with their own bias."
   ]
  },
  {
   "cell_type": "code",
   "execution_count": 197,
   "metadata": {},
   "outputs": [],
   "source": [
    "#Save to CSV\n",
    "hr.to_csv('hr.csv', header = None)"
   ]
  },
  {
   "cell_type": "code",
   "execution_count": 198,
   "metadata": {},
   "outputs": [
    {
     "data": {
      "text/html": [
       "<div>\n",
       "<style scoped>\n",
       "    .dataframe tbody tr th:only-of-type {\n",
       "        vertical-align: middle;\n",
       "    }\n",
       "\n",
       "    .dataframe tbody tr th {\n",
       "        vertical-align: top;\n",
       "    }\n",
       "\n",
       "    .dataframe thead th {\n",
       "        text-align: right;\n",
       "    }\n",
       "</style>\n",
       "<table border=\"1\" class=\"dataframe\">\n",
       "  <thead>\n",
       "    <tr style=\"text-align: right;\">\n",
       "      <th></th>\n",
       "      <th>review</th>\n",
       "      <th>is_hr</th>\n",
       "    </tr>\n",
       "  </thead>\n",
       "  <tbody>\n",
       "    <tr>\n",
       "      <th>0</th>\n",
       "      <td>ssm health choptank transport inc reedtms logi...</td>\n",
       "      <td>1</td>\n",
       "    </tr>\n",
       "    <tr>\n",
       "      <th>1</th>\n",
       "      <td>amb group llc hired trained new employees four...</td>\n",
       "      <td>1</td>\n",
       "    </tr>\n",
       "    <tr>\n",
       "      <th>2</th>\n",
       "      <td>sporting events work week distraction employee...</td>\n",
       "      <td>1</td>\n",
       "    </tr>\n",
       "    <tr>\n",
       "      <th>3</th>\n",
       "      <td>gen changing workplace lifestyle ambitions acc...</td>\n",
       "      <td>1</td>\n",
       "    </tr>\n",
       "    <tr>\n",
       "      <th>4</th>\n",
       "      <td>acquisition glint complements linkedin strateg...</td>\n",
       "      <td>1</td>\n",
       "    </tr>\n",
       "  </tbody>\n",
       "</table>\n",
       "</div>"
      ],
      "text/plain": [
       "                                              review  is_hr\n",
       "0  ssm health choptank transport inc reedtms logi...      1\n",
       "1  amb group llc hired trained new employees four...      1\n",
       "2  sporting events work week distraction employee...      1\n",
       "3  gen changing workplace lifestyle ambitions acc...      1\n",
       "4  acquisition glint complements linkedin strateg...      1"
      ]
     },
     "execution_count": 198,
     "metadata": {},
     "output_type": "execute_result"
    }
   ],
   "source": [
    "hr.head()"
   ]
  },
  {
   "cell_type": "markdown",
   "metadata": {},
   "source": [
    "<h1 style=\"text-align: center;\">2. Vectorization of the Dataset, TFID, and Document-Term Matrix Conversion</span>"
   ]
  },
  {
   "cell_type": "code",
   "execution_count": 205,
   "metadata": {},
   "outputs": [],
   "source": [
    "hr_data = []\n",
    "hr_labels = []\n",
    "hr = []\n",
    "\n",
    "openfile = open('hr.csv', 'rt')\n",
    "r = csv.reader(openfile)\n",
    "for i in r:\n",
    "    hr.append(i)\n",
    "    hr_data.append(i[1])\n",
    "    hr_labels.append(i[2])    \n",
    "openfile.close()"
   ]
  },
  {
   "cell_type": "code",
   "execution_count": 212,
   "metadata": {},
   "outputs": [
    {
     "name": "stdout",
     "output_type": "stream",
     "text": [
      "(764, 8638)\n",
      "  (0, 7247)\t0.30228614548604044\n",
      "  (0, 3522)\t0.20916139800591743\n",
      "  (0, 1252)\t0.30228614548604044\n",
      "  (0, 7943)\t0.30228614548604044\n",
      "  (0, 3823)\t0.2281042167611992\n",
      "  (0, 6226)\t0.30228614548604044\n",
      "  (0, 4512)\t0.30228614548604044\n",
      "  (0, 6178)\t0.24777230050146049\n",
      "  (0, 7873)\t0.1630962309757716\n",
      "  (0, 7797)\t0.18744785141924258\n",
      "  (0, 541)\t0.49554460100292097\n",
      "  (0, 6212)\t0.14176495529641156\n",
      "  (0, 5306)\t0.2419616964038225\n",
      "  (1, 264)\t0.3153082098489462\n",
      "  (1, 3388)\t0.2155773893871147\n",
      "  (1, 4493)\t0.2737182752496491\n",
      "  (1, 3597)\t0.23034813395586068\n",
      "  (1, 7924)\t0.26544279961803047\n",
      "  (1, 5112)\t0.2957439825894478\n",
      "  (1, 2452)\t0.1514106229737258\n",
      "  (1, 3084)\t0.22698441367806663\n",
      "  (1, 4940)\t0.23398122862929915\n",
      "  (1, 5282)\t0.23034813395586068\n",
      "  (1, 7226)\t0.3153082098489462\n",
      "  (1, 7251)\t0.3153082098489462\n",
      "  :\t:\n",
      "  (763, 6835)\t0.1200716992651233\n",
      "  (763, 4990)\t0.3295801586558013\n",
      "  (763, 3118)\t0.11148905027317124\n",
      "  (763, 1892)\t0.13042477501932664\n",
      "  (763, 3158)\t0.09786681490605147\n",
      "  (763, 4785)\t0.12466821981996652\n",
      "  (763, 4326)\t0.11296735600338674\n",
      "  (763, 6988)\t0.1498328008019404\n",
      "  (763, 548)\t0.12736613315085699\n",
      "  (763, 4220)\t0.1200716992651233\n",
      "  (763, 6489)\t0.1498328008019404\n",
      "  (763, 979)\t0.1498328008019404\n",
      "  (763, 6036)\t0.13395571792425465\n",
      "  (763, 7080)\t0.14324321602854273\n",
      "  (763, 1272)\t0.14324321602854273\n",
      "  (763, 728)\t0.1381319369853606\n",
      "  (763, 3055)\t0.1381319369853606\n",
      "  (763, 2826)\t0.2762638739707212\n",
      "  (763, 1049)\t0.1381319369853606\n",
      "  (763, 1509)\t0.1591202989062285\n",
      "  (763, 2389)\t0.1591202989062285\n",
      "  (763, 4197)\t0.1591202989062285\n",
      "  (763, 4919)\t0.1591202989062285\n",
      "  (763, 6025)\t0.1591202989062285\n",
      "  (763, 1117)\t0.1591202989062285\n"
     ]
    }
   ],
   "source": [
    "tfidf_vectorizer = TfidfVectorizer(decode_error ='ignore')\n",
    "tfidf = tfidf_vectorizer.fit_transform(hr_data)\n",
    "print(tfidf.shape)\n",
    "print(tfidf)"
   ]
  },
  {
   "cell_type": "code",
   "execution_count": 218,
   "metadata": {},
   "outputs": [
    {
     "data": {
      "text/plain": [
       "['aah', 'aaron', 'abandon', 'abandoned', 'abducted']"
      ]
     },
     "execution_count": 218,
     "metadata": {},
     "output_type": "execute_result"
    }
   ],
   "source": [
    "#previewing first 5 vectorized feature names\n",
    "tfidf_vectorizer.get_feature_names()[:5]"
   ]
  },
  {
   "cell_type": "code",
   "execution_count": 219,
   "metadata": {},
   "outputs": [
    {
     "data": {
      "text/plain": [
       "array([[0., 0., 0., ..., 0., 0., 0.],\n",
       "       [0., 0., 0., ..., 0., 0., 0.],\n",
       "       [0., 0., 0., ..., 0., 0., 0.],\n",
       "       ...,\n",
       "       [0., 0., 0., ..., 0., 0., 0.],\n",
       "       [0., 0., 0., ..., 0., 0., 0.],\n",
       "       [0., 0., 0., ..., 0., 0., 0.]])"
      ]
     },
     "execution_count": 219,
     "metadata": {},
     "output_type": "execute_result"
    }
   ],
   "source": [
    "#Creating a a matrix from the data\n",
    "tfidf_matrix = tfidf_vectorizer.fit_transform(hr_data).toarray()\n",
    "tfidf_matrix "
   ]
  },
  {
   "cell_type": "code",
   "execution_count": 220,
   "metadata": {},
   "outputs": [
    {
     "data": {
      "text/html": [
       "<div>\n",
       "<style scoped>\n",
       "    .dataframe tbody tr th:only-of-type {\n",
       "        vertical-align: middle;\n",
       "    }\n",
       "\n",
       "    .dataframe tbody tr th {\n",
       "        vertical-align: top;\n",
       "    }\n",
       "\n",
       "    .dataframe thead th {\n",
       "        text-align: right;\n",
       "    }\n",
       "</style>\n",
       "<table border=\"1\" class=\"dataframe\">\n",
       "  <thead>\n",
       "    <tr style=\"text-align: right;\">\n",
       "      <th></th>\n",
       "      <th>aah</th>\n",
       "      <th>aaron</th>\n",
       "      <th>abandon</th>\n",
       "      <th>abandoned</th>\n",
       "      <th>abducted</th>\n",
       "      <th>abhorrent</th>\n",
       "      <th>abide</th>\n",
       "      <th>abiding</th>\n",
       "      <th>abilities</th>\n",
       "      <th>ability</th>\n",
       "      <th>...</th>\n",
       "      <th>zany</th>\n",
       "      <th>zealand</th>\n",
       "      <th>zemeckis</th>\n",
       "      <th>zero</th>\n",
       "      <th>zimmer</th>\n",
       "      <th>ziprecruiter</th>\n",
       "      <th>zoombezi</th>\n",
       "      <th>zooming</th>\n",
       "      <th>zooms</th>\n",
       "      <th>zucker</th>\n",
       "    </tr>\n",
       "  </thead>\n",
       "  <tbody>\n",
       "    <tr>\n",
       "      <th>ssm health choptank transport inc reedtms logistics received top three awards recruiting optimas awards</th>\n",
       "      <td>0.0</td>\n",
       "      <td>0.0</td>\n",
       "      <td>0.0</td>\n",
       "      <td>0.0</td>\n",
       "      <td>0.0</td>\n",
       "      <td>0.0</td>\n",
       "      <td>0.0</td>\n",
       "      <td>0.0</td>\n",
       "      <td>0.0</td>\n",
       "      <td>0.0</td>\n",
       "      <td>...</td>\n",
       "      <td>0.0</td>\n",
       "      <td>0.0</td>\n",
       "      <td>0.0</td>\n",
       "      <td>0.0</td>\n",
       "      <td>0.0</td>\n",
       "      <td>0.0</td>\n",
       "      <td>0.0</td>\n",
       "      <td>0.0</td>\n",
       "      <td>0.0</td>\n",
       "      <td>0.0</td>\n",
       "    </tr>\n",
       "    <tr>\n",
       "      <th>amb group llc hired trained new employees four months open new sports stadium incorporating community around</th>\n",
       "      <td>0.0</td>\n",
       "      <td>0.0</td>\n",
       "      <td>0.0</td>\n",
       "      <td>0.0</td>\n",
       "      <td>0.0</td>\n",
       "      <td>0.0</td>\n",
       "      <td>0.0</td>\n",
       "      <td>0.0</td>\n",
       "      <td>0.0</td>\n",
       "      <td>0.0</td>\n",
       "      <td>...</td>\n",
       "      <td>0.0</td>\n",
       "      <td>0.0</td>\n",
       "      <td>0.0</td>\n",
       "      <td>0.0</td>\n",
       "      <td>0.0</td>\n",
       "      <td>0.0</td>\n",
       "      <td>0.0</td>\n",
       "      <td>0.0</td>\n",
       "      <td>0.0</td>\n",
       "      <td>0.0</td>\n",
       "    </tr>\n",
       "    <tr>\n",
       "      <th>sporting events work week distraction employees nonetheless employers finding great employee engagement retention tool</th>\n",
       "      <td>0.0</td>\n",
       "      <td>0.0</td>\n",
       "      <td>0.0</td>\n",
       "      <td>0.0</td>\n",
       "      <td>0.0</td>\n",
       "      <td>0.0</td>\n",
       "      <td>0.0</td>\n",
       "      <td>0.0</td>\n",
       "      <td>0.0</td>\n",
       "      <td>0.0</td>\n",
       "      <td>...</td>\n",
       "      <td>0.0</td>\n",
       "      <td>0.0</td>\n",
       "      <td>0.0</td>\n",
       "      <td>0.0</td>\n",
       "      <td>0.0</td>\n",
       "      <td>0.0</td>\n",
       "      <td>0.0</td>\n",
       "      <td>0.0</td>\n",
       "      <td>0.0</td>\n",
       "      <td>0.0</td>\n",
       "    </tr>\n",
       "    <tr>\n",
       "      <th>gen changing workplace lifestyle ambitions according recent indeed report job interests fall one category</th>\n",
       "      <td>0.0</td>\n",
       "      <td>0.0</td>\n",
       "      <td>0.0</td>\n",
       "      <td>0.0</td>\n",
       "      <td>0.0</td>\n",
       "      <td>0.0</td>\n",
       "      <td>0.0</td>\n",
       "      <td>0.0</td>\n",
       "      <td>0.0</td>\n",
       "      <td>0.0</td>\n",
       "      <td>...</td>\n",
       "      <td>0.0</td>\n",
       "      <td>0.0</td>\n",
       "      <td>0.0</td>\n",
       "      <td>0.0</td>\n",
       "      <td>0.0</td>\n",
       "      <td>0.0</td>\n",
       "      <td>0.0</td>\n",
       "      <td>0.0</td>\n",
       "      <td>0.0</td>\n",
       "      <td>0.0</td>\n",
       "    </tr>\n",
       "    <tr>\n",
       "      <th>acquisition glint complements linkedin strategy acquiring tools necessary help rapidly execute long term strategies</th>\n",
       "      <td>0.0</td>\n",
       "      <td>0.0</td>\n",
       "      <td>0.0</td>\n",
       "      <td>0.0</td>\n",
       "      <td>0.0</td>\n",
       "      <td>0.0</td>\n",
       "      <td>0.0</td>\n",
       "      <td>0.0</td>\n",
       "      <td>0.0</td>\n",
       "      <td>0.0</td>\n",
       "      <td>...</td>\n",
       "      <td>0.0</td>\n",
       "      <td>0.0</td>\n",
       "      <td>0.0</td>\n",
       "      <td>0.0</td>\n",
       "      <td>0.0</td>\n",
       "      <td>0.0</td>\n",
       "      <td>0.0</td>\n",
       "      <td>0.0</td>\n",
       "      <td>0.0</td>\n",
       "      <td>0.0</td>\n",
       "    </tr>\n",
       "  </tbody>\n",
       "</table>\n",
       "<p>5 rows × 8638 columns</p>\n",
       "</div>"
      ],
      "text/plain": [
       "                                                    aah  aaron  abandon  \\\n",
       "ssm health choptank transport inc reedtms logis...  0.0    0.0      0.0   \n",
       "amb group llc hired trained new employees four ...  0.0    0.0      0.0   \n",
       "sporting events work week distraction employees...  0.0    0.0      0.0   \n",
       "gen changing workplace lifestyle ambitions acco...  0.0    0.0      0.0   \n",
       "acquisition glint complements linkedin strategy...  0.0    0.0      0.0   \n",
       "\n",
       "                                                    abandoned  abducted  \\\n",
       "ssm health choptank transport inc reedtms logis...        0.0       0.0   \n",
       "amb group llc hired trained new employees four ...        0.0       0.0   \n",
       "sporting events work week distraction employees...        0.0       0.0   \n",
       "gen changing workplace lifestyle ambitions acco...        0.0       0.0   \n",
       "acquisition glint complements linkedin strategy...        0.0       0.0   \n",
       "\n",
       "                                                    abhorrent  abide  abiding  \\\n",
       "ssm health choptank transport inc reedtms logis...        0.0    0.0      0.0   \n",
       "amb group llc hired trained new employees four ...        0.0    0.0      0.0   \n",
       "sporting events work week distraction employees...        0.0    0.0      0.0   \n",
       "gen changing workplace lifestyle ambitions acco...        0.0    0.0      0.0   \n",
       "acquisition glint complements linkedin strategy...        0.0    0.0      0.0   \n",
       "\n",
       "                                                    abilities  ability  \\\n",
       "ssm health choptank transport inc reedtms logis...        0.0      0.0   \n",
       "amb group llc hired trained new employees four ...        0.0      0.0   \n",
       "sporting events work week distraction employees...        0.0      0.0   \n",
       "gen changing workplace lifestyle ambitions acco...        0.0      0.0   \n",
       "acquisition glint complements linkedin strategy...        0.0      0.0   \n",
       "\n",
       "                                                     ...    zany  zealand  \\\n",
       "ssm health choptank transport inc reedtms logis...   ...     0.0      0.0   \n",
       "amb group llc hired trained new employees four ...   ...     0.0      0.0   \n",
       "sporting events work week distraction employees...   ...     0.0      0.0   \n",
       "gen changing workplace lifestyle ambitions acco...   ...     0.0      0.0   \n",
       "acquisition glint complements linkedin strategy...   ...     0.0      0.0   \n",
       "\n",
       "                                                    zemeckis  zero  zimmer  \\\n",
       "ssm health choptank transport inc reedtms logis...       0.0   0.0     0.0   \n",
       "amb group llc hired trained new employees four ...       0.0   0.0     0.0   \n",
       "sporting events work week distraction employees...       0.0   0.0     0.0   \n",
       "gen changing workplace lifestyle ambitions acco...       0.0   0.0     0.0   \n",
       "acquisition glint complements linkedin strategy...       0.0   0.0     0.0   \n",
       "\n",
       "                                                    ziprecruiter  zoombezi  \\\n",
       "ssm health choptank transport inc reedtms logis...           0.0       0.0   \n",
       "amb group llc hired trained new employees four ...           0.0       0.0   \n",
       "sporting events work week distraction employees...           0.0       0.0   \n",
       "gen changing workplace lifestyle ambitions acco...           0.0       0.0   \n",
       "acquisition glint complements linkedin strategy...           0.0       0.0   \n",
       "\n",
       "                                                    zooming  zooms  zucker  \n",
       "ssm health choptank transport inc reedtms logis...      0.0    0.0     0.0  \n",
       "amb group llc hired trained new employees four ...      0.0    0.0     0.0  \n",
       "sporting events work week distraction employees...      0.0    0.0     0.0  \n",
       "gen changing workplace lifestyle ambitions acco...      0.0    0.0     0.0  \n",
       "acquisition glint complements linkedin strategy...      0.0    0.0     0.0  \n",
       "\n",
       "[5 rows x 8638 columns]"
      ]
     },
     "execution_count": 220,
     "metadata": {},
     "output_type": "execute_result"
    }
   ],
   "source": [
    "pd.DataFrame(tfidf_matrix,index=hr_data,columns=tfidf_vectorizer.get_feature_names()).head()"
   ]
  },
  {
   "cell_type": "markdown",
   "metadata": {},
   "source": [
    "<b>All items within the data have now been vectorized/scored. There are 8638 features within the dataset!</b>"
   ]
  },
  {
   "cell_type": "markdown",
   "metadata": {},
   "source": [
    "<h1 style=\"text-align: center;\">3. Building the Model via Feature Extraction Methods</span>"
   ]
  },
  {
   "cell_type": "markdown",
   "metadata": {},
   "source": [
    "## a. Training the Model via Split Validation (80/20 Split)"
   ]
  },
  {
   "cell_type": "code",
   "execution_count": 223,
   "metadata": {},
   "outputs": [
    {
     "data": {
      "text/plain": [
       "(611, 611, 153, 153)"
      ]
     },
     "execution_count": 223,
     "metadata": {},
     "output_type": "execute_result"
    }
   ],
   "source": [
    "##-- Test Size is being set to 0.2, or an 80/20 split of Train Data/Test Data\n",
    "\n",
    "x_train, x_test, y_train, y_test = train_test_split(hr_data, hr_labels, test_size=0.2, random_state=0)\n",
    "len(x_train), len(y_train), len(x_test), len(y_test)"
   ]
  },
  {
   "cell_type": "code",
   "execution_count": 225,
   "metadata": {},
   "outputs": [
    {
     "name": "stdout",
     "output_type": "stream",
     "text": [
      "  (0, 4120)\t0.22515029224338887\n",
      "  (0, 4016)\t0.3322699043872912\n",
      "  (0, 6995)\t0.2877105134082167\n",
      "  (0, 3960)\t0.3054055869427547\n",
      "  (0, 6383)\t0.2442354906579922\n",
      "  (0, 4404)\t0.3054055869427547\n",
      "  (0, 5065)\t0.3054055869427547\n",
      "  (0, 7100)\t0.22515029224338887\n",
      "  (0, 3327)\t0.2476295712181226\n",
      "  (0, 2655)\t0.2476295712181226\n",
      "  (0, 3553)\t0.24104724204699896\n",
      "  (0, 7004)\t0.22748801025343743\n",
      "  (0, 5225)\t0.22515029224338887\n",
      "  (0, 7526)\t0.2877105134082167\n",
      "  (1, 2655)\t0.2711954279087576\n",
      "  (1, 1116)\t0.31509070348008344\n",
      "  (1, 2672)\t0.2945480946622825\n",
      "  (1, 4767)\t0.387243289582818\n",
      "  (1, 7467)\t0.2417745472400655\n",
      "  (1, 2705)\t0.2840473278326562\n",
      "  (1, 5945)\t0.3006163085774498\n",
      "  (1, 2365)\t0.21328263449886375\n",
      "  (1, 4459)\t0.2794372870647308\n",
      "  (1, 2671)\t0.36389062282929313\n",
      "  (1, 3958)\t0.32396897533097463\n",
      "+++++++++++++++++++++++++++++++++++++++++\n",
      "  (0, 7840)\t0.04832676210939189\n",
      "  (0, 7838)\t0.06665543265036462\n",
      "  (0, 7792)\t0.13101305901294738\n",
      "  (0, 7780)\t0.07884410654148483\n",
      "  (0, 7754)\t0.04596609208113755\n",
      "  (0, 7713)\t0.05769208618767983\n",
      "  (0, 7687)\t0.03672290367878777\n",
      "  (0, 7645)\t0.074316903643492\n",
      "  (0, 7617)\t0.03873813414927788\n",
      "  (0, 7575)\t0.1396704608242992\n",
      "  (0, 7559)\t0.06665543265036462\n",
      "  (0, 7540)\t0.05547403963772202\n",
      "  (0, 7509)\t0.074316903643492\n",
      "  (0, 7506)\t0.0698352304121496\n",
      "  (0, 7470)\t0.06665543265036462\n",
      "  (0, 7367)\t0.074316903643492\n",
      "  (0, 7318)\t0.04040520461743977\n",
      "  (0, 7287)\t0.05362756307426494\n",
      "  (0, 7148)\t0.050030615194552444\n",
      "  (0, 7137)\t0.04832676210939189\n",
      "  (0, 7132)\t0.0978478497984468\n",
      "  (0, 7100)\t0.04732123592467401\n",
      "  (0, 7037)\t0.05899396165723723\n",
      "  (0, 6943)\t0.074316903643492\n",
      "  (0, 6938)\t0.060469906333861664\n",
      "  :\t:\n",
      "  (0, 878)\t0.12434751883804444\n",
      "  (0, 834)\t0.06665543265036462\n",
      "  (0, 833)\t0.05204584566504254\n",
      "  (0, 798)\t0.0698352304121496\n",
      "  (0, 759)\t0.06418898988951233\n",
      "  (0, 712)\t0.074316903643492\n",
      "  (0, 642)\t0.041771530218336225\n",
      "  (0, 638)\t0.07133884884024969\n",
      "  (0, 624)\t0.06217375941902222\n",
      "  (0, 601)\t0.05547403963772202\n",
      "  (0, 585)\t0.05204584566504254\n",
      "  (0, 381)\t0.06418898988951233\n",
      "  (0, 210)\t0.04438437467191515\n",
      "  (0, 207)\t0.074316903643492\n",
      "  (0, 161)\t0.06217375941902222\n",
      "  (0, 66)\t0.04402194331033162\n",
      "  (0, 52)\t0.0698352304121496\n",
      "  (1, 6788)\t0.3573700437392833\n",
      "  (1, 6232)\t0.3689534353198067\n",
      "  (1, 6223)\t0.4271679138243836\n",
      "  (1, 3948)\t0.40140759671188825\n",
      "  (1, 3828)\t0.308247156687419\n",
      "  (1, 2230)\t0.22140573531677224\n",
      "  (1, 2160)\t0.3475764257039736\n",
      "  (1, 160)\t0.3573700437392833\n"
     ]
    }
   ],
   "source": [
    "X_train = tfidf_vectorizer.fit_transform(x_train)\n",
    "X_test = tfidf_vectorizer.transform(x_test)\n",
    "print(X_train[:2])\n",
    "print(\"+++++++++++++++++++++++++++++++++++++++++\")\n",
    "print(X_test[:2])"
   ]
  },
  {
   "cell_type": "markdown",
   "metadata": {},
   "source": [
    "### i. Naive-Bayes Classifier Pipeline"
   ]
  },
  {
   "cell_type": "code",
   "execution_count": 233,
   "metadata": {},
   "outputs": [
    {
     "data": {
      "text/plain": [
       "1.0"
      ]
     },
     "execution_count": 233,
     "metadata": {},
     "output_type": "execute_result"
    }
   ],
   "source": [
    "# removing stopwords & rare words\n",
    "# min_df=2 argument removes words that appear in 2 or less documents/items\n",
    "\n",
    "nb_pipeline = Pipeline([('tfidf',\n",
    "                         TfidfVectorizer(decode_error ='ignore', stop_words='english', min_df=2)),\n",
    "                        ('clf', MultinomialNB())])\n",
    "nb_pipeline = nb_pipeline.fit(x_train, y_train)\n",
    "predicted = nb_pipeline.predict(x_test)\n",
    "np.mean(predicted == y_test)  "
   ]
  },
  {
   "cell_type": "code",
   "execution_count": 234,
   "metadata": {},
   "outputs": [
    {
     "name": "stdout",
     "output_type": "stream",
     "text": [
      "\n",
      " overall accuracy:\n",
      "1.0\n",
      "\n",
      " confusion_matrix:\n",
      "[[ 28   0]\n",
      " [  0 125]]\n",
      "\n",
      " Here is the classification report:\n",
      "             precision    recall  f1-score   support\n",
      "\n",
      "          0       1.00      1.00      1.00        28\n",
      "          1       1.00      1.00      1.00       125\n",
      "\n",
      "avg / total       1.00      1.00      1.00       153\n",
      "\n"
     ]
    }
   ],
   "source": [
    "print('\\n overall accuracy:')\n",
    "print(metrics.accuracy_score(y_test, predicted))\n",
    "\n",
    "print('\\n confusion_matrix:')\n",
    "print(metrics.confusion_matrix(y_test, predicted))\n",
    "\n",
    "print('\\n Here is the classification report:')\n",
    "print(metrics.classification_report(y_test, predicted))"
   ]
  },
  {
   "cell_type": "code",
   "execution_count": 235,
   "metadata": {},
   "outputs": [
    {
     "data": {
      "image/png": "[encoded data removed]",
      "text/plain": [
       "<Figure size 432x288 with 2 Axes>"
      ]
     },
     "metadata": {},
     "output_type": "display_data"
    }
   ],
   "source": [
    "skplt.metrics.plot_confusion_matrix(y_true=np.array(y_test), y_pred=predicted)\n",
    "plt.show()"
   ]
  },
  {
   "cell_type": "markdown",
   "metadata": {},
   "source": [
    "<b> The Naive Bayes Classifier has overfit the data, most likely, with a 100% accuracy rate. The best option would be to add additional data to diversify the algorithm. I believe the length and diversity of the HR News Articles vs. that of the movie review data that was merged may play a large part of it"
   ]
  },
  {
   "cell_type": "markdown",
   "metadata": {},
   "source": [
    "### ii. K-NN Classifier Pipeline"
   ]
  },
  {
   "cell_type": "code",
   "execution_count": 241,
   "metadata": {},
   "outputs": [
    {
     "data": {
      "text/plain": [
       "0.9869281045751634"
      ]
     },
     "execution_count": 241,
     "metadata": {},
     "output_type": "execute_result"
    }
   ],
   "source": [
    "from sklearn.neighbors import KNeighborsClassifier #import algorithm\n",
    "\n",
    "#Include completed pipeline\n",
    "knn_pipeline = Pipeline([('tfidf', TfidfVectorizer(decode_error ='ignore')), ('clf', KNeighborsClassifier())])\n",
    "knn_pipeline = knn_pipeline.fit(x_train, y_train)\n",
    "predicted = knn_pipeline.predict(x_test)\n",
    "np.mean(predicted == y_test)  "
   ]
  },
  {
   "cell_type": "code",
   "execution_count": 242,
   "metadata": {},
   "outputs": [
    {
     "name": "stdout",
     "output_type": "stream",
     "text": [
      "\n",
      " overall accuracy:\n",
      "0.9869281045751634\n",
      "\n",
      " confusion_matrix:\n",
      "[[ 28   0]\n",
      " [  2 123]]\n",
      "\n",
      " Here is the classification report:\n",
      "             precision    recall  f1-score   support\n",
      "\n",
      "          0       0.93      1.00      0.97        28\n",
      "          1       1.00      0.98      0.99       125\n",
      "\n",
      "avg / total       0.99      0.99      0.99       153\n",
      "\n"
     ]
    }
   ],
   "source": [
    "print('\\n overall accuracy:')\n",
    "print(metrics.accuracy_score(y_test, predicted))\n",
    "\n",
    "print('\\n confusion_matrix:')\n",
    "print(metrics.confusion_matrix(y_test, predicted))\n",
    "\n",
    "print('\\n Here is the classification report:')\n",
    "print(metrics.classification_report(y_test, predicted))"
   ]
  },
  {
   "cell_type": "code",
   "execution_count": 243,
   "metadata": {},
   "outputs": [
    {
     "data": {
      "image/png": "[encoded data removed]",
      "text/plain": [
       "<Figure size 432x288 with 2 Axes>"
      ]
     },
     "metadata": {},
     "output_type": "display_data"
    }
   ],
   "source": [
    "skplt.metrics.plot_confusion_matrix(y_true=np.array(y_test), y_pred=predicted)\n",
    "plt.show()"
   ]
  },
  {
   "cell_type": "markdown",
   "metadata": {},
   "source": [
    "<b>Only 2 False Negatives (Incorrectly classified HR Recruiting News as Non-HR related) which is great. While this technically has the lowest accuracy, at 99% I find the slight error more human and potentially revealing of a more \"true\" accuracy "
   ]
  },
  {
   "cell_type": "markdown",
   "metadata": {},
   "source": [
    "### Support Vector Machine (SVM) Classifier"
   ]
  },
  {
   "cell_type": "code",
   "execution_count": 244,
   "metadata": {},
   "outputs": [
    {
     "data": {
      "text/plain": [
       "1.0"
      ]
     },
     "execution_count": 244,
     "metadata": {},
     "output_type": "execute_result"
    }
   ],
   "source": [
    "svm_pipeline = Pipeline([('tfidf', TfidfVectorizer(decode_error ='ignore')), ('clf', SVC(kernel='linear', probability=True))])\n",
    "svm_pipeline = svm_pipeline.fit(x_train, y_train)\n",
    "predicted = svm_pipeline.predict(x_test)\n",
    "np.mean(predicted == y_test)"
   ]
  },
  {
   "cell_type": "code",
   "execution_count": 245,
   "metadata": {},
   "outputs": [
    {
     "name": "stdout",
     "output_type": "stream",
     "text": [
      "\n",
      " overall accuracy:\n",
      "1.0\n",
      "\n",
      " confusion_matrix:\n",
      "[[ 28   0]\n",
      " [  0 125]]\n",
      "\n",
      " Here is the classification report:\n",
      "             precision    recall  f1-score   support\n",
      "\n",
      "          0       1.00      1.00      1.00        28\n",
      "          1       1.00      1.00      1.00       125\n",
      "\n",
      "avg / total       1.00      1.00      1.00       153\n",
      "\n"
     ]
    }
   ],
   "source": [
    "print('\\n overall accuracy:')\n",
    "print(metrics.accuracy_score(y_test, predicted))\n",
    "\n",
    "print('\\n confusion_matrix:')\n",
    "print(metrics.confusion_matrix(y_test, predicted))\n",
    "\n",
    "print('\\n Here is the classification report:')\n",
    "print(metrics.classification_report(y_test, predicted))"
   ]
  },
  {
   "cell_type": "code",
   "execution_count": 246,
   "metadata": {},
   "outputs": [
    {
     "data": {
      "image/png": "[encoded data removed]",
      "text/plain": [
       "<Figure size 432x288 with 2 Axes>"
      ]
     },
     "metadata": {},
     "output_type": "display_data"
    }
   ],
   "source": [
    "skplt.metrics.plot_confusion_matrix(y_true=np.array(y_test), y_pred=predicted)\n",
    "plt.show()"
   ]
  },
  {
   "cell_type": "markdown",
   "metadata": {},
   "source": [
    "<b> Again, the SVM Classifier has overfit the data, most likely. The best option would be to add additional data to diversify the algorithm. I believe the length and diversity of the HR News Articles vs. that of the movie review data that was merged may play a large part of it"
   ]
  },
  {
   "cell_type": "markdown",
   "metadata": {},
   "source": [
    "<span style=\"color: red\"><b>As a result of the high accuracies shared between models based on the Split Validation performed amongst each - I am going to select K-NN as my method to hopefully prevent complete overfitting</b></span>"
   ]
  },
  {
   "cell_type": "markdown",
   "metadata": {},
   "source": [
    "<h1 style=\"text-align: center;\"> 4. Deploying K-NN Classification Model with new data </span>"
   ]
  },
  {
   "cell_type": "code",
   "execution_count": 247,
   "metadata": {},
   "outputs": [],
   "source": [
    "#acquired from Top Headlines page of CNN\n",
    "\n",
    "new_data = ['Women are more faithful than men, and other myths on female infidelity',\n",
    "                'Veteran battling suicidal thoughts opens horse ranch to help military families',\n",
    "                'Ten vegan versions of tailgate classics',\n",
    "                '155 cases of polio-like illness now under investigation, CDC says',\n",
    "                'You can cut your cancer risk by eating organic, a new study says',\n",
    "                'Marlboro maker attacked for hypocritical anti-smoking campaign',\n",
    "                'Deadly violence in DRC hampers Ebola control',\n",
    "                'Report says the UNs global war on drugs has been a failure',\n",
    "                'USC says its tentatively agreed to $215M settlement over gynecologist misconduct claims']"
   ]
  },
  {
   "cell_type": "code",
   "execution_count": 250,
   "metadata": {},
   "outputs": [
    {
     "data": {
      "text/plain": [
       "0.9869281045751634"
      ]
     },
     "execution_count": 250,
     "metadata": {},
     "output_type": "execute_result"
    }
   ],
   "source": [
    "knn1 = KNeighborsClassifier().fit(X_train, y_train)\n",
    "predicted = knn1.predict(X_test)\n",
    "np.mean(predicted == y_test)\n"
   ]
  },
  {
   "cell_type": "markdown",
   "metadata": {},
   "source": [
    "<b>98.7% Accuracy for new data introduced using Trained KNN Classifier"
   ]
  },
  {
   "cell_type": "code",
   "execution_count": 252,
   "metadata": {},
   "outputs": [
    {
     "name": "stdout",
     "output_type": "stream",
     "text": [
      "'Women are more faithful than men, and other myths on female infidelity' => 1\n",
      "'Veteran battling suicidal thoughts opens horse ranch to help military families' => 1\n",
      "'Ten vegan versions of tailgate classics' => 0\n",
      "'155 cases of polio-like illness now under investigation, CDC says' => 1\n",
      "'You can cut your cancer risk by eating organic, a new study says' => 1\n",
      "'Marlboro maker attacked for hypocritical anti-smoking campaign' => 1\n",
      "'Deadly violence in DRC hampers Ebola control' => 0\n",
      "'Report says the UNs global war on drugs has been a failure' => 1\n",
      "'USC says its tentatively agreed to $215M settlement over gynecologist misconduct claims' => 1\n"
     ]
    }
   ],
   "source": [
    "# Assigning/Showing Classifier Labels\n",
    "\n",
    "new_tfidf = tfidf_vectorizer.transform(new_data)\n",
    "\n",
    "predicted = knn1.predict(new_tfidf)\n",
    "\n",
    "for doc, category in zip(new_data, predicted):\n",
    "    print('%r => %s' % (doc, category))"
   ]
  },
  {
   "cell_type": "code",
   "execution_count": 254,
   "metadata": {},
   "outputs": [
    {
     "name": "stdout",
     "output_type": "stream",
     "text": [
      "'Women are more faithful than men, and other myths on female infidelity' => [0. 1.]\n",
      "'Veteran battling suicidal thoughts opens horse ranch to help military families' => [0. 1.]\n",
      "'Ten vegan versions of tailgate classics' => [0.8 0.2]\n",
      "'155 cases of polio-like illness now under investigation, CDC says' => [0. 1.]\n",
      "'You can cut your cancer risk by eating organic, a new study says' => [0. 1.]\n",
      "'Marlboro maker attacked for hypocritical anti-smoking campaign' => [0.2 0.8]\n",
      "'Deadly violence in DRC hampers Ebola control' => [0.8 0.2]\n",
      "'Report says the UNs global war on drugs has been a failure' => [0. 1.]\n",
      "'USC says its tentatively agreed to $215M settlement over gynecologist misconduct claims' => [0. 1.]\n"
     ]
    }
   ],
   "source": [
    "# Predicted Probability Per Feature\n",
    "\n",
    "predicted_prob = knn1.predict_proba(new_tfidf)\n",
    "\n",
    "for doc, category in zip(new_data, predicted_prob):\n",
    "    print('%r => %s' % (doc, category))"
   ]
  },
  {
   "cell_type": "markdown",
   "metadata": {},
   "source": [
    "<h1 style=\"text-align: center;\"> 5. Summary </span>"
   ]
  },
  {
   "cell_type": "markdown",
   "metadata": {},
   "source": [
    "- We gathered just over 700 data points for a initial Training Dataset, used to classify HR Recruiting Content vs. Non-HR Content\n",
    "<br><br>\n",
    "- We Performed Split Validation using an 80/20 split \n",
    "<br><br>\n",
    "- From the Split Validation, we built 3 Machine Learning Pipelines using 3 various models: Naive Bayes, K-NearestNeighbor, and Support Vector Machine\n",
    "<br><br>\n",
    "- All models were incredibly accurate between 99% and 100% - I believe this is a result of overfitting. This can be prevented or remedied by adding additional data to the training set that also diversifies it.\n",
    "<br><br>\n",
    "- Using K-NN, I applied this model to new data to predict/classify it accordingly. The applied model had a 98.7% accuracy rating which is great! That means 98.7% of collected data will be correctly classified as either HR News or Non-HR news.\n"
   ]
  },
  {
   "cell_type": "markdown",
   "metadata": {},
   "source": [
    "<h1 style=\"text-align: center;\"> 6. Neural Network Model Application </span>"
   ]
  },
  {
   "cell_type": "code",
   "execution_count": 258,
   "metadata": {},
   "outputs": [
    {
     "name": "stdout",
     "output_type": "stream",
     "text": [
      "[[ 26   2]\n",
      " [  0 125]]\n",
      "             precision    recall  f1-score   support\n",
      "\n",
      "          0       1.00      0.93      0.96        28\n",
      "          1       0.98      1.00      0.99       125\n",
      "\n",
      "avg / total       0.99      0.99      0.99       153\n",
      "\n"
     ]
    }
   ],
   "source": [
    "from sklearn.neural_network import MLPClassifier #Importing NN Multi-Layer Perceptron Classifier\n",
    "\n",
    "#Set L2 Penalizer (alpha) to 0.05 to be a bit more aggressive on feature regularization\n",
    "mlp = MLPClassifier(hidden_layer_sizes=(100, ), activation='relu', solver='adam', alpha=0.05) \n",
    "mlp.fit(X_train,y_train)\n",
    "\n",
    "predictions = mlp.predict(X_test)\n",
    "print(confusion_matrix(y_test,predictions))\n",
    "print(classification_report(y_test,predictions))"
   ]
  },
  {
   "cell_type": "code",
   "execution_count": 260,
   "metadata": {},
   "outputs": [
    {
     "data": {
      "image/png": "[encoded data removed]",
      "text/plain": [
       "<Figure size 432x288 with 2 Axes>"
      ]
     },
     "metadata": {},
     "output_type": "display_data"
    }
   ],
   "source": [
    "skplt.metrics.plot_confusion_matrix(y_true=np.array(y_test), y_pred=predictions)\n",
    "plt.show()"
   ]
  },
  {
   "cell_type": "markdown",
   "metadata": {},
   "source": [
    "99% Accurate of a model, where only 2/26 'True' Labels were False Positives "
   ]
  },
  {
   "cell_type": "code",
   "execution_count": null,
   "metadata": {},
   "outputs": [],
   "source": []
  }
 ],
 "metadata": {
  "kernelspec": {
   "display_name": "Python 3",
   "language": "python",
   "name": "python3"
  },
  "language_info": {
   "codemirror_mode": {
    "name": "ipython",
    "version": 3
   },
   "file_extension": ".py",
   "mimetype": "text/x-python",
   "name": "python",
   "nbconvert_exporter": "python",
   "pygments_lexer": "ipython3",
   "version": "3.6.7"
  }
 },
 "nbformat": 4,
 "nbformat_minor": 2
}
