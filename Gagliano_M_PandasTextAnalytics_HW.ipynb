{
 "cells": [
  {
   "cell_type": "markdown",
   "metadata": {},
   "source": [
    "<h1 style=\"text-align: center;\"><span style=\"color: #333399;\">Intermediate Text Analysis: Pandas, NLTK, Pattern</span></h1>\n",
    "<h6 style=\"text-align: center;\">Created by: Michael Gagliano on 9/20/2018</h6>\n",
    "<h6 style=\"text-align: center;\">\"K-State Honor Code \"On my honor, as a student, I have neither given nor received unauthorized aid on this academic work.</h6>"
   ]
  },
  {
   "cell_type": "markdown",
   "metadata": {},
   "source": [
    "# Requirements\n",
    "\n",
    "- import **smallsample_tweet_from_azuredatafactory.csv** and complete all the cells below. If necessary, you can create more cells.\n",
    "\n",
    "- Change the filename to **yourlastname_firstinitial_HW_Pandas_for_TextAnalytics**\n",
    "\n",
    "- Use **df.head()**, not df"
   ]
  },
  {
   "cell_type": "markdown",
   "metadata": {},
   "source": [
    "K-State Honor Code\n",
    "\n",
    "\n",
    "\n",
    "Your Name: "
   ]
  },
  {
   "cell_type": "code",
   "execution_count": 1,
   "metadata": {},
   "outputs": [],
   "source": [
    "import pandas as pd\n",
    "import csv\n",
    "import re\n",
    "from textblob import TextBlob"
   ]
  },
  {
   "cell_type": "markdown",
   "metadata": {},
   "source": [
    "Import data and display five rows"
   ]
  },
  {
   "cell_type": "code",
   "execution_count": 2,
   "metadata": {},
   "outputs": [
    {
     "data": {
      "text/html": [
       "<div>\n",
       "<style scoped>\n",
       "    .dataframe tbody tr th:only-of-type {\n",
       "        vertical-align: middle;\n",
       "    }\n",
       "\n",
       "    .dataframe tbody tr th {\n",
       "        vertical-align: top;\n",
       "    }\n",
       "\n",
       "    .dataframe thead th {\n",
       "        text-align: right;\n",
       "    }\n",
       "</style>\n",
       "<table border=\"1\" class=\"dataframe\">\n",
       "  <thead>\n",
       "    <tr style=\"text-align: right;\">\n",
       "      <th></th>\n",
       "      <th>tweet</th>\n",
       "    </tr>\n",
       "  </thead>\n",
       "  <tbody>\n",
       "    <tr>\n",
       "      <th>0</th>\n",
       "      <td>This development is pretty exciting for me #supplychain #sustainability</td>\n",
       "    </tr>\n",
       "    <tr>\n",
       "      <th>1</th>\n",
       "      <td>Samsung assures excellent working conditions in China http://t.&lt;br&gt;co/9VcBIL1XAj #workingconditions #supplychain #responsiblesourcing #rtw</td>\n",
       "    </tr>\n",
       "    <tr>\n",
       "      <th>2</th>\n",
       "      <td>Loving the feedback that I am getting on this report today! #supplychain http://t.&lt;br&gt;co/7DJaJFFl</td>\n",
       "    </tr>\n",
       "    <tr>\n",
       "      <th>3</th>\n",
       "      <td>As parked 787s multiply? Boeing cash drain worries grow ... the future could be worse ...   http://t.&lt;br&gt;co/up6V9sBYbi   #supplychain</td>\n",
       "    </tr>\n",
       "    <tr>\n",
       "      <th>4</th>\n",
       "      <td>CHaINA Magazine: Apple Finds Child Labor Abuses in Its Supply Chain - As the controversy regarding. the situation is very bad ... http://t.&lt;br&gt;co/kt6MMXvng  #SupplyChain</td>\n",
       "    </tr>\n",
       "  </tbody>\n",
       "</table>\n",
       "</div>"
      ],
      "text/plain": [
       "                                                                                                                                                                       tweet\n",
       "0  This development is pretty exciting for me #supplychain #sustainability                                                                                                  \n",
       "1  Samsung assures excellent working conditions in China http://t.<br>co/9VcBIL1XAj #workingconditions #supplychain #responsiblesourcing #rtw                               \n",
       "2  Loving the feedback that I am getting on this report today! #supplychain http://t.<br>co/7DJaJFFl                                                                        \n",
       "3  As parked 787s multiply? Boeing cash drain worries grow ... the future could be worse ...   http://t.<br>co/up6V9sBYbi   #supplychain                                    \n",
       "4  CHaINA Magazine: Apple Finds Child Labor Abuses in Its Supply Chain - As the controversy regarding. the situation is very bad ... http://t.<br>co/kt6MMXvng  #SupplyChain"
      ]
     },
     "execution_count": 2,
     "metadata": {},
     "output_type": "execute_result"
    }
   ],
   "source": [
    "df = pd.read_csv(\"data/smallsample_tweet_from_azuredatafactory.csv\", encoding='cp1252')\n",
    "pd.set_option('display.max_colwidth', -1)\n",
    "df.head()"
   ]
  },
  {
   "cell_type": "markdown",
   "metadata": {},
   "source": [
    "Find out data types and number of rows in the dataset"
   ]
  },
  {
   "cell_type": "code",
   "execution_count": 3,
   "metadata": {},
   "outputs": [
    {
     "name": "stdout",
     "output_type": "stream",
     "text": [
      "<class 'pandas.core.frame.DataFrame'>\n",
      "RangeIndex: 4514 entries, 0 to 4513\n",
      "Data columns (total 1 columns):\n",
      "tweet    4514 non-null object\n",
      "dtypes: object(1)\n",
      "memory usage: 35.3+ KB\n"
     ]
    }
   ],
   "source": [
    "df.info()"
   ]
  },
  {
   "cell_type": "markdown",
   "metadata": {},
   "source": [
    "## Below, you need to transform / clean / analyse the tweets. \n",
    "\n",
    "- You can use more than one cell to respond to each requirement.\n",
    "- After data transformation/cleaning/analysis, make sure to update the data (df)\n",
    "- Display the first five rows after each data transformation/cleaning/analysis"
   ]
  },
  {
   "cell_type": "markdown",
   "metadata": {},
   "source": [
    "### Data transformation & exploratory data analysis"
   ]
  },
  {
   "cell_type": "markdown",
   "metadata": {},
   "source": [
    "Lowercase words (you need to **update** your data --> the tweets need to be lowercased)"
   ]
  },
  {
   "cell_type": "code",
   "execution_count": 4,
   "metadata": {},
   "outputs": [
    {
     "data": {
      "text/html": [
       "<div>\n",
       "<style scoped>\n",
       "    .dataframe tbody tr th:only-of-type {\n",
       "        vertical-align: middle;\n",
       "    }\n",
       "\n",
       "    .dataframe tbody tr th {\n",
       "        vertical-align: top;\n",
       "    }\n",
       "\n",
       "    .dataframe thead th {\n",
       "        text-align: right;\n",
       "    }\n",
       "</style>\n",
       "<table border=\"1\" class=\"dataframe\">\n",
       "  <thead>\n",
       "    <tr style=\"text-align: right;\">\n",
       "      <th></th>\n",
       "      <th>tweet</th>\n",
       "    </tr>\n",
       "  </thead>\n",
       "  <tbody>\n",
       "    <tr>\n",
       "      <th>0</th>\n",
       "      <td>this development is pretty exciting for me #supplychain #sustainability</td>\n",
       "    </tr>\n",
       "    <tr>\n",
       "      <th>1</th>\n",
       "      <td>samsung assures excellent working conditions in china http://t.&lt;br&gt;co/9vcbil1xaj #workingconditions #supplychain #responsiblesourcing #rtw</td>\n",
       "    </tr>\n",
       "    <tr>\n",
       "      <th>2</th>\n",
       "      <td>loving the feedback that i am getting on this report today! #supplychain http://t.&lt;br&gt;co/7djajffl</td>\n",
       "    </tr>\n",
       "    <tr>\n",
       "      <th>3</th>\n",
       "      <td>as parked 787s multiply? boeing cash drain worries grow ... the future could be worse ...   http://t.&lt;br&gt;co/up6v9sbybi   #supplychain</td>\n",
       "    </tr>\n",
       "    <tr>\n",
       "      <th>4</th>\n",
       "      <td>chaina magazine: apple finds child labor abuses in its supply chain - as the controversy regarding. the situation is very bad ... http://t.&lt;br&gt;co/kt6mmxvng  #supplychain</td>\n",
       "    </tr>\n",
       "  </tbody>\n",
       "</table>\n",
       "</div>"
      ],
      "text/plain": [
       "                                                                                                                                                                       tweet\n",
       "0  this development is pretty exciting for me #supplychain #sustainability                                                                                                  \n",
       "1  samsung assures excellent working conditions in china http://t.<br>co/9vcbil1xaj #workingconditions #supplychain #responsiblesourcing #rtw                               \n",
       "2  loving the feedback that i am getting on this report today! #supplychain http://t.<br>co/7djajffl                                                                        \n",
       "3  as parked 787s multiply? boeing cash drain worries grow ... the future could be worse ...   http://t.<br>co/up6v9sbybi   #supplychain                                    \n",
       "4  chaina magazine: apple finds child labor abuses in its supply chain - as the controversy regarding. the situation is very bad ... http://t.<br>co/kt6mmxvng  #supplychain"
      ]
     },
     "execution_count": 4,
     "metadata": {},
     "output_type": "execute_result"
    }
   ],
   "source": [
    "df['tweet'] = df['tweet'].str.lower()\n",
    "df.head()"
   ]
  },
  {
   "cell_type": "markdown",
   "metadata": {},
   "source": [
    "Create a column \"retweet\" and show \"True\" if tweet is retweet"
   ]
  },
  {
   "cell_type": "code",
   "execution_count": 5,
   "metadata": {},
   "outputs": [
    {
     "data": {
      "text/html": [
       "<div>\n",
       "<style scoped>\n",
       "    .dataframe tbody tr th:only-of-type {\n",
       "        vertical-align: middle;\n",
       "    }\n",
       "\n",
       "    .dataframe tbody tr th {\n",
       "        vertical-align: top;\n",
       "    }\n",
       "\n",
       "    .dataframe thead th {\n",
       "        text-align: right;\n",
       "    }\n",
       "</style>\n",
       "<table border=\"1\" class=\"dataframe\">\n",
       "  <thead>\n",
       "    <tr style=\"text-align: right;\">\n",
       "      <th></th>\n",
       "      <th>tweet</th>\n",
       "      <th>rt</th>\n",
       "    </tr>\n",
       "  </thead>\n",
       "  <tbody>\n",
       "    <tr>\n",
       "      <th>13</th>\n",
       "      <td>#halloween my creepy candy caldron is ready thanks #biglots #pier1 #joann #trickortreat http://t.co/gbtfgtnohg</td>\n",
       "      <td>False</td>\n",
       "    </tr>\n",
       "    <tr>\n",
       "      <th>14</th>\n",
       "      <td>if u can find a use for it, pier1 has them on sale. http://t.co/zocbkihfia</td>\n",
       "      <td>False</td>\n",
       "    </tr>\n",
       "    <tr>\n",
       "      <th>15</th>\n",
       "      <td>pier 1 always has the most adorable halloween decorations. - http://t.co/s9u0rt13kp</td>\n",
       "      <td>False</td>\n",
       "    </tr>\n",
       "    <tr>\n",
       "      <th>16</th>\n",
       "      <td>rt @birchwood01: http://t.co/kygxxve7xf http://t.co/kc2nws9zhg</td>\n",
       "      <td>True</td>\n",
       "    </tr>\n",
       "    <tr>\n",
       "      <th>17</th>\n",
       "      <td>hello @marketcall could i please mr. vialoux's seasonal perspective on pier1 $pir for an oct to march trade? seasonal trend past 5 yrs.</td>\n",
       "      <td>False</td>\n",
       "    </tr>\n",
       "    <tr>\n",
       "      <th>18</th>\n",
       "      <td>6 guideposts to omnichannel evolution via @pier1 @risnewsinsights #omnichannel #retail http://t.co/1dwvz9safc</td>\n",
       "      <td>False</td>\n",
       "    </tr>\n",
       "  </tbody>\n",
       "</table>\n",
       "</div>"
      ],
      "text/plain": [
       "                                                                                                                                      tweet  \\\n",
       "13  #halloween my creepy candy caldron is ready thanks #biglots #pier1 #joann #trickortreat http://t.co/gbtfgtnohg                            \n",
       "14  if u can find a use for it, pier1 has them on sale. http://t.co/zocbkihfia                                                                \n",
       "15  pier 1 always has the most adorable halloween decorations. - http://t.co/s9u0rt13kp                                                       \n",
       "16  rt @birchwood01: http://t.co/kygxxve7xf http://t.co/kc2nws9zhg                                                                            \n",
       "17  hello @marketcall could i please mr. vialoux's seasonal perspective on pier1 $pir for an oct to march trade? seasonal trend past 5 yrs.   \n",
       "18  6 guideposts to omnichannel evolution via @pier1 @risnewsinsights #omnichannel #retail http://t.co/1dwvz9safc                             \n",
       "\n",
       "       rt  \n",
       "13  False  \n",
       "14  False  \n",
       "15  False  \n",
       "16  True   \n",
       "17  False  \n",
       "18  False  "
      ]
     },
     "execution_count": 5,
     "metadata": {},
     "output_type": "execute_result"
    }
   ],
   "source": [
    "df['rt'] = df['tweet']\n",
    "df['rt'] = df.tweet.str.contains(\"^rt\")\n",
    "df[13:19]"
   ]
  },
  {
   "cell_type": "code",
   "execution_count": 6,
   "metadata": {},
   "outputs": [
    {
     "data": {
      "text/plain": [
       "False    3450\n",
       "True     1064\n",
       "Name: rt, dtype: int64"
      ]
     },
     "execution_count": 6,
     "metadata": {},
     "output_type": "execute_result"
    }
   ],
   "source": [
    "df['rt'].value_counts()"
   ]
  },
  {
   "cell_type": "markdown",
   "metadata": {},
   "source": [
    "Find out how many reweets and how many original tweets in the data and display the analysis results below"
   ]
  },
  {
   "cell_type": "code",
   "execution_count": 7,
   "metadata": {},
   "outputs": [
    {
     "name": "stdout",
     "output_type": "stream",
     "text": [
      "There are 3450 original tweets and 1064 retweets\n"
     ]
    }
   ],
   "source": [
    "rt_count = 0\n",
    "og_count = 0\n",
    "for i in df['rt']:\n",
    "    if i == True:\n",
    "        rt_count += 1\n",
    "    else:\n",
    "        og_count += 1\n",
    "        \n",
    "print('There are %d original tweets and %d retweets' %(og_count, rt_count))"
   ]
  },
  {
   "cell_type": "markdown",
   "metadata": {},
   "source": [
    "Show the percentage of \"retweets\" in the data and display the result below"
   ]
  },
  {
   "cell_type": "code",
   "execution_count": 8,
   "metadata": {},
   "outputs": [
    {
     "name": "stdout",
     "output_type": "stream",
     "text": [
      "30.840579710144926\n"
     ]
    }
   ],
   "source": [
    "print(rt_count/og_count * 100)"
   ]
  },
  {
   "cell_type": "markdown",
   "metadata": {},
   "source": [
    "Find out the number of characters in each tweet and create a column \"counts\""
   ]
  },
  {
   "cell_type": "code",
   "execution_count": 9,
   "metadata": {},
   "outputs": [
    {
     "data": {
      "text/html": [
       "<div>\n",
       "<style scoped>\n",
       "    .dataframe tbody tr th:only-of-type {\n",
       "        vertical-align: middle;\n",
       "    }\n",
       "\n",
       "    .dataframe tbody tr th {\n",
       "        vertical-align: top;\n",
       "    }\n",
       "\n",
       "    .dataframe thead th {\n",
       "        text-align: right;\n",
       "    }\n",
       "</style>\n",
       "<table border=\"1\" class=\"dataframe\">\n",
       "  <thead>\n",
       "    <tr style=\"text-align: right;\">\n",
       "      <th></th>\n",
       "      <th>tweet</th>\n",
       "      <th>rt</th>\n",
       "      <th>count</th>\n",
       "    </tr>\n",
       "  </thead>\n",
       "  <tbody>\n",
       "    <tr>\n",
       "      <th>0</th>\n",
       "      <td>this development is pretty exciting for me #supplychain #sustainability</td>\n",
       "      <td>False</td>\n",
       "      <td>71</td>\n",
       "    </tr>\n",
       "    <tr>\n",
       "      <th>1</th>\n",
       "      <td>samsung assures excellent working conditions in china http://t.&lt;br&gt;co/9vcbil1xaj #workingconditions #supplychain #responsiblesourcing #rtw</td>\n",
       "      <td>False</td>\n",
       "      <td>138</td>\n",
       "    </tr>\n",
       "    <tr>\n",
       "      <th>2</th>\n",
       "      <td>loving the feedback that i am getting on this report today! #supplychain http://t.&lt;br&gt;co/7djajffl</td>\n",
       "      <td>False</td>\n",
       "      <td>97</td>\n",
       "    </tr>\n",
       "    <tr>\n",
       "      <th>3</th>\n",
       "      <td>as parked 787s multiply? boeing cash drain worries grow ... the future could be worse ...   http://t.&lt;br&gt;co/up6v9sbybi   #supplychain</td>\n",
       "      <td>False</td>\n",
       "      <td>133</td>\n",
       "    </tr>\n",
       "    <tr>\n",
       "      <th>4</th>\n",
       "      <td>chaina magazine: apple finds child labor abuses in its supply chain - as the controversy regarding. the situation is very bad ... http://t.&lt;br&gt;co/kt6mmxvng  #supplychain</td>\n",
       "      <td>False</td>\n",
       "      <td>169</td>\n",
       "    </tr>\n",
       "  </tbody>\n",
       "</table>\n",
       "</div>"
      ],
      "text/plain": [
       "                                                                                                                                                                       tweet  \\\n",
       "0  this development is pretty exciting for me #supplychain #sustainability                                                                                                     \n",
       "1  samsung assures excellent working conditions in china http://t.<br>co/9vcbil1xaj #workingconditions #supplychain #responsiblesourcing #rtw                                  \n",
       "2  loving the feedback that i am getting on this report today! #supplychain http://t.<br>co/7djajffl                                                                           \n",
       "3  as parked 787s multiply? boeing cash drain worries grow ... the future could be worse ...   http://t.<br>co/up6v9sbybi   #supplychain                                       \n",
       "4  chaina magazine: apple finds child labor abuses in its supply chain - as the controversy regarding. the situation is very bad ... http://t.<br>co/kt6mmxvng  #supplychain   \n",
       "\n",
       "      rt  count  \n",
       "0  False  71     \n",
       "1  False  138    \n",
       "2  False  97     \n",
       "3  False  133    \n",
       "4  False  169    "
      ]
     },
     "execution_count": 9,
     "metadata": {},
     "output_type": "execute_result"
    }
   ],
   "source": [
    "df['count'] = df['tweet'].str.len()\n",
    "df.head()"
   ]
  },
  {
   "cell_type": "markdown",
   "metadata": {},
   "source": [
    "Find out the number of words in each tweet and create a column \"wordcount\""
   ]
  },
  {
   "cell_type": "code",
   "execution_count": 10,
   "metadata": {},
   "outputs": [
    {
     "data": {
      "text/html": [
       "<div>\n",
       "<style scoped>\n",
       "    .dataframe tbody tr th:only-of-type {\n",
       "        vertical-align: middle;\n",
       "    }\n",
       "\n",
       "    .dataframe tbody tr th {\n",
       "        vertical-align: top;\n",
       "    }\n",
       "\n",
       "    .dataframe thead th {\n",
       "        text-align: right;\n",
       "    }\n",
       "</style>\n",
       "<table border=\"1\" class=\"dataframe\">\n",
       "  <thead>\n",
       "    <tr style=\"text-align: right;\">\n",
       "      <th></th>\n",
       "      <th>tweet</th>\n",
       "      <th>rt</th>\n",
       "      <th>count</th>\n",
       "      <th>wordcount</th>\n",
       "    </tr>\n",
       "  </thead>\n",
       "  <tbody>\n",
       "    <tr>\n",
       "      <th>0</th>\n",
       "      <td>this development is pretty exciting for me #supplychain #sustainability</td>\n",
       "      <td>False</td>\n",
       "      <td>71</td>\n",
       "      <td>9</td>\n",
       "    </tr>\n",
       "    <tr>\n",
       "      <th>1</th>\n",
       "      <td>samsung assures excellent working conditions in china http://t.&lt;br&gt;co/9vcbil1xaj #workingconditions #supplychain #responsiblesourcing #rtw</td>\n",
       "      <td>False</td>\n",
       "      <td>138</td>\n",
       "      <td>12</td>\n",
       "    </tr>\n",
       "    <tr>\n",
       "      <th>2</th>\n",
       "      <td>loving the feedback that i am getting on this report today! #supplychain http://t.&lt;br&gt;co/7djajffl</td>\n",
       "      <td>False</td>\n",
       "      <td>97</td>\n",
       "      <td>13</td>\n",
       "    </tr>\n",
       "    <tr>\n",
       "      <th>3</th>\n",
       "      <td>as parked 787s multiply? boeing cash drain worries grow ... the future could be worse ...   http://t.&lt;br&gt;co/up6v9sbybi   #supplychain</td>\n",
       "      <td>False</td>\n",
       "      <td>133</td>\n",
       "      <td>18</td>\n",
       "    </tr>\n",
       "    <tr>\n",
       "      <th>4</th>\n",
       "      <td>chaina magazine: apple finds child labor abuses in its supply chain - as the controversy regarding. the situation is very bad ... http://t.&lt;br&gt;co/kt6mmxvng  #supplychain</td>\n",
       "      <td>False</td>\n",
       "      <td>169</td>\n",
       "      <td>24</td>\n",
       "    </tr>\n",
       "  </tbody>\n",
       "</table>\n",
       "</div>"
      ],
      "text/plain": [
       "                                                                                                                                                                       tweet  \\\n",
       "0  this development is pretty exciting for me #supplychain #sustainability                                                                                                     \n",
       "1  samsung assures excellent working conditions in china http://t.<br>co/9vcbil1xaj #workingconditions #supplychain #responsiblesourcing #rtw                                  \n",
       "2  loving the feedback that i am getting on this report today! #supplychain http://t.<br>co/7djajffl                                                                           \n",
       "3  as parked 787s multiply? boeing cash drain worries grow ... the future could be worse ...   http://t.<br>co/up6v9sbybi   #supplychain                                       \n",
       "4  chaina magazine: apple finds child labor abuses in its supply chain - as the controversy regarding. the situation is very bad ... http://t.<br>co/kt6mmxvng  #supplychain   \n",
       "\n",
       "      rt  count  wordcount  \n",
       "0  False  71     9          \n",
       "1  False  138    12         \n",
       "2  False  97     13         \n",
       "3  False  133    18         \n",
       "4  False  169    24         "
      ]
     },
     "execution_count": 10,
     "metadata": {},
     "output_type": "execute_result"
    }
   ],
   "source": [
    "df['wordcount'] = df['tweet'].str.split().str.len() \n",
    "#Here we use the vectorised str.split to split on spaces and count the number of objects following the module via str.len()\n",
    "df.head()"
   ]
  },
  {
   "cell_type": "markdown",
   "metadata": {},
   "source": [
    "Find the average word length and create a column \"avgwordlen\""
   ]
  },
  {
   "cell_type": "code",
   "execution_count": 11,
   "metadata": {},
   "outputs": [
    {
     "data": {
      "text/html": [
       "<div>\n",
       "<style scoped>\n",
       "    .dataframe tbody tr th:only-of-type {\n",
       "        vertical-align: middle;\n",
       "    }\n",
       "\n",
       "    .dataframe tbody tr th {\n",
       "        vertical-align: top;\n",
       "    }\n",
       "\n",
       "    .dataframe thead th {\n",
       "        text-align: right;\n",
       "    }\n",
       "</style>\n",
       "<table border=\"1\" class=\"dataframe\">\n",
       "  <thead>\n",
       "    <tr style=\"text-align: right;\">\n",
       "      <th></th>\n",
       "      <th>tweet</th>\n",
       "      <th>rt</th>\n",
       "      <th>count</th>\n",
       "      <th>wordcount</th>\n",
       "      <th>avgwordlen</th>\n",
       "    </tr>\n",
       "  </thead>\n",
       "  <tbody>\n",
       "    <tr>\n",
       "      <th>0</th>\n",
       "      <td>this development is pretty exciting for me #supplychain #sustainability</td>\n",
       "      <td>False</td>\n",
       "      <td>71</td>\n",
       "      <td>9</td>\n",
       "      <td>8.0</td>\n",
       "    </tr>\n",
       "    <tr>\n",
       "      <th>1</th>\n",
       "      <td>samsung assures excellent working conditions in china http://t.&lt;br&gt;co/9vcbil1xaj #workingconditions #supplychain #responsiblesourcing #rtw</td>\n",
       "      <td>False</td>\n",
       "      <td>138</td>\n",
       "      <td>12</td>\n",
       "      <td>12.0</td>\n",
       "    </tr>\n",
       "    <tr>\n",
       "      <th>2</th>\n",
       "      <td>loving the feedback that i am getting on this report today! #supplychain http://t.&lt;br&gt;co/7djajffl</td>\n",
       "      <td>False</td>\n",
       "      <td>97</td>\n",
       "      <td>13</td>\n",
       "      <td>7.0</td>\n",
       "    </tr>\n",
       "    <tr>\n",
       "      <th>3</th>\n",
       "      <td>as parked 787s multiply? boeing cash drain worries grow ... the future could be worse ...   http://t.&lt;br&gt;co/up6v9sbybi   #supplychain</td>\n",
       "      <td>False</td>\n",
       "      <td>133</td>\n",
       "      <td>18</td>\n",
       "      <td>7.0</td>\n",
       "    </tr>\n",
       "    <tr>\n",
       "      <th>4</th>\n",
       "      <td>chaina magazine: apple finds child labor abuses in its supply chain - as the controversy regarding. the situation is very bad ... http://t.&lt;br&gt;co/kt6mmxvng  #supplychain</td>\n",
       "      <td>False</td>\n",
       "      <td>169</td>\n",
       "      <td>24</td>\n",
       "      <td>7.0</td>\n",
       "    </tr>\n",
       "  </tbody>\n",
       "</table>\n",
       "</div>"
      ],
      "text/plain": [
       "                                                                                                                                                                       tweet  \\\n",
       "0  this development is pretty exciting for me #supplychain #sustainability                                                                                                     \n",
       "1  samsung assures excellent working conditions in china http://t.<br>co/9vcbil1xaj #workingconditions #supplychain #responsiblesourcing #rtw                                  \n",
       "2  loving the feedback that i am getting on this report today! #supplychain http://t.<br>co/7djajffl                                                                           \n",
       "3  as parked 787s multiply? boeing cash drain worries grow ... the future could be worse ...   http://t.<br>co/up6v9sbybi   #supplychain                                       \n",
       "4  chaina magazine: apple finds child labor abuses in its supply chain - as the controversy regarding. the situation is very bad ... http://t.<br>co/kt6mmxvng  #supplychain   \n",
       "\n",
       "      rt  count  wordcount  avgwordlen  \n",
       "0  False  71     9          8.0         \n",
       "1  False  138    12         12.0        \n",
       "2  False  97     13         7.0         \n",
       "3  False  133    18         7.0         \n",
       "4  False  169    24         7.0         "
      ]
     },
     "execution_count": 11,
     "metadata": {},
     "output_type": "execute_result"
    }
   ],
   "source": [
    "df['avgwordlen'] =  df['count']/df['wordcount']\n",
    "df = df.round()\n",
    "df.head()"
   ]
  },
  {
   "cell_type": "markdown",
   "metadata": {},
   "source": [
    "Find the overall aveage of word length and display below"
   ]
  },
  {
   "cell_type": "code",
   "execution_count": 12,
   "metadata": {},
   "outputs": [
    {
     "data": {
      "text/plain": [
       "7.4517058041648205"
      ]
     },
     "execution_count": 12,
     "metadata": {},
     "output_type": "execute_result"
    }
   ],
   "source": [
    "df['avgwordlen'].mean()"
   ]
  },
  {
   "cell_type": "markdown",
   "metadata": {},
   "source": [
    "Find hashtags and creat a column \"hash\""
   ]
  },
  {
   "cell_type": "code",
   "execution_count": 13,
   "metadata": {},
   "outputs": [
    {
     "data": {
      "text/html": [
       "<div>\n",
       "<style scoped>\n",
       "    .dataframe tbody tr th:only-of-type {\n",
       "        vertical-align: middle;\n",
       "    }\n",
       "\n",
       "    .dataframe tbody tr th {\n",
       "        vertical-align: top;\n",
       "    }\n",
       "\n",
       "    .dataframe thead th {\n",
       "        text-align: right;\n",
       "    }\n",
       "</style>\n",
       "<table border=\"1\" class=\"dataframe\">\n",
       "  <thead>\n",
       "    <tr style=\"text-align: right;\">\n",
       "      <th></th>\n",
       "      <th>tweet</th>\n",
       "      <th>rt</th>\n",
       "      <th>count</th>\n",
       "      <th>wordcount</th>\n",
       "      <th>avgwordlen</th>\n",
       "      <th>hash</th>\n",
       "    </tr>\n",
       "  </thead>\n",
       "  <tbody>\n",
       "    <tr>\n",
       "      <th>0</th>\n",
       "      <td>this development is pretty exciting for me #supplychain #sustainability</td>\n",
       "      <td>False</td>\n",
       "      <td>71</td>\n",
       "      <td>9</td>\n",
       "      <td>8.0</td>\n",
       "      <td>[supplychain, sustainability]</td>\n",
       "    </tr>\n",
       "    <tr>\n",
       "      <th>1</th>\n",
       "      <td>samsung assures excellent working conditions in china http://t.&lt;br&gt;co/9vcbil1xaj #workingconditions #supplychain #responsiblesourcing #rtw</td>\n",
       "      <td>False</td>\n",
       "      <td>138</td>\n",
       "      <td>12</td>\n",
       "      <td>12.0</td>\n",
       "      <td>[workingconditions, supplychain, responsiblesourcing, rtw]</td>\n",
       "    </tr>\n",
       "    <tr>\n",
       "      <th>2</th>\n",
       "      <td>loving the feedback that i am getting on this report today! #supplychain http://t.&lt;br&gt;co/7djajffl</td>\n",
       "      <td>False</td>\n",
       "      <td>97</td>\n",
       "      <td>13</td>\n",
       "      <td>7.0</td>\n",
       "      <td>[supplychain]</td>\n",
       "    </tr>\n",
       "    <tr>\n",
       "      <th>3</th>\n",
       "      <td>as parked 787s multiply? boeing cash drain worries grow ... the future could be worse ...   http://t.&lt;br&gt;co/up6v9sbybi   #supplychain</td>\n",
       "      <td>False</td>\n",
       "      <td>133</td>\n",
       "      <td>18</td>\n",
       "      <td>7.0</td>\n",
       "      <td>[supplychain]</td>\n",
       "    </tr>\n",
       "    <tr>\n",
       "      <th>4</th>\n",
       "      <td>chaina magazine: apple finds child labor abuses in its supply chain - as the controversy regarding. the situation is very bad ... http://t.&lt;br&gt;co/kt6mmxvng  #supplychain</td>\n",
       "      <td>False</td>\n",
       "      <td>169</td>\n",
       "      <td>24</td>\n",
       "      <td>7.0</td>\n",
       "      <td>[supplychain]</td>\n",
       "    </tr>\n",
       "  </tbody>\n",
       "</table>\n",
       "</div>"
      ],
      "text/plain": [
       "                                                                                                                                                                       tweet  \\\n",
       "0  this development is pretty exciting for me #supplychain #sustainability                                                                                                     \n",
       "1  samsung assures excellent working conditions in china http://t.<br>co/9vcbil1xaj #workingconditions #supplychain #responsiblesourcing #rtw                                  \n",
       "2  loving the feedback that i am getting on this report today! #supplychain http://t.<br>co/7djajffl                                                                           \n",
       "3  as parked 787s multiply? boeing cash drain worries grow ... the future could be worse ...   http://t.<br>co/up6v9sbybi   #supplychain                                       \n",
       "4  chaina magazine: apple finds child labor abuses in its supply chain - as the controversy regarding. the situation is very bad ... http://t.<br>co/kt6mmxvng  #supplychain   \n",
       "\n",
       "      rt  count  wordcount  avgwordlen  \\\n",
       "0  False  71     9          8.0          \n",
       "1  False  138    12         12.0         \n",
       "2  False  97     13         7.0          \n",
       "3  False  133    18         7.0          \n",
       "4  False  169    24         7.0          \n",
       "\n",
       "                                                         hash  \n",
       "0  [supplychain, sustainability]                               \n",
       "1  [workingconditions, supplychain, responsiblesourcing, rtw]  \n",
       "2  [supplychain]                                               \n",
       "3  [supplychain]                                               \n",
       "4  [supplychain]                                               "
      ]
     },
     "execution_count": 13,
     "metadata": {},
     "output_type": "execute_result"
    }
   ],
   "source": [
    "df['hash'] = df.tweet.str.findall(\"(?<=#)\\w+\")\n",
    "df.head()"
   ]
  },
  {
   "cell_type": "markdown",
   "metadata": {},
   "source": [
    "Find the average number of hashtags per tweet and display it below"
   ]
  },
  {
   "cell_type": "code",
   "execution_count": 14,
   "metadata": {},
   "outputs": [
    {
     "data": {
      "text/plain": [
       "0.7233052724856004"
      ]
     },
     "execution_count": 14,
     "metadata": {},
     "output_type": "execute_result"
    }
   ],
   "source": [
    "df['hash'].apply(', '.join)\n",
    "df['hash'].str.len().mean()"
   ]
  },
  {
   "cell_type": "markdown",
   "metadata": {},
   "source": [
    "Find Twitter mentions (e.g., @cnn, @kstate_cba) and create a column \"mentions\""
   ]
  },
  {
   "cell_type": "code",
   "execution_count": 15,
   "metadata": {
    "scrolled": true
   },
   "outputs": [
    {
     "data": {
      "text/html": [
       "<div>\n",
       "<style scoped>\n",
       "    .dataframe tbody tr th:only-of-type {\n",
       "        vertical-align: middle;\n",
       "    }\n",
       "\n",
       "    .dataframe tbody tr th {\n",
       "        vertical-align: top;\n",
       "    }\n",
       "\n",
       "    .dataframe thead th {\n",
       "        text-align: right;\n",
       "    }\n",
       "</style>\n",
       "<table border=\"1\" class=\"dataframe\">\n",
       "  <thead>\n",
       "    <tr style=\"text-align: right;\">\n",
       "      <th></th>\n",
       "      <th>tweet</th>\n",
       "      <th>rt</th>\n",
       "      <th>count</th>\n",
       "      <th>wordcount</th>\n",
       "      <th>avgwordlen</th>\n",
       "      <th>hash</th>\n",
       "      <th>mentions</th>\n",
       "    </tr>\n",
       "  </thead>\n",
       "  <tbody>\n",
       "    <tr>\n",
       "      <th>0</th>\n",
       "      <td>this development is pretty exciting for me #supplychain #sustainability</td>\n",
       "      <td>False</td>\n",
       "      <td>71</td>\n",
       "      <td>9</td>\n",
       "      <td>8.0</td>\n",
       "      <td>[supplychain, sustainability]</td>\n",
       "      <td></td>\n",
       "    </tr>\n",
       "    <tr>\n",
       "      <th>1</th>\n",
       "      <td>samsung assures excellent working conditions in china http://t.&lt;br&gt;co/9vcbil1xaj #workingconditions #supplychain #responsiblesourcing #rtw</td>\n",
       "      <td>False</td>\n",
       "      <td>138</td>\n",
       "      <td>12</td>\n",
       "      <td>12.0</td>\n",
       "      <td>[workingconditions, supplychain, responsiblesourcing, rtw]</td>\n",
       "      <td></td>\n",
       "    </tr>\n",
       "    <tr>\n",
       "      <th>2</th>\n",
       "      <td>loving the feedback that i am getting on this report today! #supplychain http://t.&lt;br&gt;co/7djajffl</td>\n",
       "      <td>False</td>\n",
       "      <td>97</td>\n",
       "      <td>13</td>\n",
       "      <td>7.0</td>\n",
       "      <td>[supplychain]</td>\n",
       "      <td></td>\n",
       "    </tr>\n",
       "    <tr>\n",
       "      <th>3</th>\n",
       "      <td>as parked 787s multiply? boeing cash drain worries grow ... the future could be worse ...   http://t.&lt;br&gt;co/up6v9sbybi   #supplychain</td>\n",
       "      <td>False</td>\n",
       "      <td>133</td>\n",
       "      <td>18</td>\n",
       "      <td>7.0</td>\n",
       "      <td>[supplychain]</td>\n",
       "      <td></td>\n",
       "    </tr>\n",
       "    <tr>\n",
       "      <th>4</th>\n",
       "      <td>chaina magazine: apple finds child labor abuses in its supply chain - as the controversy regarding. the situation is very bad ... http://t.&lt;br&gt;co/kt6mmxvng  #supplychain</td>\n",
       "      <td>False</td>\n",
       "      <td>169</td>\n",
       "      <td>24</td>\n",
       "      <td>7.0</td>\n",
       "      <td>[supplychain]</td>\n",
       "      <td></td>\n",
       "    </tr>\n",
       "  </tbody>\n",
       "</table>\n",
       "</div>"
      ],
      "text/plain": [
       "                                                                                                                                                                       tweet  \\\n",
       "0  this development is pretty exciting for me #supplychain #sustainability                                                                                                     \n",
       "1  samsung assures excellent working conditions in china http://t.<br>co/9vcbil1xaj #workingconditions #supplychain #responsiblesourcing #rtw                                  \n",
       "2  loving the feedback that i am getting on this report today! #supplychain http://t.<br>co/7djajffl                                                                           \n",
       "3  as parked 787s multiply? boeing cash drain worries grow ... the future could be worse ...   http://t.<br>co/up6v9sbybi   #supplychain                                       \n",
       "4  chaina magazine: apple finds child labor abuses in its supply chain - as the controversy regarding. the situation is very bad ... http://t.<br>co/kt6mmxvng  #supplychain   \n",
       "\n",
       "      rt  count  wordcount  avgwordlen  \\\n",
       "0  False  71     9          8.0          \n",
       "1  False  138    12         12.0         \n",
       "2  False  97     13         7.0          \n",
       "3  False  133    18         7.0          \n",
       "4  False  169    24         7.0          \n",
       "\n",
       "                                                         hash mentions  \n",
       "0  [supplychain, sustainability]                                        \n",
       "1  [workingconditions, supplychain, responsiblesourcing, rtw]           \n",
       "2  [supplychain]                                                        \n",
       "3  [supplychain]                                                        \n",
       "4  [supplychain]                                                        "
      ]
     },
     "execution_count": 15,
     "metadata": {},
     "output_type": "execute_result"
    }
   ],
   "source": [
    "df['mentions'] = df.tweet.str.findall(\"(?<=@)\\w+\")\n",
    "df['mentions'] = df['mentions'].apply(', '.join)\n",
    "df.head()"
   ]
  },
  {
   "cell_type": "markdown",
   "metadata": {},
   "source": [
    "Find the average number of mentions per tweet and display it below"
   ]
  },
  {
   "cell_type": "code",
   "execution_count": 16,
   "metadata": {},
   "outputs": [
    {
     "data": {
      "text/plain": [
       "0.924235711120957"
      ]
     },
     "execution_count": 16,
     "metadata": {},
     "output_type": "execute_result"
    }
   ],
   "source": [
    "df['mentions'].str.split().str.len().mean()"
   ]
  },
  {
   "cell_type": "markdown",
   "metadata": {},
   "source": [
    "Find out how many tweets contain the word \"store\" and display the analysis result"
   ]
  },
  {
   "cell_type": "code",
   "execution_count": 17,
   "metadata": {},
   "outputs": [
    {
     "data": {
      "text/plain": [
       "False    4167\n",
       "True     347 \n",
       "Name: tweet, dtype: int64"
      ]
     },
     "execution_count": 17,
     "metadata": {},
     "output_type": "execute_result"
    }
   ],
   "source": [
    "df['tweet'].str.contains(\"store\").value_counts()"
   ]
  },
  {
   "cell_type": "markdown",
   "metadata": {},
   "source": [
    "### Text cleaning "
   ]
  },
  {
   "cell_type": "markdown",
   "metadata": {},
   "source": [
    "Remove numbers in tweets and update the column"
   ]
  },
  {
   "cell_type": "code",
   "execution_count": 18,
   "metadata": {},
   "outputs": [],
   "source": [
    "df['tweet'] = df['tweet'].str.replace('\\d+', '')"
   ]
  },
  {
   "cell_type": "markdown",
   "metadata": {},
   "source": [
    "Remove urls and the update the column"
   ]
  },
  {
   "cell_type": "code",
   "execution_count": 19,
   "metadata": {},
   "outputs": [],
   "source": [
    "df['tweet'] = df['tweet'].str.replace('http\\S+|www.\\S+', '')"
   ]
  },
  {
   "cell_type": "markdown",
   "metadata": {},
   "source": [
    "Remove non-alphabetic words & characters and update the column"
   ]
  },
  {
   "cell_type": "code",
   "execution_count": 20,
   "metadata": {},
   "outputs": [],
   "source": [
    "df['tweet'] = df['tweet'].str.replace('[^a-zA-Z]+', ' ')"
   ]
  },
  {
   "cell_type": "markdown",
   "metadata": {},
   "source": [
    "Remove short words (< 3) and update the column"
   ]
  },
  {
   "cell_type": "code",
   "execution_count": 21,
   "metadata": {},
   "outputs": [
    {
     "data": {
      "text/html": [
       "<div>\n",
       "<style scoped>\n",
       "    .dataframe tbody tr th:only-of-type {\n",
       "        vertical-align: middle;\n",
       "    }\n",
       "\n",
       "    .dataframe tbody tr th {\n",
       "        vertical-align: top;\n",
       "    }\n",
       "\n",
       "    .dataframe thead th {\n",
       "        text-align: right;\n",
       "    }\n",
       "</style>\n",
       "<table border=\"1\" class=\"dataframe\">\n",
       "  <thead>\n",
       "    <tr style=\"text-align: right;\">\n",
       "      <th></th>\n",
       "      <th>tweet</th>\n",
       "      <th>rt</th>\n",
       "      <th>count</th>\n",
       "      <th>wordcount</th>\n",
       "      <th>avgwordlen</th>\n",
       "      <th>hash</th>\n",
       "      <th>mentions</th>\n",
       "    </tr>\n",
       "  </thead>\n",
       "  <tbody>\n",
       "    <tr>\n",
       "      <th>0</th>\n",
       "      <td>this development pretty exciting for supplychain sustainability</td>\n",
       "      <td>False</td>\n",
       "      <td>71</td>\n",
       "      <td>9</td>\n",
       "      <td>8.0</td>\n",
       "      <td>[supplychain, sustainability]</td>\n",
       "      <td></td>\n",
       "    </tr>\n",
       "    <tr>\n",
       "      <th>1</th>\n",
       "      <td>samsung assures excellent working conditions china workingconditions supplychain responsiblesourcing rtw</td>\n",
       "      <td>False</td>\n",
       "      <td>138</td>\n",
       "      <td>12</td>\n",
       "      <td>12.0</td>\n",
       "      <td>[workingconditions, supplychain, responsiblesourcing, rtw]</td>\n",
       "      <td></td>\n",
       "    </tr>\n",
       "    <tr>\n",
       "      <th>2</th>\n",
       "      <td>loving the feedback that getting this report today supplychain</td>\n",
       "      <td>False</td>\n",
       "      <td>97</td>\n",
       "      <td>13</td>\n",
       "      <td>7.0</td>\n",
       "      <td>[supplychain]</td>\n",
       "      <td></td>\n",
       "    </tr>\n",
       "    <tr>\n",
       "      <th>3</th>\n",
       "      <td>parked multiply boeing cash drain worries grow the future could worse supplychain</td>\n",
       "      <td>False</td>\n",
       "      <td>133</td>\n",
       "      <td>18</td>\n",
       "      <td>7.0</td>\n",
       "      <td>[supplychain]</td>\n",
       "      <td></td>\n",
       "    </tr>\n",
       "    <tr>\n",
       "      <th>4</th>\n",
       "      <td>chaina magazine apple finds child labor abuses its supply chain the controversy regarding the situation very bad supplychain</td>\n",
       "      <td>False</td>\n",
       "      <td>169</td>\n",
       "      <td>24</td>\n",
       "      <td>7.0</td>\n",
       "      <td>[supplychain]</td>\n",
       "      <td></td>\n",
       "    </tr>\n",
       "  </tbody>\n",
       "</table>\n",
       "</div>"
      ],
      "text/plain": [
       "                                                                                                                          tweet  \\\n",
       "0  this development pretty exciting for supplychain sustainability                                                                \n",
       "1  samsung assures excellent working conditions china workingconditions supplychain responsiblesourcing rtw                       \n",
       "2  loving the feedback that getting this report today supplychain                                                                 \n",
       "3  parked multiply boeing cash drain worries grow the future could worse supplychain                                              \n",
       "4  chaina magazine apple finds child labor abuses its supply chain the controversy regarding the situation very bad supplychain   \n",
       "\n",
       "      rt  count  wordcount  avgwordlen  \\\n",
       "0  False  71     9          8.0          \n",
       "1  False  138    12         12.0         \n",
       "2  False  97     13         7.0          \n",
       "3  False  133    18         7.0          \n",
       "4  False  169    24         7.0          \n",
       "\n",
       "                                                         hash mentions  \n",
       "0  [supplychain, sustainability]                                        \n",
       "1  [workingconditions, supplychain, responsiblesourcing, rtw]           \n",
       "2  [supplychain]                                                        \n",
       "3  [supplychain]                                                        \n",
       "4  [supplychain]                                                        "
      ]
     },
     "execution_count": 21,
     "metadata": {},
     "output_type": "execute_result"
    }
   ],
   "source": [
    "df['tweet'] = df['tweet'].str.findall('\\w{3,}').str.join(' ')\n",
    "df.head()"
   ]
  },
  {
   "cell_type": "markdown",
   "metadata": {},
   "source": [
    "Remove stopwords and update the column"
   ]
  },
  {
   "cell_type": "code",
   "execution_count": 22,
   "metadata": {},
   "outputs": [],
   "source": [
    "from nltk.corpus import stopwords\n",
    "stopwords = stopwords.words('english')"
   ]
  },
  {
   "cell_type": "code",
   "execution_count": 23,
   "metadata": {},
   "outputs": [
    {
     "data": {
      "text/html": [
       "<div>\n",
       "<style scoped>\n",
       "    .dataframe tbody tr th:only-of-type {\n",
       "        vertical-align: middle;\n",
       "    }\n",
       "\n",
       "    .dataframe tbody tr th {\n",
       "        vertical-align: top;\n",
       "    }\n",
       "\n",
       "    .dataframe thead th {\n",
       "        text-align: right;\n",
       "    }\n",
       "</style>\n",
       "<table border=\"1\" class=\"dataframe\">\n",
       "  <thead>\n",
       "    <tr style=\"text-align: right;\">\n",
       "      <th></th>\n",
       "      <th>tweet</th>\n",
       "      <th>rt</th>\n",
       "      <th>count</th>\n",
       "      <th>wordcount</th>\n",
       "      <th>avgwordlen</th>\n",
       "      <th>hash</th>\n",
       "      <th>mentions</th>\n",
       "    </tr>\n",
       "  </thead>\n",
       "  <tbody>\n",
       "    <tr>\n",
       "      <th>0</th>\n",
       "      <td>development pretty exciting supplychain sustainability</td>\n",
       "      <td>False</td>\n",
       "      <td>71</td>\n",
       "      <td>9</td>\n",
       "      <td>8.0</td>\n",
       "      <td>[supplychain, sustainability]</td>\n",
       "      <td></td>\n",
       "    </tr>\n",
       "    <tr>\n",
       "      <th>1</th>\n",
       "      <td>samsung assures excellent working conditions china workingconditions supplychain responsiblesourcing rtw</td>\n",
       "      <td>False</td>\n",
       "      <td>138</td>\n",
       "      <td>12</td>\n",
       "      <td>12.0</td>\n",
       "      <td>[workingconditions, supplychain, responsiblesourcing, rtw]</td>\n",
       "      <td></td>\n",
       "    </tr>\n",
       "    <tr>\n",
       "      <th>2</th>\n",
       "      <td>loving feedback getting report today supplychain</td>\n",
       "      <td>False</td>\n",
       "      <td>97</td>\n",
       "      <td>13</td>\n",
       "      <td>7.0</td>\n",
       "      <td>[supplychain]</td>\n",
       "      <td></td>\n",
       "    </tr>\n",
       "    <tr>\n",
       "      <th>3</th>\n",
       "      <td>parked multiply boeing cash drain worries grow future could worse supplychain</td>\n",
       "      <td>False</td>\n",
       "      <td>133</td>\n",
       "      <td>18</td>\n",
       "      <td>7.0</td>\n",
       "      <td>[supplychain]</td>\n",
       "      <td></td>\n",
       "    </tr>\n",
       "    <tr>\n",
       "      <th>4</th>\n",
       "      <td>chaina magazine apple finds child labor abuses supply chain controversy regarding situation bad supplychain</td>\n",
       "      <td>False</td>\n",
       "      <td>169</td>\n",
       "      <td>24</td>\n",
       "      <td>7.0</td>\n",
       "      <td>[supplychain]</td>\n",
       "      <td></td>\n",
       "    </tr>\n",
       "  </tbody>\n",
       "</table>\n",
       "</div>"
      ],
      "text/plain": [
       "                                                                                                         tweet  \\\n",
       "0  development pretty exciting supplychain sustainability                                                        \n",
       "1  samsung assures excellent working conditions china workingconditions supplychain responsiblesourcing rtw      \n",
       "2  loving feedback getting report today supplychain                                                              \n",
       "3  parked multiply boeing cash drain worries grow future could worse supplychain                                 \n",
       "4  chaina magazine apple finds child labor abuses supply chain controversy regarding situation bad supplychain   \n",
       "\n",
       "      rt  count  wordcount  avgwordlen  \\\n",
       "0  False  71     9          8.0          \n",
       "1  False  138    12         12.0         \n",
       "2  False  97     13         7.0          \n",
       "3  False  133    18         7.0          \n",
       "4  False  169    24         7.0          \n",
       "\n",
       "                                                         hash mentions  \n",
       "0  [supplychain, sustainability]                                        \n",
       "1  [workingconditions, supplychain, responsiblesourcing, rtw]           \n",
       "2  [supplychain]                                                        \n",
       "3  [supplychain]                                                        \n",
       "4  [supplychain]                                                        "
      ]
     },
     "execution_count": 23,
     "metadata": {},
     "output_type": "execute_result"
    }
   ],
   "source": [
    "df['tweet'] = df['tweet'].apply(lambda x: ' '.join([word for word in x.split() if word not in (stopwords)]))\n",
    "df.head()"
   ]
  },
  {
   "cell_type": "markdown",
   "metadata": {},
   "source": [
    "Do lemmatization and update the column"
   ]
  },
  {
   "cell_type": "code",
   "execution_count": 24,
   "metadata": {},
   "outputs": [
    {
     "data": {
      "text/html": [
       "<div>\n",
       "<style scoped>\n",
       "    .dataframe tbody tr th:only-of-type {\n",
       "        vertical-align: middle;\n",
       "    }\n",
       "\n",
       "    .dataframe tbody tr th {\n",
       "        vertical-align: top;\n",
       "    }\n",
       "\n",
       "    .dataframe thead th {\n",
       "        text-align: right;\n",
       "    }\n",
       "</style>\n",
       "<table border=\"1\" class=\"dataframe\">\n",
       "  <thead>\n",
       "    <tr style=\"text-align: right;\">\n",
       "      <th></th>\n",
       "      <th>tweet</th>\n",
       "      <th>rt</th>\n",
       "      <th>count</th>\n",
       "      <th>wordcount</th>\n",
       "      <th>avgwordlen</th>\n",
       "      <th>hash</th>\n",
       "      <th>mentions</th>\n",
       "      <th>token_tweet</th>\n",
       "    </tr>\n",
       "  </thead>\n",
       "  <tbody>\n",
       "    <tr>\n",
       "      <th>0</th>\n",
       "      <td>development, pretty, exciting, supplychain, sustainability</td>\n",
       "      <td>False</td>\n",
       "      <td>71</td>\n",
       "      <td>9</td>\n",
       "      <td>8.0</td>\n",
       "      <td>[supplychain, sustainability]</td>\n",
       "      <td></td>\n",
       "      <td>[development, pretty, exciting, supplychain, sustainability]</td>\n",
       "    </tr>\n",
       "    <tr>\n",
       "      <th>1</th>\n",
       "      <td>samsung, assures, excellent, working, condition, china, workingconditions, supplychain, responsiblesourcing, rtw</td>\n",
       "      <td>False</td>\n",
       "      <td>138</td>\n",
       "      <td>12</td>\n",
       "      <td>12.0</td>\n",
       "      <td>[workingconditions, supplychain, responsiblesourcing, rtw]</td>\n",
       "      <td></td>\n",
       "      <td>[samsung, assures, excellent, working, condition, china, workingconditions, supplychain, responsiblesourcing, rtw]</td>\n",
       "    </tr>\n",
       "    <tr>\n",
       "      <th>2</th>\n",
       "      <td>loving, feedback, getting, report, today, supplychain</td>\n",
       "      <td>False</td>\n",
       "      <td>97</td>\n",
       "      <td>13</td>\n",
       "      <td>7.0</td>\n",
       "      <td>[supplychain]</td>\n",
       "      <td></td>\n",
       "      <td>[loving, feedback, getting, report, today, supplychain]</td>\n",
       "    </tr>\n",
       "    <tr>\n",
       "      <th>3</th>\n",
       "      <td>parked, multiply, boeing, cash, drain, worry, grow, future, could, worse, supplychain</td>\n",
       "      <td>False</td>\n",
       "      <td>133</td>\n",
       "      <td>18</td>\n",
       "      <td>7.0</td>\n",
       "      <td>[supplychain]</td>\n",
       "      <td></td>\n",
       "      <td>[parked, multiply, boeing, cash, drain, worry, grow, future, could, worse, supplychain]</td>\n",
       "    </tr>\n",
       "    <tr>\n",
       "      <th>4</th>\n",
       "      <td>chaina, magazine, apple, find, child, labor, abuse, supply, chain, controversy, regarding, situation, bad, supplychain</td>\n",
       "      <td>False</td>\n",
       "      <td>169</td>\n",
       "      <td>24</td>\n",
       "      <td>7.0</td>\n",
       "      <td>[supplychain]</td>\n",
       "      <td></td>\n",
       "      <td>[chaina, magazine, apple, find, child, labor, abuse, supply, chain, controversy, regarding, situation, bad, supplychain]</td>\n",
       "    </tr>\n",
       "  </tbody>\n",
       "</table>\n",
       "</div>"
      ],
      "text/plain": [
       "                                                                                                                    tweet  \\\n",
       "0  development, pretty, exciting, supplychain, sustainability                                                               \n",
       "1  samsung, assures, excellent, working, condition, china, workingconditions, supplychain, responsiblesourcing, rtw         \n",
       "2  loving, feedback, getting, report, today, supplychain                                                                    \n",
       "3  parked, multiply, boeing, cash, drain, worry, grow, future, could, worse, supplychain                                    \n",
       "4  chaina, magazine, apple, find, child, labor, abuse, supply, chain, controversy, regarding, situation, bad, supplychain   \n",
       "\n",
       "      rt  count  wordcount  avgwordlen  \\\n",
       "0  False  71     9          8.0          \n",
       "1  False  138    12         12.0         \n",
       "2  False  97     13         7.0          \n",
       "3  False  133    18         7.0          \n",
       "4  False  169    24         7.0          \n",
       "\n",
       "                                                         hash mentions  \\\n",
       "0  [supplychain, sustainability]                                         \n",
       "1  [workingconditions, supplychain, responsiblesourcing, rtw]            \n",
       "2  [supplychain]                                                         \n",
       "3  [supplychain]                                                         \n",
       "4  [supplychain]                                                         \n",
       "\n",
       "                                                                                                                token_tweet  \n",
       "0  [development, pretty, exciting, supplychain, sustainability]                                                              \n",
       "1  [samsung, assures, excellent, working, condition, china, workingconditions, supplychain, responsiblesourcing, rtw]        \n",
       "2  [loving, feedback, getting, report, today, supplychain]                                                                   \n",
       "3  [parked, multiply, boeing, cash, drain, worry, grow, future, could, worse, supplychain]                                   \n",
       "4  [chaina, magazine, apple, find, child, labor, abuse, supply, chain, controversy, regarding, situation, bad, supplychain]  "
      ]
     },
     "execution_count": 24,
     "metadata": {},
     "output_type": "execute_result"
    }
   ],
   "source": [
    "import nltk\n",
    "\n",
    "#Below function was from StackOverflow\n",
    "w_tokenizer = nltk.tokenize.WhitespaceTokenizer()\n",
    "lemmatizer = nltk.stem.WordNetLemmatizer()\n",
    "\n",
    "def lemmatize_text(text):\n",
    "    return [lemmatizer.lemmatize(w) for w in w_tokenizer.tokenize(text)]\n",
    "\n",
    "df['tweet'] = df['tweet'].apply(lemmatize_text)\n",
    "df['token_tweet'] = df['tweet'] #Duplicating this column where I can keep the nested list of tokens for Pattern Analysis below\n",
    "\n",
    "df['tweet'] = df['tweet'].apply(', '.join) \n",
    "#Removed brackets for tokens. If we ran this prior to the column-duplicating line\n",
    "#above we would not have access to the nested list of tokens to use for Pattern analysis\n",
    "df.head()"
   ]
  },
  {
   "cell_type": "markdown",
   "metadata": {},
   "source": [
    "### Descriptive text analytics"
   ]
  },
  {
   "cell_type": "markdown",
   "metadata": {},
   "source": [
    "Create a word cloud"
   ]
  },
  {
   "cell_type": "code",
   "execution_count": 25,
   "metadata": {},
   "outputs": [],
   "source": [
    "from os import path\n",
    "from wordcloud import WordCloud, STOPWORDS\n",
    "import matplotlib.pyplot as plt\n",
    "%matplotlib inline"
   ]
  },
  {
   "cell_type": "code",
   "execution_count": 26,
   "metadata": {},
   "outputs": [
    {
     "data": {
      "image/png": "[encoded data removed]",
      "text/plain": [
       "<Figure size 432x288 with 1 Axes>"
      ]
     },
     "metadata": {},
     "output_type": "display_data"
    }
   ],
   "source": [
    "wordcloud = WordCloud().generate(' '.join(df['tweet']))\n",
    "plt.imshow(wordcloud)\n",
    "plt.axis(\"off\")\n",
    "plt.show()"
   ]
  },
  {
   "cell_type": "markdown",
   "metadata": {},
   "source": [
    "Display top 10 words in the data"
   ]
  },
  {
   "cell_type": "code",
   "execution_count": 27,
   "metadata": {},
   "outputs": [],
   "source": [
    "from collections import Counter"
   ]
  },
  {
   "cell_type": "code",
   "execution_count": 28,
   "metadata": {},
   "outputs": [
    {
     "data": {
      "text/html": [
       "<div>\n",
       "<style scoped>\n",
       "    .dataframe tbody tr th:only-of-type {\n",
       "        vertical-align: middle;\n",
       "    }\n",
       "\n",
       "    .dataframe tbody tr th {\n",
       "        vertical-align: top;\n",
       "    }\n",
       "\n",
       "    .dataframe thead th {\n",
       "        text-align: right;\n",
       "    }\n",
       "</style>\n",
       "<table border=\"1\" class=\"dataframe\">\n",
       "  <thead>\n",
       "    <tr style=\"text-align: right;\">\n",
       "      <th></th>\n",
       "      <th>word</th>\n",
       "      <th>Freq</th>\n",
       "    </tr>\n",
       "  </thead>\n",
       "  <tbody>\n",
       "    <tr>\n",
       "      <th>60</th>\n",
       "      <td>pier,</td>\n",
       "      <td>2791</td>\n",
       "    </tr>\n",
       "    <tr>\n",
       "      <th>70</th>\n",
       "      <td>bedroom,</td>\n",
       "      <td>513</td>\n",
       "    </tr>\n",
       "    <tr>\n",
       "      <th>873</th>\n",
       "      <td>pick,</td>\n",
       "      <td>512</td>\n",
       "    </tr>\n",
       "    <tr>\n",
       "      <th>102</th>\n",
       "      <td>perfect,</td>\n",
       "      <td>508</td>\n",
       "    </tr>\n",
       "    <tr>\n",
       "      <th>1349</th>\n",
       "      <td>lamp</td>\n",
       "      <td>507</td>\n",
       "    </tr>\n",
       "    <tr>\n",
       "      <th>85</th>\n",
       "      <td>pier</td>\n",
       "      <td>475</td>\n",
       "    </tr>\n",
       "    <tr>\n",
       "      <th>817</th>\n",
       "      <td>style,</td>\n",
       "      <td>469</td>\n",
       "    </tr>\n",
       "    <tr>\n",
       "      <th>1222</th>\n",
       "      <td>say</td>\n",
       "      <td>468</td>\n",
       "    </tr>\n",
       "    <tr>\n",
       "      <th>97</th>\n",
       "      <td>amp,</td>\n",
       "      <td>412</td>\n",
       "    </tr>\n",
       "    <tr>\n",
       "      <th>1250</th>\n",
       "      <td>fireplace,</td>\n",
       "      <td>390</td>\n",
       "    </tr>\n",
       "  </tbody>\n",
       "</table>\n",
       "</div>"
      ],
      "text/plain": [
       "            word  Freq\n",
       "60    pier,       2791\n",
       "70    bedroom,    513 \n",
       "873   pick,       512 \n",
       "102   perfect,    508 \n",
       "1349  lamp        507 \n",
       "85    pier        475 \n",
       "817   style,      469 \n",
       "1222  say         468 \n",
       "97    amp,        412 \n",
       "1250  fireplace,  390 "
      ]
     },
     "execution_count": 28,
     "metadata": {},
     "output_type": "execute_result"
    }
   ],
   "source": [
    "fdist = Counter(\" \".join(df['tweet']).split(\" \")).items()\n",
    "freq_word = []\n",
    "\n",
    "for k,v in fdist:\n",
    "    freq_word.append([k,v])\n",
    "\n",
    "wordlist = pd.DataFrame(freq_word)\n",
    "wordlist.rename(columns={0: 'word', 1: 'Freq'}, inplace = True)\n",
    "wordlist.sort_values(by=['Freq'], ascending = False).head(10)"
   ]
  },
  {
   "cell_type": "markdown",
   "metadata": {},
   "source": [
    "### Sentiment analysis"
   ]
  },
  {
   "cell_type": "markdown",
   "metadata": {},
   "source": [
    "Show the results of sentiment analysis (Using pattern Python package). I would be interested in how many positive / negative tweets are in the data. Create a column containing sentiment score."
   ]
  },
  {
   "cell_type": "code",
   "execution_count": 29,
   "metadata": {},
   "outputs": [],
   "source": [
    "from pattern.en import sentiment"
   ]
  },
  {
   "cell_type": "code",
   "execution_count": 30,
   "metadata": {},
   "outputs": [],
   "source": [
    "positive_review = []\n",
    "negative_review = []\n",
    "neutral_review = []\n",
    "\n",
    "for row in df['token_tweet']:\n",
    "    review = row\n",
    "    score = sentiment(review)\n",
    "    if score[0] > 0:\n",
    "        positive_review.append(review)\n",
    "    elif score[0] == 0:\n",
    "        neutral_review.append(review)\n",
    "    else:\n",
    "        negative_review.append(review)"
   ]
  },
  {
   "cell_type": "code",
   "execution_count": 31,
   "metadata": {},
   "outputs": [
    {
     "name": "stdout",
     "output_type": "stream",
     "text": [
      "1844\n",
      "112\n",
      "2558\n"
     ]
    }
   ],
   "source": [
    "print(len(positive_review))\n",
    "print(len(negative_review))\n",
    "print(len(neutral_review))"
   ]
  },
  {
   "cell_type": "markdown",
   "metadata": {},
   "source": [
    "Visit https://stackoverflow.com/questions/42907842/pandas-count-positive-negative-neutral-values and adapt the solution. If you choose to take a different approach, that would be just fine too.\n",
    "\n",
    "How many positive / negative / neutral tweets?"
   ]
  },
  {
   "cell_type": "code",
   "execution_count": 32,
   "metadata": {},
   "outputs": [],
   "source": [
    "#SEE ABOVE"
   ]
  },
  {
   "cell_type": "code",
   "execution_count": 33,
   "metadata": {},
   "outputs": [],
   "source": [
    "#SEE ABOVE"
   ]
  },
  {
   "cell_type": "markdown",
   "metadata": {},
   "source": [
    "What is the overall sentiment in the data? Average sentiment score"
   ]
  },
  {
   "cell_type": "markdown",
   "metadata": {},
   "source": [
    "#### The overall sentiment would be positive tweets, based on the data. "
   ]
  },
  {
   "cell_type": "markdown",
   "metadata": {},
   "source": [
    "### I am unsure on how to take the each sentiment score (they are reported as tuples) and run the average of the polarity and subjectivity (x,y) values independently."
   ]
  },
  {
   "cell_type": "markdown",
   "metadata": {},
   "source": [
    "How do you like this HW? \n",
    "\n",
    "- A ^-^\n",
    "- B\n",
    "- C\n",
    "- D\n",
    "- F :-("
   ]
  }
 ],
 "metadata": {
  "kernelspec": {
   "display_name": "Python 3",
   "language": "python",
   "name": "python3"
  },
  "language_info": {
   "codemirror_mode": {
    "name": "ipython",
    "version": 3
   },
   "file_extension": ".py",
   "mimetype": "text/x-python",
   "name": "python",
   "nbconvert_exporter": "python",
   "pygments_lexer": "ipython3",
   "version": "3.6.7"
  }
 },
 "nbformat": 4,
 "nbformat_minor": 2
}
