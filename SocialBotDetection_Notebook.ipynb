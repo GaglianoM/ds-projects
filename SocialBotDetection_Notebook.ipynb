{
 "cells": [
  {
   "cell_type": "markdown",
   "metadata": {
    "colab_type": "text",
    "id": "29ud24pocV14"
   },
   "source": [
    "<h1 style=\"text-align: center;\"><span style=\"color: #333399;\">Twitter Analytics: Social Bot Detection</span></h1>\n",
    "<h6 style=\"text-align: center;\">Created by: Michael Gagliano on 2/8/19</h6>\n",
    "<h6 style=\"text-align: center;\">Last Update: Michael Gagliano 2/12/19</h6>\n"
   ]
  },
  {
   "cell_type": "markdown",
   "metadata": {
    "colab_type": "text",
    "id": "yefNTeWlcMQV"
   },
   "source": [
    "Internet bots have been around for over a decade now, and have been used in a multitude of applications. \n",
    "\n",
    "\n",
    "Some early examples are bots that use *candidate-elimination* algorithms that help the bot determine the most-likely result/output given a user feeding it information, much how the game 21 questions works! (e.g. - https://en.akinator.com/)\n",
    "\n",
    "\n",
    "Other bots many internet users are familiar with are chat bots, which use *natural language processing* and *decision tree-type* algorithms to automate customer service. Many mobile banking, e-commerce, and online retail websites and applications use this now as a way to maximize resources while maintaining a (subjective) personal experience.\n",
    "\n",
    "\n",
    "### In this notebook, the focus will be on **Social Bots** i.e. the various types of bots you encounter on social media platforms, how to detect them, and understand the implications they may create. From the Pew Research Org$^{1}$:\n",
    "\n",
    "`\"A recent Pew Research Center study explored the role bots play in sharing links on Twitter. The study examined 1.2 million tweeted links – collected over the summer of 2017 – to measure how many came from suspected bot accounts. The result: Around two-thirds (66%) of the tweeted links the Center examined were shared by suspected bots, or automated accounts that can generate or distribute content without direct human oversight.\"`"
   ]
  },
  {
   "cell_type": "markdown",
   "metadata": {
    "colab_type": "text",
    "id": "CfMGksFbgT9q"
   },
   "source": [
    "**Some things to keep in mind:**\n",
    "\n",
    "\n",
    "*   Not all bots are bad! Think about the bots that send you updates on Amazon deals or airline tickets, or how some of them are responsible for aggregating your favorite news sources to you on your phone. Even Apple uses them for their AppleCare service.\n",
    "\n",
    "*   Some of them are very bad. Unfortunately the grey area of data privacy and AI ethics are not growing nearly as fast to curb the production of some of the bad ones.$^{2, 3}$\n",
    "\n"
   ]
  },
  {
   "cell_type": "markdown",
   "metadata": {
    "colab_type": "text",
    "id": "zz4h-TEAh8Qa"
   },
   "source": [
    "# Import Packages for Bot Detection"
   ]
  },
  {
   "cell_type": "code",
   "execution_count": 1,
   "metadata": {
    "colab": {},
    "colab_type": "code",
    "id": "PSOyco6SkhXl"
   },
   "outputs": [],
   "source": [
    "import pandas as pd # Powerful data manipulation and visualization tool\n",
    "import numpy as np # Computational data tool\n",
    "import csv # Package that allows importing and exporting of .csv and .xlsx files\n",
    "import seaborn as sns # Package that provides rich and highly customizable visualizations built on top of the matplotlib package\n",
    "import matplotlib.pyplot as plt # Importing the pyplot functionality built on matplotlib\n",
    "%matplotlib inline"
   ]
  },
  {
   "cell_type": "code",
   "execution_count": 2,
   "metadata": {
    "colab": {},
    "colab_type": "code",
    "id": "7f-1ZzgDlBNr"
   },
   "outputs": [],
   "source": [
    "pd.set_option('display.max_colwidth', -1)\n",
    "pd.set_option('display.max_columns', None)"
   ]
  },
  {
   "cell_type": "markdown",
   "metadata": {},
   "source": [
    "# Importing Data"
   ]
  },
  {
   "cell_type": "markdown",
   "metadata": {},
   "source": [
    "Data collection was acheived using Amazon Web Services' EC2 Service, where a virtual machine (Amazon Linux AMI) was created to continuously run a Python script to mine and retrieve text data from Twitter. The data that was mined was reliant on containing words such as \"Applebees\". \n",
    "\n",
    "The data was retrieved in .json format via manual input from the AWS EC2 virtual machine. The exported data collected was 51.7MB in total, containing 94,544 tweets and all respective metadata from 9/28/2018 to 11/2/2018. Once retrieved, the data was converted into .csv format for analysis to take place. \n",
    "\n",
    "**For this notebook, the data was partitioned into a significantly smaller sample size - keeping only the first 5,000 data rows**"
   ]
  },
  {
   "cell_type": "code",
   "execution_count": 7,
   "metadata": {},
   "outputs": [],
   "source": [
    "#Using the csv package and pandas package to import\n",
    "\n",
    "#All tweets\n",
    "\n",
    "df = pd.read_csv('AllTweets.csv') #import full dataset\n",
    "df_mod = df.sample(n=5000, replace = True, random_state = 1) # Randomly select 5000 rows in dataset"
   ]
  },
  {
   "cell_type": "markdown",
   "metadata": {},
   "source": [
    "# Brief Data Overview"
   ]
  },
  {
   "cell_type": "code",
   "execution_count": 8,
   "metadata": {},
   "outputs": [
    {
     "name": "stdout",
     "output_type": "stream",
     "text": [
      "<class 'pandas.core.frame.DataFrame'>\n",
      "Int64Index: 5000 entries, 77708 to 15287\n",
      "Data columns (total 36 columns):\n",
      "id                             5000 non-null int64\n",
      "time                           5000 non-null int64\n",
      "created_at                     5000 non-null object\n",
      "from_user_name                 5000 non-null object\n",
      "text                           5000 non-null object\n",
      "filter_level                   5000 non-null object\n",
      "possibly_sensitive             752 non-null float64\n",
      "withheld_copyright             0 non-null float64\n",
      "withheld_scope                 0 non-null float64\n",
      "truncated                      0 non-null float64\n",
      "retweet_count                  5000 non-null int64\n",
      "favorite_count                 5000 non-null int64\n",
      "lang                           5000 non-null object\n",
      "to_user_name                   407 non-null object\n",
      "in_reply_to_status_id          394 non-null float64\n",
      "quoted_status_id               311 non-null float64\n",
      "source                         5000 non-null object\n",
      "location                       3448 non-null object\n",
      "lat                            25 non-null float64\n",
      "lng                            25 non-null float64\n",
      "from_user_id                   5000 non-null int64\n",
      "from_user_realname             5000 non-null object\n",
      "from_user_verified             5000 non-null int64\n",
      "from_user_description          4335 non-null object\n",
      "from_user_url                  1257 non-null object\n",
      "from_user_profile_image_url    5000 non-null object\n",
      "from_user_utcoffset            0 non-null float64\n",
      "from_user_timezone             0 non-null float64\n",
      "from_user_lang                 5000 non-null object\n",
      "from_user_tweetcount           5000 non-null int64\n",
      "from_user_followercount        5000 non-null int64\n",
      "from_user_friendcount          5000 non-null int64\n",
      "from_user_favourites_count     5000 non-null int64\n",
      "from_user_listed               5000 non-null int64\n",
      "from_user_withheld_scope       0 non-null float64\n",
      "from_user_created_at           5000 non-null object\n",
      "dtypes: float64(11), int64(11), object(14)\n",
      "memory usage: 1.4+ MB\n"
     ]
    }
   ],
   "source": [
    "df_mod.info()"
   ]
  },
  {
   "cell_type": "markdown",
   "metadata": {},
   "source": [
    "# Data Pre-Processing\n",
    "\n",
    "This is not comprehensive; this is just quick arbitrary dimensionality reduction (manually removing non-essential features for this specific kind of analysis). A majority of the data was already cleaned prior to this notebook.\n"
   ]
  },
  {
   "cell_type": "markdown",
   "metadata": {},
   "source": [
    "**Dropping non-essential columns**"
   ]
  },
  {
   "cell_type": "code",
   "execution_count": 9,
   "metadata": {},
   "outputs": [],
   "source": [
    "df_mod.drop(columns = ['id',\n",
    "               'filter_level',\n",
    "               'possibly_sensitive',\n",
    "               'withheld_copyright',\n",
    "               'withheld_scope',\n",
    "               'truncated',\n",
    "               'from_user_utcoffset',\n",
    "               'from_user_timezone',\n",
    "               'in_reply_to_status_id',\n",
    "               'quoted_status_id',\n",
    "               'from_user_withheld_scope'], axis = 1, inplace= True)"
   ]
  },
  {
   "cell_type": "markdown",
   "metadata": {},
   "source": [
    "**Renaming columns to access data easier**"
   ]
  },
  {
   "cell_type": "code",
   "execution_count": 23,
   "metadata": {},
   "outputs": [
    {
     "data": {
      "text/html": [
       "<div>\n",
       "<style scoped>\n",
       "    .dataframe tbody tr th:only-of-type {\n",
       "        vertical-align: middle;\n",
       "    }\n",
       "\n",
       "    .dataframe tbody tr th {\n",
       "        vertical-align: top;\n",
       "    }\n",
       "\n",
       "    .dataframe thead th {\n",
       "        text-align: right;\n",
       "    }\n",
       "</style>\n",
       "<table border=\"1\" class=\"dataframe\">\n",
       "  <thead>\n",
       "    <tr style=\"text-align: right;\">\n",
       "      <th></th>\n",
       "      <th>time</th>\n",
       "      <th>created_at</th>\n",
       "      <th>user</th>\n",
       "      <th>text</th>\n",
       "      <th>retweet_count</th>\n",
       "      <th>favorite_count</th>\n",
       "      <th>lang</th>\n",
       "      <th>to_user_name</th>\n",
       "      <th>source</th>\n",
       "      <th>location</th>\n",
       "      <th>lat</th>\n",
       "      <th>lng</th>\n",
       "      <th>from_user_id</th>\n",
       "      <th>from_user_realname</th>\n",
       "      <th>from_user_verified</th>\n",
       "      <th>from_user_description</th>\n",
       "      <th>from_user_url</th>\n",
       "      <th>from_user_profile_image_url</th>\n",
       "      <th>from_user_lang</th>\n",
       "      <th>from_user_tweetcount</th>\n",
       "      <th>followers</th>\n",
       "      <th>friends</th>\n",
       "      <th>favs</th>\n",
       "      <th>from_user_listed</th>\n",
       "      <th>from_user_created_at</th>\n",
       "    </tr>\n",
       "  </thead>\n",
       "  <tbody>\n",
       "    <tr>\n",
       "      <th>77708</th>\n",
       "      <td>1540161699</td>\n",
       "      <td>2018-10-21 22:41:39</td>\n",
       "      <td>R_I_C_H_4_R_D</td>\n",
       "      <td>RT @DanyAllstar15: Folks somebody had intercourse with somebodys girl in this San Jose/Islanders game. Everybody is fighting. This looks like a 4 am cocaine fight in an Applebee’s parking lot. People want to scrap, Saturday night Harley Davidson type shit. I love it.</td>\n",
       "      <td>0</td>\n",
       "      <td>0</td>\n",
       "      <td>en</td>\n",
       "      <td>NaN</td>\n",
       "      <td>&lt;a href=\"http://twitter.com/download/iphone\" rel=\"nofollow\"&gt;Twitter for iPhone&lt;/a&gt;</td>\n",
       "      <td>Ottawa, Canada</td>\n",
       "      <td>NaN</td>\n",
       "      <td>NaN</td>\n",
       "      <td>991947122</td>\n",
       "      <td>Richard</td>\n",
       "      <td>0</td>\n",
       "      <td>NaN</td>\n",
       "      <td>NaN</td>\n",
       "      <td>http://pbs.twimg.com/profile_images/994735978387472384/BFjGPCo1_normal.jpg</td>\n",
       "      <td>en</td>\n",
       "      <td>1873</td>\n",
       "      <td>37</td>\n",
       "      <td>180</td>\n",
       "      <td>3273</td>\n",
       "      <td>0</td>\n",
       "      <td>2012-12-05 22:49:24</td>\n",
       "    </tr>\n",
       "    <tr>\n",
       "      <th>5192</th>\n",
       "      <td>1538351038</td>\n",
       "      <td>2018-09-30 23:43:58</td>\n",
       "      <td>Big_Sanch_860</td>\n",
       "      <td>RT @gothJudyHopps: oh that’s your girl?? lmaooo then why did she just give me her number and insurance information after i hit her car in the parking lot of applebee’s</td>\n",
       "      <td>0</td>\n",
       "      <td>0</td>\n",
       "      <td>en</td>\n",
       "      <td>NaN</td>\n",
       "      <td>&lt;a href=\"http://twitter.com/download/iphone\" rel=\"nofollow\"&gt;Twitter for iPhone&lt;/a&gt;</td>\n",
       "      <td>in your speakers</td>\n",
       "      <td>NaN</td>\n",
       "      <td>NaN</td>\n",
       "      <td>1651746972</td>\n",
       "      <td>Big Sanchie</td>\n",
       "      <td>0</td>\n",
       "      <td>Puerto Rican | Manager-@Cole860_ | 8$ixty| MysticBoyz | Listen to me on @AppleMusic |Inquires: MysticBoyz860@gmail.com| ALOEBOYS |</td>\n",
       "      <td>https://soundcloud.com/big-sanchez-860/krabby-patty-big-sanch-x-cakey-jakey</td>\n",
       "      <td>http://pbs.twimg.com/profile_images/1040042626098126848/I3KgrzHi_normal.jpg</td>\n",
       "      <td>en</td>\n",
       "      <td>10384</td>\n",
       "      <td>1411</td>\n",
       "      <td>2912</td>\n",
       "      <td>17842</td>\n",
       "      <td>13</td>\n",
       "      <td>2013-08-07 02:08:51</td>\n",
       "    </tr>\n",
       "    <tr>\n",
       "      <th>50057</th>\n",
       "      <td>1538766776</td>\n",
       "      <td>2018-10-05 19:12:56</td>\n",
       "      <td>Isaih_Cordell</td>\n",
       "      <td>RT @YezzusP: gf: “what sounds good”  me: “a blow job”  gf:  me:  Applebee’s employ: “I’ll just give you two another minute https://t.co/5Nr2oPoMYJ</td>\n",
       "      <td>0</td>\n",
       "      <td>0</td>\n",
       "      <td>en</td>\n",
       "      <td>NaN</td>\n",
       "      <td>&lt;a href=\"http://twitter.com/download/android\" rel=\"nofollow\"&gt;Twitter for Android&lt;/a&gt;</td>\n",
       "      <td>Untouchable</td>\n",
       "      <td>NaN</td>\n",
       "      <td>NaN</td>\n",
       "      <td>2933921308</td>\n",
       "      <td>⚡ay_In_Da_Cut</td>\n",
       "      <td>0</td>\n",
       "      <td>💫Dreamchaser💫</td>\n",
       "      <td>NaN</td>\n",
       "      <td>http://pbs.twimg.com/profile_images/1039235240084918272/VN1Aib18_normal.jpg</td>\n",
       "      <td>en</td>\n",
       "      <td>15820</td>\n",
       "      <td>449</td>\n",
       "      <td>496</td>\n",
       "      <td>6580</td>\n",
       "      <td>2</td>\n",
       "      <td>2014-12-20 17:02:55</td>\n",
       "    </tr>\n",
       "    <tr>\n",
       "      <th>73349</th>\n",
       "      <td>1539915462</td>\n",
       "      <td>2018-10-19 02:17:42</td>\n",
       "      <td>freeworldgroup</td>\n",
       "      <td>RT @DesignationSix: Here are some @FoxNews advertisers. They are tagged so they will get notified for each LIKE RETWEET or COMMENT @Arbys @IHOP @Applebees @McDonalds @LifeLock @Nestle @OmahaSteaks @IdahoPotato @Walmart @WaltDisneyCo @redlobster @goldencorral @Toyota @ProcterGamble @Always  @Tampax</td>\n",
       "      <td>0</td>\n",
       "      <td>0</td>\n",
       "      <td>en</td>\n",
       "      <td>NaN</td>\n",
       "      <td>&lt;a href=\"http://twitter.com/download/iphone\" rel=\"nofollow\"&gt;Twitter for iPhone&lt;/a&gt;</td>\n",
       "      <td>Everywhere</td>\n",
       "      <td>NaN</td>\n",
       "      <td>NaN</td>\n",
       "      <td>49024495</td>\n",
       "      <td>FWG</td>\n",
       "      <td>0</td>\n",
       "      <td>We stand against #dotard Trump. For the sake of all humanity. #TheResistance #ImpeachTrump #resist #basta</td>\n",
       "      <td>http://www.freeworldgroup.com</td>\n",
       "      <td>http://pbs.twimg.com/profile_images/276419063/logo_square_normal.jpg</td>\n",
       "      <td>en</td>\n",
       "      <td>17279</td>\n",
       "      <td>3748</td>\n",
       "      <td>449</td>\n",
       "      <td>10763</td>\n",
       "      <td>63</td>\n",
       "      <td>2009-06-20 14:57:19</td>\n",
       "    </tr>\n",
       "    <tr>\n",
       "      <th>21440</th>\n",
       "      <td>1538454157</td>\n",
       "      <td>2018-10-02 04:22:37</td>\n",
       "      <td>tinacnguyen</td>\n",
       "      <td>RT @gothJudyHopps: oh that’s your girl?? lmaooo then why did she just give me her number and insurance information after i hit her car in the parking lot of applebee’s</td>\n",
       "      <td>0</td>\n",
       "      <td>0</td>\n",
       "      <td>en</td>\n",
       "      <td>NaN</td>\n",
       "      <td>&lt;a href=\"http://twitter.com/download/iphone\" rel=\"nofollow\"&gt;Twitter for iPhone&lt;/a&gt;</td>\n",
       "      <td>NaN</td>\n",
       "      <td>NaN</td>\n",
       "      <td>NaN</td>\n",
       "      <td>2723411614</td>\n",
       "      <td>LittyTittyTina</td>\n",
       "      <td>0</td>\n",
       "      <td>Memento Vivere</td>\n",
       "      <td>NaN</td>\n",
       "      <td>http://pbs.twimg.com/profile_images/1028931805318008837/5Zv0ighI_normal.jpg</td>\n",
       "      <td>en</td>\n",
       "      <td>2661</td>\n",
       "      <td>205</td>\n",
       "      <td>197</td>\n",
       "      <td>5320</td>\n",
       "      <td>0</td>\n",
       "      <td>2014-07-24 21:24:36</td>\n",
       "    </tr>\n",
       "  </tbody>\n",
       "</table>\n",
       "</div>"
      ],
      "text/plain": [
       "             time           created_at            user  \\\n",
       "77708  1540161699  2018-10-21 22:41:39  R_I_C_H_4_R_D    \n",
       "5192   1538351038  2018-09-30 23:43:58  Big_Sanch_860    \n",
       "50057  1538766776  2018-10-05 19:12:56  Isaih_Cordell    \n",
       "73349  1539915462  2018-10-19 02:17:42  freeworldgroup   \n",
       "21440  1538454157  2018-10-02 04:22:37  tinacnguyen      \n",
       "\n",
       "                                                                                                                                                                                                                                                                                                             text  \\\n",
       "77708  RT @DanyAllstar15: Folks somebody had intercourse with somebodys girl in this San Jose/Islanders game. Everybody is fighting. This looks like a 4 am cocaine fight in an Applebee’s parking lot. People want to scrap, Saturday night Harley Davidson type shit. I love it.                                  \n",
       "5192   RT @gothJudyHopps: oh that’s your girl?? lmaooo then why did she just give me her number and insurance information after i hit her car in the parking lot of applebee’s                                                                                                                                      \n",
       "50057  RT @YezzusP: gf: “what sounds good”  me: “a blow job”  gf:  me:  Applebee’s employ: “I’ll just give you two another minute https://t.co/5Nr2oPoMYJ                                                                                                                                                           \n",
       "73349  RT @DesignationSix: Here are some @FoxNews advertisers. They are tagged so they will get notified for each LIKE RETWEET or COMMENT @Arbys @IHOP @Applebees @McDonalds @LifeLock @Nestle @OmahaSteaks @IdahoPotato @Walmart @WaltDisneyCo @redlobster @goldencorral @Toyota @ProcterGamble @Always  @Tampax   \n",
       "21440  RT @gothJudyHopps: oh that’s your girl?? lmaooo then why did she just give me her number and insurance information after i hit her car in the parking lot of applebee’s                                                                                                                                      \n",
       "\n",
       "       retweet_count  favorite_count lang to_user_name  \\\n",
       "77708  0              0               en   NaN           \n",
       "5192   0              0               en   NaN           \n",
       "50057  0              0               en   NaN           \n",
       "73349  0              0               en   NaN           \n",
       "21440  0              0               en   NaN           \n",
       "\n",
       "                                                                                     source  \\\n",
       "77708  <a href=\"http://twitter.com/download/iphone\" rel=\"nofollow\">Twitter for iPhone</a>     \n",
       "5192   <a href=\"http://twitter.com/download/iphone\" rel=\"nofollow\">Twitter for iPhone</a>     \n",
       "50057  <a href=\"http://twitter.com/download/android\" rel=\"nofollow\">Twitter for Android</a>   \n",
       "73349  <a href=\"http://twitter.com/download/iphone\" rel=\"nofollow\">Twitter for iPhone</a>     \n",
       "21440  <a href=\"http://twitter.com/download/iphone\" rel=\"nofollow\">Twitter for iPhone</a>     \n",
       "\n",
       "               location  lat  lng  from_user_id from_user_realname  \\\n",
       "77708  Ottawa, Canada   NaN  NaN   991947122     Richard             \n",
       "5192   in your speakers NaN  NaN   1651746972    Big Sanchie         \n",
       "50057  Untouchable      NaN  NaN   2933921308    ⚡ay_In_Da_Cut       \n",
       "73349  Everywhere       NaN  NaN   49024495      FWG                 \n",
       "21440  NaN              NaN  NaN   2723411614    LittyTittyTina      \n",
       "\n",
       "       from_user_verified  \\\n",
       "77708  0                    \n",
       "5192   0                    \n",
       "50057  0                    \n",
       "73349  0                    \n",
       "21440  0                    \n",
       "\n",
       "                                                                                                                    from_user_description  \\\n",
       "77708  NaN                                                                                                                                  \n",
       "5192   Puerto Rican | Manager-@Cole860_ | 8$ixty| MysticBoyz | Listen to me on @AppleMusic |Inquires: MysticBoyz860@gmail.com| ALOEBOYS |   \n",
       "50057  💫Dreamchaser💫                                                                                                                        \n",
       "73349  We stand against #dotard Trump. For the sake of all humanity. #TheResistance #ImpeachTrump #resist #basta                            \n",
       "21440  Memento Vivere                                                                                                                       \n",
       "\n",
       "                                                                     from_user_url  \\\n",
       "77708  NaN                                                                           \n",
       "5192   https://soundcloud.com/big-sanchez-860/krabby-patty-big-sanch-x-cakey-jakey   \n",
       "50057  NaN                                                                           \n",
       "73349  http://www.freeworldgroup.com                                                 \n",
       "21440  NaN                                                                           \n",
       "\n",
       "                                                       from_user_profile_image_url  \\\n",
       "77708  http://pbs.twimg.com/profile_images/994735978387472384/BFjGPCo1_normal.jpg    \n",
       "5192   http://pbs.twimg.com/profile_images/1040042626098126848/I3KgrzHi_normal.jpg   \n",
       "50057  http://pbs.twimg.com/profile_images/1039235240084918272/VN1Aib18_normal.jpg   \n",
       "73349  http://pbs.twimg.com/profile_images/276419063/logo_square_normal.jpg          \n",
       "21440  http://pbs.twimg.com/profile_images/1028931805318008837/5Zv0ighI_normal.jpg   \n",
       "\n",
       "      from_user_lang  from_user_tweetcount  followers  friends   favs  \\\n",
       "77708  en             1873                  37         180      3273    \n",
       "5192   en             10384                 1411       2912     17842   \n",
       "50057  en             15820                 449        496      6580    \n",
       "73349  en             17279                 3748       449      10763   \n",
       "21440  en             2661                  205        197      5320    \n",
       "\n",
       "       from_user_listed from_user_created_at  \n",
       "77708  0                 2012-12-05 22:49:24  \n",
       "5192   13                2013-08-07 02:08:51  \n",
       "50057  2                 2014-12-20 17:02:55  \n",
       "73349  63                2009-06-20 14:57:19  \n",
       "21440  0                 2014-07-24 21:24:36  "
      ]
     },
     "execution_count": 23,
     "metadata": {},
     "output_type": "execute_result"
    }
   ],
   "source": [
    "df_mod.rename(columns={'from_user_name': 'user',\n",
    "                            'from_user_followercount': 'followers',\n",
    "                            'from_user_friendcount': 'friends',\n",
    "                            'from_user_favourites_count': 'favs',}, inplace = True)\n",
    "\n",
    "# Preview first 5 rows of data\n",
    "df_mod.head()"
   ]
  },
  {
   "cell_type": "markdown",
   "metadata": {},
   "source": [
    "# Determing if a user is a bot from your dataset.\n",
    "\n",
    "It is certainly possible to create a classification and regression-like algorithm to determine bots on your own, and tune hyperparameters to better fit the context you are working in. However, for more general research and accessbility - many packages and APIs have been developed for Python to facilitate this.\n",
    "\n",
    "## 0. Exploratory Analysis (what might suggest you have bots in your dataset)\n",
    "\n",
    "Prior to using the below resources, it's important to understand that many API's limit users unless they purchase \"Pro\" use or a specific plan that allows increased querying from their data warehouses. Exploratory analysis can help prevent unneccessary API queries and narrow down the most prominent figures to examine in your data early on.\n",
    "\n",
    "Some of the following are lines of code you can use that may suggest or highlight more prominent bot accounts in your data (**using the above dataset**):"
   ]
  },
  {
   "cell_type": "markdown",
   "metadata": {},
   "source": [
    "**Unique Users in Data** - If there is a high volume of tweets, but low users, it may indicate a lot of repeat tweeters or RT's in the data"
   ]
  },
  {
   "cell_type": "code",
   "execution_count": 28,
   "metadata": {},
   "outputs": [
    {
     "name": "stdout",
     "output_type": "stream",
     "text": [
      "The number of unique Twitter users in the dataset is 4808\n"
     ]
    }
   ],
   "source": [
    "uni = df_mod['user'].nunique()\n",
    "print('The number of unique Twitter users in the dataset is %s' % uni)"
   ]
  },
  {
   "cell_type": "markdown",
   "metadata": {},
   "source": [
    "**Average Tweet Per User** - If users show up more often than the average number of tweets per user, it may be suggest bot-like activity "
   ]
  },
  {
   "cell_type": "code",
   "execution_count": 29,
   "metadata": {},
   "outputs": [
    {
     "name": "stdout",
     "output_type": "stream",
     "text": [
      "The average number of tweets per users in the new dataset is 1.04\n"
     ]
    }
   ],
   "source": [
    "uni_per_tweet = (df_mod['user'].count())/(uni)\n",
    "print('The average number of tweets per users in the new dataset is %.2f' % uni_per_tweet)"
   ]
  },
  {
   "cell_type": "markdown",
   "metadata": {},
   "source": [
    "**Showing Most Active Tweeters** - Anything \"significantly\" larger than the average value may show who the most prominent tweeters are, or the most severe bot culprits"
   ]
  },
  {
   "cell_type": "code",
   "execution_count": 27,
   "metadata": {},
   "outputs": [
    {
     "data": {
      "text/plain": [
       "Applebees        13\n",
       "upper_fixer      5 \n",
       "jordie_nassif    3 \n",
       "Paula56790599    3 \n",
       "TinaMarie_80s    3 \n",
       "ApplebeesHI      3 \n",
       "mmiicckkeeyyy    3 \n",
       "aidanzzzzz       3 \n",
       "lookingbad45     3 \n",
       "King_essencee    3 \n",
       "Name: user, dtype: int64"
      ]
     },
     "execution_count": 27,
     "metadata": {},
     "output_type": "execute_result"
    }
   ],
   "source": [
    "df_mod['user'].value_counts().head(10)"
   ]
  },
  {
   "cell_type": "markdown",
   "metadata": {},
   "source": [
    "## 1. Botometer for Python$^{4}$"
   ]
  },
  {
   "cell_type": "markdown",
   "metadata": {},
   "source": [
    "https://github.com/IUNetSci/botometer-python\n",
    "http://www.pewinternet.org/2018/04/09/bots-in-the-twittersphere/pi_2018-04-09_twitter-bots_m-06/\n",
    "\n",
    "Follow the instructions to install the package and dependencies, if not already satisfied.\n",
    "\n",
    "Then, create an account on RapidAPI, formerly Mashape Market. I chose to simply link my GitHub account for added convenience.\n",
    "\n",
    "Search for \"Botometer\" and click the *non*-pro version. You will be given a screen that looks like this. You will need to copy the Secret Key to use in your Jupyter Notebook later."
   ]
  },
  {
   "cell_type": "code",
   "execution_count": 18,
   "metadata": {},
   "outputs": [
    {
     "name": "stdout",
     "output_type": "stream",
     "text": [
      "{'cap': {'english': 0.0014187924969112314, 'universal': 0.0021984408773070953},\n",
      " 'categories': {'content': 0.09728515292570794,\n",
      "                'friend': 0.09994026911083925,\n",
      "                'network': 0.08358138135822211,\n",
      "                'sentiment': 0.06780783386008177,\n",
      "                'temporal': 0.06669571356978159,\n",
      "                'user': 0.03482447811460989},\n",
      " 'display_scores': {'content': 0.5,\n",
      "                    'english': 0.2,\n",
      "                    'friend': 0.5,\n",
      "                    'network': 0.4,\n",
      "                    'sentiment': 0.3,\n",
      "                    'temporal': 0.3,\n",
      "                    'universal': 0.2,\n",
      "                    'user': 0.2},\n",
      " 'scores': {'english': 0.03265990956683609, 'universal': 0.04447883217419818},\n",
      " 'user': {'id_str': '237573884', 'screen_name': 'mikefromcollege'}}\n"
     ]
    }
   ],
   "source": [
    "# To install: pip install botometer\n",
    "\n",
    "import botometer\n",
    "\n",
    "mashape_key = \"1b052d1efbmsh74804899330916cp1079f4jsndc502ad63839\"\n",
    "twitter_app_auth = {\n",
    "    'consumer_key': 'pypGYgwN9ZHTYUJCvx0t90LtW',\n",
    "    'consumer_secret': 'woMY7WUGfTqqb7tK21ATd0T3ayzWQvp6biOzONXVO8mAPWv2We',\n",
    "    'access_token': '237573884-xQrmhqVZjrWM0HvymU7MJV3vhpslVoYjlSvVGi9e',\n",
    "    'access_token_secret': 'V0nHAMakQbLkNGC6nOmrcSE94ZIHYwZAcKA9nugTnl6o6',\n",
    "  }\n",
    "bom = botometer.Botometer(wait_on_ratelimit=True,\n",
    "                          mashape_key=mashape_key,\n",
    "                          **twitter_app_auth)\n",
    "\n",
    "# Check a single account by screen name\n",
    "result = bom.check_account('@mikefromcollege') # Me, a human\n",
    "\n",
    "# Check a single account by id\n",
    "#result = bom.check_account(1548959833)\n",
    "    \n",
    "import pprint\n",
    "\n",
    "pprint.pprint(result)"
   ]
  },
  {
   "cell_type": "markdown",
   "metadata": {},
   "source": [
    "### Checking multiple accounts"
   ]
  },
  {
   "cell_type": "code",
   "execution_count": 30,
   "metadata": {},
   "outputs": [
    {
     "name": "stdout",
     "output_type": "stream",
     "text": [
      "{'cap': {'english': 0.0014187924969112314, 'universal': 0.0021984408773070953},\n",
      " 'categories': {'content': 0.09728515292570794,\n",
      "                'friend': 0.09994026911083925,\n",
      "                'network': 0.08358138135822211,\n",
      "                'sentiment': 0.06780783386008177,\n",
      "                'temporal': 0.06669571356978159,\n",
      "                'user': 0.03482447811460989},\n",
      " 'display_scores': {'content': 0.5,\n",
      "                    'english': 0.2,\n",
      "                    'friend': 0.5,\n",
      "                    'network': 0.4,\n",
      "                    'sentiment': 0.3,\n",
      "                    'temporal': 0.3,\n",
      "                    'universal': 0.2,\n",
      "                    'user': 0.2},\n",
      " 'scores': {'english': 0.03265990956683609, 'universal': 0.04447883217419818},\n",
      " 'user': {'id_str': '237573884', 'screen_name': 'mikefromcollege'}}\n",
      "{'cap': {'english': 0.2564674002687074, 'universal': 0.16230758351843008},\n",
      " 'categories': {'content': 0.05090107918514772,\n",
      "                'friend': 0.5196129601812253,\n",
      "                'network': 0.06307622042065346,\n",
      "                'sentiment': 0.08157836299629219,\n",
      "                'temporal': 0.31454533065250273,\n",
      "                'user': 0.855595507026146},\n",
      " 'display_scores': {'content': 0.3,\n",
      "                    'english': 3.3,\n",
      "                    'friend': 2.6,\n",
      "                    'network': 0.3,\n",
      "                    'sentiment': 0.4,\n",
      "                    'temporal': 1.6,\n",
      "                    'universal': 3.0,\n",
      "                    'user': 4.3},\n",
      " 'scores': {'english': 0.6698271269837389, 'universal': 0.5967761711282766},\n",
      " 'user': {'id_str': '969138694308421632', 'screen_name': 'DesignationSix'}}\n"
     ]
    }
   ],
   "source": [
    "# Check a sequence of accounts\n",
    "\n",
    "accounts = ['@mikefromcollege', '@DesignationSix'] # Me, and a suspected bot\n",
    "for screen_name, result in bom.check_accounts_in(accounts):\n",
    "    pprint.pprint(result)"
   ]
  },
  {
   "cell_type": "markdown",
   "metadata": {},
   "source": [
    "### Interpreting the reports\n",
    "\n",
    "Intepreting the scores and understanding how this algorithm works can be found here, explained at a very high-level. \n",
    "In essence, the scores are from 0 to 5. 0 is most human like and 5 is most bot like.\n",
    "https://botometer.iuni.iu.edu/#!/faq\n",
    "\n",
    "**From above, my user score is 0.2 on a scale of 0 to 5. That is very human! The suspected political propoganda bot DesignationSix from our dataset has a user score of 4.4. That is extremely likely to be a bot!**\n",
    "\n"
   ]
  },
  {
   "cell_type": "markdown",
   "metadata": {},
   "source": [
    "## 2. \"From Scratch\" Bot Detection Program$^{5}$ - GitHub user @jubins\n",
    "\n",
    "https://github.com/jubins/MachineLearning-Detecting-Twitter-Bots\n",
    "\n",
    "Here is an example of how using SciKit-Learn and the other common Data Science packages can be used to build a machine learning program that classifies, trains, test, and sort based on the **bag of words** type algorithm"
   ]
  },
  {
   "cell_type": "markdown",
   "metadata": {},
   "source": [
    "## 3. Uncovering Bot Networks on social media platforms\n",
    "\n",
    "https://paulvanderlaken.com/2018/03/17/identifying-dirty-twitter-bots-with-r-and-python/\n",
    "https://github.com/r0zetta/pronbot_search\n",
    "\n",
    "Although the API permissions have changed (Facebook owns Instagram), the Python package \"pronbot_search\" is used to uncover \"adult\" spam bots on social media networks. Visualizations were created from Gephi."
   ]
  },
  {
   "cell_type": "markdown",
   "metadata": {
    "colab_type": "text",
    "id": "jLJtJnW6clWg"
   },
   "source": [
    "# Appendix A: Resources\n",
    "\n",
    "$^{1}$ http://www.pewresearch.org/fact-tank/2018/04/19/qa-how-pew-research-center-identified-bots-on-twitter/\n",
    "\n",
    "$^{2}$ https://www.globaldots.com/2018-bad-bot-report-the-year-bad-bots-went-mainstream/\n",
    "\n",
    "$^{3}$ https://voluum.com/blog/bot-traffic-bigger-than-human-make-sure-they-dont-affect-you/\n",
    "\n",
    "$^{4}$ https://github.com/IUNetSci/botometer-python\n",
    "\n",
    "$^{5}$ https://github.com/jubins/MachineLearning-Detecting-Twitter-Bots"
   ]
  },
  {
   "cell_type": "markdown",
   "metadata": {
    "colab": {},
    "colab_type": "code",
    "id": "zG5vpV-_gRsU"
   },
   "source": []
  }
 ],
 "metadata": {
  "colab": {
   "collapsed_sections": [],
   "name": "Social Bot Detection.ipynb",
   "provenance": [],
   "version": "0.3.2"
  },
  "kernelspec": {
   "display_name": "Python 3",
   "language": "python",
   "name": "python3"
  },
  "language_info": {
   "codemirror_mode": {
    "name": "ipython",
    "version": 3
   },
   "file_extension": ".py",
   "mimetype": "text/x-python",
   "name": "python",
   "nbconvert_exporter": "python",
   "pygments_lexer": "ipython3",
   "version": "3.6.7"
  }
 },
 "nbformat": 4,
 "nbformat_minor": 1
}
