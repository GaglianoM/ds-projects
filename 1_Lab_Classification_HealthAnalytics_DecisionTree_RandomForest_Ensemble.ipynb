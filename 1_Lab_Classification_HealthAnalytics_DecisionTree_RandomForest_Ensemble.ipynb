{
 "cells": [
  {
   "cell_type": "code",
   "execution_count": null,
   "metadata": {},
   "outputs": [],
   "source": [
    "from IPython.display import Image\n",
    "from IPython.core.display import HTML \n",
    "Image(url= \"https://upload.wikimedia.org/wikipedia/commons/b/b9/CRISP-DM_Process_Diagram.png\")"
   ]
  },
  {
   "cell_type": "markdown",
   "metadata": {},
   "source": [
    "# Classification"
   ]
  },
  {
   "cell_type": "markdown",
   "metadata": {},
   "source": [
    "Agenda\n",
    "1. An overview of classification\n",
    "2. Dataset (heartattack_train.csv) in healthcare domain\n",
    "\t- data visualization, ETL (data wrangling), exploratory data analysis (correlation analysis), supervised learning (classification)\n",
    "3. Decision tree\n",
    "4. How to evaluate classification model\n",
    "\t* Confusion Matrix\n",
    "\t* Received Operating Characteristics & AUC score\n",
    "5. Logistic regression & Logit function\n",
    "6. k-Nearest Neighbour (knn)\t"
   ]
  },
  {
   "cell_type": "markdown",
   "metadata": {},
   "source": [
    "<img src = \"images\\machinelearning.gif\">\n",
    "<img src=\"images\\ppt\\slide2.gif\">\n",
    "<img src=\"https://nyghtowlblog.files.wordpress.com/2014/04/ml_algorithms.png?w=535&h=311\">\n",
    "<img src=\"http://scikit-learn.org/stable/_static/ml_map.png\">\n",
    "* http://scikit-learn.org/stable/"
   ]
  },
  {
   "cell_type": "markdown",
   "metadata": {
    "collapsed": true
   },
   "source": [
    "### Required Software\n",
    "* Graphviz (We already installed this software at the beginning of semester)"
   ]
  },
  {
   "cell_type": "markdown",
   "metadata": {
    "collapsed": true
   },
   "source": [
    "### Classification vs Regression\n",
    "* Regression is about finding a liner or nonliner function, which **fits** well with the dataset\n",
    "* Classification is about finding a liner or nonliner function, which **separates** different classes (e.g., good/bad, yes/no, pass/fail, admission/rejection) in y value\n",
    "<img src=\"https://searchengineland.com/figz/wp-content/seloads/2016/07/class-regress.png\">\n",
    "\n",
    "https://searchengineland.com/figz/wp-content/seloads/2016/07/class-regress.png"
   ]
  },
  {
   "cell_type": "markdown",
   "metadata": {},
   "source": [
    "# Health Analytics\n",
    "- The application of data mining (machine learning & statistical testing) to different type of healthcare problems and datasets"
   ]
  },
  {
   "cell_type": "code",
   "execution_count": null,
   "metadata": {},
   "outputs": [],
   "source": [
    "from IPython.display import YouTubeVideo\n",
    "YouTubeVideo('blQa6srwn-A')"
   ]
  },
  {
   "cell_type": "markdown",
   "metadata": {},
   "source": [
    "## Can healthcare providers use data analytics to predict diseases (e.g., 2nd heart attack) and hospital readmission?"
   ]
  },
  {
   "cell_type": "markdown",
   "metadata": {
    "collapsed": true
   },
   "source": [
    "### Dataset\n",
    "Source: Data Mining for the Masses by Matthew North\n",
    "    \n",
    "Sonia has access to the company’s medical claims database. \n",
    "With this access, she is able to generate two data sets for us. \n",
    "This first is a list of people who have suffered heart attacks, \n",
    "with an attribute indicating whether or not they have had more than one; \n",
    "and the second is a list of those who have had a first heart attack, but not a second. \n",
    "The former data set, comprised of 138 observations, will serve as our training data; while the latter, \n",
    "comprised of 690 peoples’ data, will be for scoring. \n",
    "Sonia’s hope is to help this latter group of people avoid becoming second heart attack victims. \n",
    "\n",
    "In compiling the two data sets we have defined the following attributes: \n",
    "\n",
    "* **Age**: The age in years of the person, rounded to the nearest whole year. \n",
    "* **Marital_Status**: The person’s current marital status, indicated by a coded number: **0–Single, never married; 1–Married; 2–Divorced; 3–Widowed** \n",
    "* **Gender**: The person’s gender: **0 for female; 1 for male**. \n",
    "* **Weight_Category**: The person’s weight categorized into one of three levels: **0 for normal weight range; 1 for overweight; and 2 for obese** \n",
    "* **Cholesterol**: The person’s cholesterol level, as recorded at the time of their treatment for their most recent heart attack (their only heart attack, in the case of those individuals in the scoring data set. \n",
    "* **Stress_Management**: A binary attribute indicating whether or not the person has previously attended a stress management course: **0 for no; 1 for yes**. \n",
    "* **Trait_Anxiety**: A score on a scale of **0 to 100** measuring the level of each person’s natural stress levels and abilities to cope with stress. A short time after each person in each of the two data sets had recovered from their first heart attack, they were administered a standard test of natural anxiety. Their scores are tabulated and recorded in this attribute along five point increments. A score of 0 would indicate that the person never feels anxiety, pressure or stress in any situation, while a score of 100 would indicate that the person lives in a constant state of being overwhelmed and unable to deal with his or her circumstances. \n",
    "* **2nd_Heart_Attack**: This attribute exists only in the training data set. It will be our label, the prediction or target attribute. In the training data set, the attribute is set to **‘yes’** for individuals who have suffered second heart attacks, and **‘no’** for those who have not.                  "
   ]
  },
  {
   "cell_type": "code",
   "execution_count": 2,
   "metadata": {},
   "outputs": [],
   "source": [
    "import numpy as np\n",
    "import pandas as pd\n",
    "import matplotlib.pyplot as plt\n",
    "import seaborn as sns\n",
    "%matplotlib inline\n",
    "\n",
    "#import decisiontreeclassifier\n",
    "from sklearn import tree\n",
    "from sklearn.tree import DecisionTreeClassifier\n",
    "#import logisticregression classifier\n",
    "from sklearn.linear_model import LogisticRegression\n",
    "import statsmodels.api as sm\n",
    "#import knn classifier\n",
    "from sklearn.neighbors import KNeighborsClassifier\n",
    "\n",
    "#for validating your classification model\n",
    "from sklearn.model_selection import train_test_split\n",
    "from sklearn.model_selection import cross_val_score\n",
    "from sklearn import metrics\n",
    "from sklearn.metrics import roc_curve, auc\n",
    "\n",
    "# feature selection\n",
    "from sklearn.feature_selection import RFE\n",
    "from sklearn.ensemble import ExtraTreesClassifier\n",
    "from sklearn.feature_selection import SelectKBest\n",
    "from sklearn.feature_selection import chi2"
   ]
  },
  {
   "cell_type": "markdown",
   "metadata": {},
   "source": [
    "# Loading data"
   ]
  },
  {
   "cell_type": "code",
   "execution_count": 3,
   "metadata": {},
   "outputs": [
    {
     "name": "stdout",
     "output_type": "stream",
     "text": [
      "   Age  Marital_Status  Gender  Weight_Category  Cholesterol  \\\n",
      "0   60               2       0                1          150   \n",
      "1   69               2       1                1          170   \n",
      "2   52               1       0                0          174   \n",
      "3   66               2       1                1          169   \n",
      "4   70               3       0                1          237   \n",
      "\n",
      "   Stress_Management  Trait_Anxiety 2nd_Heart_Attack  \n",
      "0                  1             50              Yes  \n",
      "1                  0             60              Yes  \n",
      "2                  1             35               No  \n",
      "3                  0             60              Yes  \n",
      "4                  0             65              Yes  \n"
     ]
    }
   ],
   "source": [
    "df=pd.read_csv(\"data/heartattack_train.csv\")\n",
    "print(df.head())"
   ]
  },
  {
   "cell_type": "code",
   "execution_count": 4,
   "metadata": {},
   "outputs": [
    {
     "name": "stdout",
     "output_type": "stream",
     "text": [
      "<class 'pandas.core.frame.DataFrame'>\n",
      "RangeIndex: 138 entries, 0 to 137\n",
      "Data columns (total 8 columns):\n",
      "Age                  138 non-null int64\n",
      "Marital_Status       138 non-null int64\n",
      "Gender               138 non-null int64\n",
      "Weight_Category      138 non-null int64\n",
      "Cholesterol          138 non-null int64\n",
      "Stress_Management    138 non-null int64\n",
      "Trait_Anxiety        138 non-null int64\n",
      "2nd_Heart_Attack     138 non-null object\n",
      "dtypes: int64(7), object(1)\n",
      "memory usage: 8.7+ KB\n"
     ]
    }
   ],
   "source": [
    "df.info()\n",
    "#no missing values"
   ]
  },
  {
   "cell_type": "markdown",
   "metadata": {},
   "source": [
    "# Data wrangling & ETL: Data cleaningg & transformation"
   ]
  },
  {
   "cell_type": "code",
   "execution_count": 5,
   "metadata": {},
   "outputs": [],
   "source": [
    "#mappling or replacing\n",
    "df = df.replace({'2nd_Heart_Attack': 'No'}, {'2nd_Heart_Attack': '0'})\n",
    "df = df.replace({'2nd_Heart_Attack': 'Yes'}, {'2nd_Heart_Attack': '1'})"
   ]
  },
  {
   "cell_type": "code",
   "execution_count": 6,
   "metadata": {},
   "outputs": [
    {
     "name": "stdout",
     "output_type": "stream",
     "text": [
      "<class 'pandas.core.frame.DataFrame'>\n",
      "RangeIndex: 138 entries, 0 to 137\n",
      "Data columns (total 8 columns):\n",
      "Age                  138 non-null int64\n",
      "Marital_Status       138 non-null int64\n",
      "Gender               138 non-null int64\n",
      "Weight_Category      138 non-null int64\n",
      "Cholesterol          138 non-null int64\n",
      "Stress_Management    138 non-null int64\n",
      "Trait_Anxiety        138 non-null int64\n",
      "2nd_Heart_Attack     138 non-null object\n",
      "dtypes: int64(7), object(1)\n",
      "memory usage: 8.7+ KB\n"
     ]
    }
   ],
   "source": [
    "df.info()\n",
    "#2nd heart attack is still treated as object or string"
   ]
  },
  {
   "cell_type": "code",
   "execution_count": 7,
   "metadata": {},
   "outputs": [
    {
     "name": "stdout",
     "output_type": "stream",
     "text": [
      "Age                  int64\n",
      "Marital_Status       int64\n",
      "Gender               int64\n",
      "Weight_Category      int64\n",
      "Cholesterol          int64\n",
      "Stress_Management    int64\n",
      "Trait_Anxiety        int64\n",
      "2nd_Heart_Attack     int32\n",
      "dtype: object\n"
     ]
    }
   ],
   "source": [
    "#or you can do this to convert object to number\n",
    "df['2nd_Heart_Attack'] = df['2nd_Heart_Attack'].astype(int)\n",
    "print(df.dtypes)"
   ]
  },
  {
   "cell_type": "raw",
   "metadata": {},
   "source": [
    "# another option\n",
    "df['2nd_Heart_Attack'] = pd.to_numeric(df['2nd_Heart_Attack'])\n",
    "df.info()"
   ]
  },
  {
   "cell_type": "raw",
   "metadata": {},
   "source": [
    "# another option ... being deprecated ..\n",
    "df['2nd_Heart_Attack'] = df['2nd_Heart_Attack'].convert_objects(convert_numeric=True)\n",
    "df.info()"
   ]
  },
  {
   "cell_type": "markdown",
   "metadata": {},
   "source": [
    "# Exploratory data analysis"
   ]
  },
  {
   "cell_type": "code",
   "execution_count": 8,
   "metadata": {},
   "outputs": [
    {
     "data": {
      "text/html": [
       "<div>\n",
       "<style scoped>\n",
       "    .dataframe tbody tr th:only-of-type {\n",
       "        vertical-align: middle;\n",
       "    }\n",
       "\n",
       "    .dataframe tbody tr th {\n",
       "        vertical-align: top;\n",
       "    }\n",
       "\n",
       "    .dataframe thead th {\n",
       "        text-align: right;\n",
       "    }\n",
       "</style>\n",
       "<table border=\"1\" class=\"dataframe\">\n",
       "  <thead>\n",
       "    <tr style=\"text-align: right;\">\n",
       "      <th></th>\n",
       "      <th>Age</th>\n",
       "      <th>Marital_Status</th>\n",
       "      <th>Gender</th>\n",
       "      <th>Weight_Category</th>\n",
       "      <th>Cholesterol</th>\n",
       "      <th>Stress_Management</th>\n",
       "      <th>Trait_Anxiety</th>\n",
       "      <th>2nd_Heart_Attack</th>\n",
       "    </tr>\n",
       "  </thead>\n",
       "  <tbody>\n",
       "    <tr>\n",
       "      <th>count</th>\n",
       "      <td>138.000000</td>\n",
       "      <td>138.000000</td>\n",
       "      <td>138.000000</td>\n",
       "      <td>138.000000</td>\n",
       "      <td>138.000000</td>\n",
       "      <td>138.000000</td>\n",
       "      <td>138.000000</td>\n",
       "      <td>138.000000</td>\n",
       "    </tr>\n",
       "    <tr>\n",
       "      <th>mean</th>\n",
       "      <td>62.978261</td>\n",
       "      <td>1.695652</td>\n",
       "      <td>0.623188</td>\n",
       "      <td>0.920290</td>\n",
       "      <td>177.391304</td>\n",
       "      <td>0.442029</td>\n",
       "      <td>55.434783</td>\n",
       "      <td>0.492754</td>\n",
       "    </tr>\n",
       "    <tr>\n",
       "      <th>std</th>\n",
       "      <td>7.853092</td>\n",
       "      <td>0.824875</td>\n",
       "      <td>0.486352</td>\n",
       "      <td>0.764749</td>\n",
       "      <td>32.262707</td>\n",
       "      <td>0.498437</td>\n",
       "      <td>12.373126</td>\n",
       "      <td>0.501769</td>\n",
       "    </tr>\n",
       "    <tr>\n",
       "      <th>min</th>\n",
       "      <td>42.000000</td>\n",
       "      <td>0.000000</td>\n",
       "      <td>0.000000</td>\n",
       "      <td>0.000000</td>\n",
       "      <td>122.000000</td>\n",
       "      <td>0.000000</td>\n",
       "      <td>35.000000</td>\n",
       "      <td>0.000000</td>\n",
       "    </tr>\n",
       "    <tr>\n",
       "      <th>25%</th>\n",
       "      <td>58.000000</td>\n",
       "      <td>1.000000</td>\n",
       "      <td>0.000000</td>\n",
       "      <td>0.000000</td>\n",
       "      <td>161.000000</td>\n",
       "      <td>0.000000</td>\n",
       "      <td>45.000000</td>\n",
       "      <td>0.000000</td>\n",
       "    </tr>\n",
       "    <tr>\n",
       "      <th>50%</th>\n",
       "      <td>63.000000</td>\n",
       "      <td>2.000000</td>\n",
       "      <td>1.000000</td>\n",
       "      <td>1.000000</td>\n",
       "      <td>172.000000</td>\n",
       "      <td>0.000000</td>\n",
       "      <td>55.000000</td>\n",
       "      <td>0.000000</td>\n",
       "    </tr>\n",
       "    <tr>\n",
       "      <th>75%</th>\n",
       "      <td>69.000000</td>\n",
       "      <td>2.000000</td>\n",
       "      <td>1.000000</td>\n",
       "      <td>1.750000</td>\n",
       "      <td>188.750000</td>\n",
       "      <td>1.000000</td>\n",
       "      <td>60.000000</td>\n",
       "      <td>1.000000</td>\n",
       "    </tr>\n",
       "    <tr>\n",
       "      <th>max</th>\n",
       "      <td>81.000000</td>\n",
       "      <td>3.000000</td>\n",
       "      <td>1.000000</td>\n",
       "      <td>2.000000</td>\n",
       "      <td>239.000000</td>\n",
       "      <td>1.000000</td>\n",
       "      <td>80.000000</td>\n",
       "      <td>1.000000</td>\n",
       "    </tr>\n",
       "  </tbody>\n",
       "</table>\n",
       "</div>"
      ],
      "text/plain": [
       "              Age  Marital_Status      Gender  Weight_Category  Cholesterol  \\\n",
       "count  138.000000      138.000000  138.000000       138.000000   138.000000   \n",
       "mean    62.978261        1.695652    0.623188         0.920290   177.391304   \n",
       "std      7.853092        0.824875    0.486352         0.764749    32.262707   \n",
       "min     42.000000        0.000000    0.000000         0.000000   122.000000   \n",
       "25%     58.000000        1.000000    0.000000         0.000000   161.000000   \n",
       "50%     63.000000        2.000000    1.000000         1.000000   172.000000   \n",
       "75%     69.000000        2.000000    1.000000         1.750000   188.750000   \n",
       "max     81.000000        3.000000    1.000000         2.000000   239.000000   \n",
       "\n",
       "       Stress_Management  Trait_Anxiety  2nd_Heart_Attack  \n",
       "count         138.000000     138.000000        138.000000  \n",
       "mean            0.442029      55.434783          0.492754  \n",
       "std             0.498437      12.373126          0.501769  \n",
       "min             0.000000      35.000000          0.000000  \n",
       "25%             0.000000      45.000000          0.000000  \n",
       "50%             0.000000      55.000000          0.000000  \n",
       "75%             1.000000      60.000000          1.000000  \n",
       "max             1.000000      80.000000          1.000000  "
      ]
     },
     "execution_count": 8,
     "metadata": {},
     "output_type": "execute_result"
    }
   ],
   "source": [
    "# basic statistics\n",
    "df.describe()"
   ]
  },
  {
   "cell_type": "code",
   "execution_count": 9,
   "metadata": {},
   "outputs": [
    {
     "data": {
      "text/html": [
       "<div>\n",
       "<style scoped>\n",
       "    .dataframe tbody tr th:only-of-type {\n",
       "        vertical-align: middle;\n",
       "    }\n",
       "\n",
       "    .dataframe tbody tr th {\n",
       "        vertical-align: top;\n",
       "    }\n",
       "\n",
       "    .dataframe thead th {\n",
       "        text-align: right;\n",
       "    }\n",
       "</style>\n",
       "<table border=\"1\" class=\"dataframe\">\n",
       "  <thead>\n",
       "    <tr style=\"text-align: right;\">\n",
       "      <th></th>\n",
       "      <th>Age</th>\n",
       "      <th>Marital_Status</th>\n",
       "      <th>Gender</th>\n",
       "      <th>Weight_Category</th>\n",
       "      <th>Cholesterol</th>\n",
       "      <th>Stress_Management</th>\n",
       "      <th>Trait_Anxiety</th>\n",
       "      <th>2nd_Heart_Attack</th>\n",
       "    </tr>\n",
       "  </thead>\n",
       "  <tbody>\n",
       "    <tr>\n",
       "      <th>Age</th>\n",
       "      <td>1.000000</td>\n",
       "      <td>0.427159</td>\n",
       "      <td>0.076195</td>\n",
       "      <td>0.402007</td>\n",
       "      <td>0.395331</td>\n",
       "      <td>-0.359295</td>\n",
       "      <td>0.667169</td>\n",
       "      <td>0.499182</td>\n",
       "    </tr>\n",
       "    <tr>\n",
       "      <th>Marital_Status</th>\n",
       "      <td>0.427159</td>\n",
       "      <td>1.000000</td>\n",
       "      <td>-0.033225</td>\n",
       "      <td>0.065402</td>\n",
       "      <td>0.273574</td>\n",
       "      <td>-0.291773</td>\n",
       "      <td>0.238340</td>\n",
       "      <td>0.364978</td>\n",
       "    </tr>\n",
       "    <tr>\n",
       "      <th>Gender</th>\n",
       "      <td>0.076195</td>\n",
       "      <td>-0.033225</td>\n",
       "      <td>1.000000</td>\n",
       "      <td>0.448531</td>\n",
       "      <td>0.191354</td>\n",
       "      <td>-0.241320</td>\n",
       "      <td>0.082007</td>\n",
       "      <td>0.317746</td>\n",
       "    </tr>\n",
       "    <tr>\n",
       "      <th>Weight_Category</th>\n",
       "      <td>0.402007</td>\n",
       "      <td>0.065402</td>\n",
       "      <td>0.448531</td>\n",
       "      <td>1.000000</td>\n",
       "      <td>0.397702</td>\n",
       "      <td>-0.347322</td>\n",
       "      <td>0.501244</td>\n",
       "      <td>0.730832</td>\n",
       "    </tr>\n",
       "    <tr>\n",
       "      <th>Cholesterol</th>\n",
       "      <td>0.395331</td>\n",
       "      <td>0.273574</td>\n",
       "      <td>0.191354</td>\n",
       "      <td>0.397702</td>\n",
       "      <td>1.000000</td>\n",
       "      <td>-0.405735</td>\n",
       "      <td>0.579485</td>\n",
       "      <td>0.506531</td>\n",
       "    </tr>\n",
       "    <tr>\n",
       "      <th>Stress_Management</th>\n",
       "      <td>-0.359295</td>\n",
       "      <td>-0.291773</td>\n",
       "      <td>-0.241320</td>\n",
       "      <td>-0.347322</td>\n",
       "      <td>-0.405735</td>\n",
       "      <td>1.000000</td>\n",
       "      <td>-0.321362</td>\n",
       "      <td>-0.439473</td>\n",
       "    </tr>\n",
       "    <tr>\n",
       "      <th>Trait_Anxiety</th>\n",
       "      <td>0.667169</td>\n",
       "      <td>0.238340</td>\n",
       "      <td>0.082007</td>\n",
       "      <td>0.501244</td>\n",
       "      <td>0.579485</td>\n",
       "      <td>-0.321362</td>\n",
       "      <td>1.000000</td>\n",
       "      <td>0.482548</td>\n",
       "    </tr>\n",
       "    <tr>\n",
       "      <th>2nd_Heart_Attack</th>\n",
       "      <td>0.499182</td>\n",
       "      <td>0.364978</td>\n",
       "      <td>0.317746</td>\n",
       "      <td>0.730832</td>\n",
       "      <td>0.506531</td>\n",
       "      <td>-0.439473</td>\n",
       "      <td>0.482548</td>\n",
       "      <td>1.000000</td>\n",
       "    </tr>\n",
       "  </tbody>\n",
       "</table>\n",
       "</div>"
      ],
      "text/plain": [
       "                        Age  Marital_Status    Gender  Weight_Category  \\\n",
       "Age                1.000000        0.427159  0.076195         0.402007   \n",
       "Marital_Status     0.427159        1.000000 -0.033225         0.065402   \n",
       "Gender             0.076195       -0.033225  1.000000         0.448531   \n",
       "Weight_Category    0.402007        0.065402  0.448531         1.000000   \n",
       "Cholesterol        0.395331        0.273574  0.191354         0.397702   \n",
       "Stress_Management -0.359295       -0.291773 -0.241320        -0.347322   \n",
       "Trait_Anxiety      0.667169        0.238340  0.082007         0.501244   \n",
       "2nd_Heart_Attack   0.499182        0.364978  0.317746         0.730832   \n",
       "\n",
       "                   Cholesterol  Stress_Management  Trait_Anxiety  \\\n",
       "Age                   0.395331          -0.359295       0.667169   \n",
       "Marital_Status        0.273574          -0.291773       0.238340   \n",
       "Gender                0.191354          -0.241320       0.082007   \n",
       "Weight_Category       0.397702          -0.347322       0.501244   \n",
       "Cholesterol           1.000000          -0.405735       0.579485   \n",
       "Stress_Management    -0.405735           1.000000      -0.321362   \n",
       "Trait_Anxiety         0.579485          -0.321362       1.000000   \n",
       "2nd_Heart_Attack      0.506531          -0.439473       0.482548   \n",
       "\n",
       "                   2nd_Heart_Attack  \n",
       "Age                        0.499182  \n",
       "Marital_Status             0.364978  \n",
       "Gender                     0.317746  \n",
       "Weight_Category            0.730832  \n",
       "Cholesterol                0.506531  \n",
       "Stress_Management         -0.439473  \n",
       "Trait_Anxiety              0.482548  \n",
       "2nd_Heart_Attack           1.000000  "
      ]
     },
     "execution_count": 9,
     "metadata": {},
     "output_type": "execute_result"
    }
   ],
   "source": [
    "# correlation analysis\n",
    "df.corr()"
   ]
  },
  {
   "cell_type": "code",
   "execution_count": 10,
   "metadata": {},
   "outputs": [
    {
     "data": {
      "text/html": [
       "<div>\n",
       "<style scoped>\n",
       "    .dataframe tbody tr th:only-of-type {\n",
       "        vertical-align: middle;\n",
       "    }\n",
       "\n",
       "    .dataframe tbody tr th {\n",
       "        vertical-align: top;\n",
       "    }\n",
       "\n",
       "    .dataframe thead th {\n",
       "        text-align: right;\n",
       "    }\n",
       "</style>\n",
       "<table border=\"1\" class=\"dataframe\">\n",
       "  <thead>\n",
       "    <tr style=\"text-align: right;\">\n",
       "      <th></th>\n",
       "      <th>2nd_Heart_Attack</th>\n",
       "    </tr>\n",
       "  </thead>\n",
       "  <tbody>\n",
       "    <tr>\n",
       "      <th>Weight_Category</th>\n",
       "      <td>0.730832</td>\n",
       "    </tr>\n",
       "    <tr>\n",
       "      <th>Cholesterol</th>\n",
       "      <td>0.506531</td>\n",
       "    </tr>\n",
       "    <tr>\n",
       "      <th>Age</th>\n",
       "      <td>0.499182</td>\n",
       "    </tr>\n",
       "    <tr>\n",
       "      <th>Trait_Anxiety</th>\n",
       "      <td>0.482548</td>\n",
       "    </tr>\n",
       "    <tr>\n",
       "      <th>Marital_Status</th>\n",
       "      <td>0.364978</td>\n",
       "    </tr>\n",
       "    <tr>\n",
       "      <th>Gender</th>\n",
       "      <td>0.317746</td>\n",
       "    </tr>\n",
       "    <tr>\n",
       "      <th>Stress_Management</th>\n",
       "      <td>-0.439473</td>\n",
       "    </tr>\n",
       "  </tbody>\n",
       "</table>\n",
       "</div>"
      ],
      "text/plain": [
       "                   2nd_Heart_Attack\n",
       "Weight_Category            0.730832\n",
       "Cholesterol                0.506531\n",
       "Age                        0.499182\n",
       "Trait_Anxiety              0.482548\n",
       "Marital_Status             0.364978\n",
       "Gender                     0.317746\n",
       "Stress_Management         -0.439473"
      ]
     },
     "execution_count": 10,
     "metadata": {},
     "output_type": "execute_result"
    }
   ],
   "source": [
    "corr = pd.DataFrame(df.corr()['2nd_Heart_Attack'].drop('2nd_Heart_Attack'))\n",
    "corr.sort_values(['2nd_Heart_Attack'], ascending = False)"
   ]
  },
  {
   "cell_type": "code",
   "execution_count": 11,
   "metadata": {},
   "outputs": [
    {
     "data": {
      "image/png": "[encoded data removed]",
      "text/plain": [
       "<Figure size 936x720 with 2 Axes>"
      ]
     },
     "metadata": {},
     "output_type": "display_data"
    }
   ],
   "source": [
    "#Correlation Heatmap between Variables\n",
    "\n",
    "# Compute the correlation matrix\n",
    "corr = df.corr()\n",
    "\n",
    "# Set up the matplotlib figure\n",
    "f, ax = plt.subplots(figsize=(13, 10))\n",
    "\n",
    "# Generate a mask for the upper triangle\n",
    "mask = np.zeros_like(corr, dtype=np.bool)\n",
    "mask[np.triu_indices_from(mask)] = True\n",
    "\n",
    "# Generate a custom diverging colormap\n",
    "cmap = sns.diverging_palette(10, 200, as_cmap=True)\n",
    "\n",
    "sns.heatmap(corr, mask=mask, cmap=cmap, annot=True, vmax=1,\n",
    "            square=True, linewidths=.5);"
   ]
  },
  {
   "cell_type": "code",
   "execution_count": 12,
   "metadata": {},
   "outputs": [
    {
     "data": {
      "text/plain": [
       "<seaborn.matrix.ClusterGrid at 0x24e131391d0>"
      ]
     },
     "execution_count": 12,
     "metadata": {},
     "output_type": "execute_result"
    },
    {
     "data": {
      "image/png": "[encoded data removed]",
      "text/plain": [
       "<Figure size 720x720 with 4 Axes>"
      ]
     },
     "metadata": {},
     "output_type": "display_data"
    }
   ],
   "source": [
    "# cluster map \n",
    "sns.clustermap(data=df.corr(), annot=True, cmap='Greens')"
   ]
  },
  {
   "cell_type": "markdown",
   "metadata": {},
   "source": [
    "# Data visualization & business intelligence\n",
    "I skip this step to focus on model building. In a real-world project, you should extract business intelligence using data visualization (e.g., groupby, matplotlib, seaborn)\n"
   ]
  },
  {
   "cell_type": "markdown",
   "metadata": {},
   "source": [
    "# Model Building (Predictive/Classification analytics)"
   ]
  },
  {
   "cell_type": "markdown",
   "metadata": {},
   "source": [
    "# Top 10 algorithms & methods used by Data Scientists.\n",
    "\n",
    "<img src=\"images/top10algorithms.png\">\n",
    "source: kdnuggets.com"
   ]
  },
  {
   "cell_type": "markdown",
   "metadata": {},
   "source": [
    "There are many different machine learning algorithms for predictive model building. \n",
    "\n",
    "> - **Decision Tree**\n",
    "> - **Logistic Regression**\n",
    "> - **k-nearest neighbors**"
   ]
  },
  {
   "cell_type": "markdown",
   "metadata": {},
   "source": [
    "<h1 align=\"center\">Decision Tree</h1>\n",
    "* Most intuitive\n",
    "* Implicitly perform feature selection (selecting which X variables are important)\n",
    "* Requires little effort from users for data preparation (can handle missing values)\n",
    "* Easy to interpret and explain to executives!\n",
    "* Provides decision rules\n",
    "* Different decision tree classification algorithms (e.g., CART, ID3, CHAID)\n",
    "* CART (Classification And Regression Tree) is the default (in scikit learn)"
   ]
  },
  {
   "cell_type": "markdown",
   "metadata": {},
   "source": [
    "#### Let's consider an example:\n",
    "<img src=\"images\\dt1.gif\">\n",
    "\n",
    "<center> 4 people with good credit & 5 people with bad credit status </center>\n",
    "\n",
    "#### Here is the decision tree\n",
    "<img src=\"images\\dt2.gif\">\n",
    "\n",
    "#### The goal of decision tree is to split a node in a way to maximize purity. The above example tells that each splited node is 100% pure, which is ideal. See the appendix more about \"impurity\" or Gini index."
   ]
  },
  {
   "cell_type": "code",
   "execution_count": null,
   "metadata": {},
   "outputs": [],
   "source": []
  },
  {
   "cell_type": "markdown",
   "metadata": {},
   "source": [
    "#### Let's consider another example:\n",
    "<img src=\"images\\dt3.gif\">\n",
    "\n",
    "<center> 22 people with passing grade & 20 people with failing grade </center>\n",
    "\n",
    "\n",
    "#### How about this split?\n",
    "<img src=\"images\\dt4.gif\">\n",
    "\n",
    "#### Here is the decision tree: Each box is called **\"a leaf node\"**\n",
    "<img src=\"images\\dt5.gif\">\n",
    "\n",
    "#### Then, **decision rules** are:\n",
    "> * If Enlish score >= 80 then, \"pass\"\n",
    "> * Elseif Math score >= 75 then, \"pass\"\n",
    "> * Else, then \"fail\""
   ]
  },
  {
   "cell_type": "markdown",
   "metadata": {},
   "source": [
    "> The above decision tree indicates that **English Score** is the most important X variable to consider in terms of determining who is likely to pass or fail."
   ]
  },
  {
   "cell_type": "markdown",
   "metadata": {},
   "source": [
    "# Model Building & Validation\n",
    "\n",
    "When building a predictive model, we split the original data into two datasets: **training dataset and testing (validation) dataset**. This is called **\"split validation\"**, a type of **\"model validation\"**\n",
    "- A predictive model is built using the **training dataset** and **the model quality** is assessed as the model is applied into the **testing (validation) dataset** (See Appendix for more details)\n",
    "\n",
    "> **Two types of model validation**: \n",
    " 1. **split validation** (70% of the original data as training and the other 30% as testing dataset)\n",
    " 2. **cross validation** (90% of the original data as training and the other 10% as testing dataset): This allows to test the model quality 10 times. The average value is used to measure the model performance"
   ]
  },
  {
   "cell_type": "code",
   "execution_count": 13,
   "metadata": {},
   "outputs": [],
   "source": [
    "# declare X variables and y variable\n",
    "y = df['2nd_Heart_Attack']\n",
    "X = df.drop(['2nd_Heart_Attack'], axis=1)"
   ]
  },
  {
   "cell_type": "code",
   "execution_count": 14,
   "metadata": {},
   "outputs": [
    {
     "name": "stdout",
     "output_type": "stream",
     "text": [
      "96 96 42 42\n"
     ]
    }
   ],
   "source": [
    "# split validation\n",
    "X_train, X_test, y_train, y_test = train_test_split(X, y, test_size=0.3, random_state=0)\n",
    "print(len(X_train), len(y_train),\n",
    "      len(X_test), len(y_test))\n",
    "\n",
    "# Initialize DecisionTreeClassifier()\n",
    "\n",
    "from sklearn.tree import DecisionTreeClassifier\n",
    "clf = DecisionTreeClassifier(random_state=0)\n",
    "\n",
    "# Train a decision tree model\n",
    "\n",
    "clf = clf.fit(X_train, y_train)"
   ]
  },
  {
   "cell_type": "code",
   "execution_count": 17,
   "metadata": {
    "scrolled": true
   },
   "outputs": [
    {
     "name": "stdout",
     "output_type": "stream",
     "text": [
      "Accuracy:  0.9285714285714286\n",
      "--------------------------------------------------------\n",
      "[[18  1]\n",
      " [ 2 21]]\n",
      "--------------------------------------------------------\n",
      "             precision    recall  f1-score   support\n",
      "\n",
      "          0       0.90      0.95      0.92        19\n",
      "          1       0.95      0.91      0.93        23\n",
      "\n",
      "avg / total       0.93      0.93      0.93        42\n",
      "\n",
      "--------------------------------------------------------\n",
      "0.9302059496567506\n"
     ]
    }
   ],
   "source": [
    "#Model evaluation\n",
    "# http://scikit-learn.org/stable/modules/model_evaluation.html\n",
    "print('Accuracy: ', + metrics.accuracy_score(y_test, clf.predict(X_test)))\n",
    "print(\"--------------------------------------------------------\")\n",
    "print(metrics.confusion_matrix(y_test, clf.predict(X_test))) \n",
    "print(\"--------------------------------------------------------\")\n",
    "print(metrics.classification_report(y_test, clf.predict(X_test)))\n",
    "print(\"--------------------------------------------------------\")\n",
    "print(metrics.roc_auc_score(y_test, clf.predict(X_test)))\n",
    "\n",
    "# y-test is the acual y value in the testing dataset\n",
    "# dt.predict(X_test) is the predicted y value generated by your model\n",
    "# If they are same, we can say your model is accurate."
   ]
  },
  {
   "cell_type": "code",
   "execution_count": 23,
   "metadata": {},
   "outputs": [
    {
     "data": {
      "image/png": "[encoded data removed]",
      "text/plain": [
       "<Figure size 432x288 with 2 Axes>"
      ]
     },
     "metadata": {},
     "output_type": "display_data"
    }
   ],
   "source": [
    "# optional\n",
    "#pip install scikit-plot \n",
    "import scikitplot as skplt\n",
    "\n",
    "skplt.metrics.plot_confusion_matrix(y_true=np.array(y_test), y_pred=clf.predict(X_test))\n",
    "plt.show()"
   ]
  },
  {
   "cell_type": "markdown",
   "metadata": {},
   "source": [
    "> **So, what is the model accuracy?**\n",
    "\n",
    "The decision tree model is 92.9% accurate. Therefore, we expect that the model will be about **93% accurate** when the model is applied into a real-world situation\n",
    "\n",
    "True Positive Rate (Sensitivity) = 21/23 = 0.95\n",
    "\n",
    "False Positive Rate = 1/19 = 0.052\n",
    "\n",
    "True Negative Rate (Specificity) = 18/19\n",
    "\n",
    "False Negatve Rate = 2/23\n",
    "\n",
    "There is another important measure (perhaps, the most popular one) called **AUC** (see the appendix for more details)"
   ]
  },
  {
   "cell_type": "markdown",
   "metadata": {},
   "source": [
    "<img src=\"images\\ppt\\slide17.gif\">\n",
    "<img src=\"images\\ppt\\slide18.gif\">"
   ]
  },
  {
   "cell_type": "markdown",
   "metadata": {},
   "source": [
    "http://scikit-learn.org/stable/auto_examples/model_selection/plot_precision_recall.html\n",
    "\n",
    "Precision = true positives / (true positives + false positives) \n",
    "    - The ability of the classifier to not label a negative sample as positive\n",
    "\n",
    "Recall = true positives / (true positives + false negatives). \n",
    "    - The ability of the classifier to find all positive samples\n",
    "\n",
    "f1  = (precision $*$ recall) / (precision + recall)\n",
    "\n",
    "confusion matrix: rows are the actual values; columns are the predicted value\n",
    "\n",
    "AUC score (Area Under Curve, see the appendix for more details)"
   ]
  },
  {
   "cell_type": "markdown",
   "metadata": {},
   "source": [
    "# Visualizing decision tree\n",
    "\n",
    "There are two methods for this. You can use either method. \n",
    "\n",
    "- The first option is using Graphviz software. For this option, you need to have GraphViz installed in your mahcine.\n",
    "- The second option is using **pydotplus**. This creates a pdf file. (first, you want to check if this page is already in your computer. **conda list pydotplus**)\n",
    "    - If not available, install pydotplus first **pip install pydotplus**"
   ]
  },
  {
   "cell_type": "code",
   "execution_count": 25,
   "metadata": {},
   "outputs": [],
   "source": [
    "# 1st option\n",
    "tree.export_graphviz(clf, out_file='data/decisiontree.dot', feature_names=X.columns)"
   ]
  },
  {
   "cell_type": "raw",
   "metadata": {},
   "source": [
    "Steps to follow to embed the decision tree in this ipython notebook\n",
    "\n",
    "1. start **Graphviz** by clicking **gvedit.exe**\n",
    "2. open **decisiontree.dot** \n",
    "3. go to **Graph / Setting** and click **ok**\n",
    "4. then type in a new cell \n",
    "\n",
    "        from IPython.display import Image\n",
    "        Image(\"data/decisiontree.png\")\n",
    "\n",
    "see below for an example"
   ]
  },
  {
   "cell_type": "code",
   "execution_count": 26,
   "metadata": {},
   "outputs": [
    {
     "data": {
      "image/png": "[encoded data removed]",
      "text/plain": [
       "<IPython.core.display.Image object>"
      ]
     },
     "execution_count": 26,
     "metadata": {},
     "output_type": "execute_result"
    }
   ],
   "source": [
    "from IPython.display import Image\n",
    "Image(\"data/decisiontree.png\")\n",
    "# This is a \"full-grown\" tree "
   ]
  },
  {
   "cell_type": "code",
   "execution_count": 27,
   "metadata": {},
   "outputs": [
    {
     "data": {
      "image/png": "[encoded data removed]",
      "text/plain": [
       "<IPython.core.display.Image object>"
      ]
     },
     "execution_count": 27,
     "metadata": {},
     "output_type": "execute_result"
    }
   ],
   "source": [
    "from IPython.display import Image\n",
    "Image(\"data/decisiontree_w_notes.png\")"
   ]
  },
  {
   "cell_type": "markdown",
   "metadata": {},
   "source": [
    "# Interpreting decision tree\n",
    "\n",
    "Weight_category appears to be the single most influential factor\n",
    "\n",
    "Many decision rules can be extracted. For example:\n",
    "\n",
    "1. if weight_category < 0.5 (meaning normal), 31 people (who in normal weight category) do not have 2nd heart attack.\n",
    "2. if weight_category > 0.5 (meaning overweight or obese) and Marital_status < 1.5 (meaning single or married) and Trait_Anxiety < 62.5 (meaning low anxiety level), people tend NOT to have 2nd heart attack. 17 people are in this category.\n",
    "3. develop more decision rules here ..."
   ]
  },
  {
   "cell_type": "code",
   "execution_count": 1,
   "metadata": {},
   "outputs": [
    {
     "ename": "NameError",
     "evalue": "name 'tree' is not defined",
     "output_type": "error",
     "traceback": [
      "\u001b[1;31m---------------------------------------------------------------------------\u001b[0m",
      "\u001b[1;31mNameError\u001b[0m                                 Traceback (most recent call last)",
      "\u001b[1;32m<ipython-input-1-f1ce4690ab29>\u001b[0m in \u001b[0;36m<module>\u001b[1;34m()\u001b[0m\n\u001b[0;32m      4\u001b[0m \u001b[1;33m\u001b[0m\u001b[0m\n\u001b[0;32m      5\u001b[0m \u001b[0mdot_data\u001b[0m \u001b[1;33m=\u001b[0m \u001b[0mStringIO\u001b[0m\u001b[1;33m(\u001b[0m\u001b[1;33m)\u001b[0m\u001b[1;33m\u001b[0m\u001b[0m\n\u001b[1;32m----> 6\u001b[1;33m tree.export_graphviz(clf, out_file=dot_data, feature_names=X.columns,\n\u001b[0m\u001b[0;32m      7\u001b[0m                      filled=True, rounded=True, special_characters=True)\n\u001b[0;32m      8\u001b[0m \u001b[0mgraph\u001b[0m \u001b[1;33m=\u001b[0m \u001b[0mpydotplus\u001b[0m\u001b[1;33m.\u001b[0m\u001b[0mgraph_from_dot_data\u001b[0m\u001b[1;33m(\u001b[0m\u001b[0mdot_data\u001b[0m\u001b[1;33m.\u001b[0m\u001b[0mgetvalue\u001b[0m\u001b[1;33m(\u001b[0m\u001b[1;33m)\u001b[0m\u001b[1;33m)\u001b[0m\u001b[1;33m\u001b[0m\u001b[0m\n",
      "\u001b[1;31mNameError\u001b[0m: name 'tree' is not defined"
     ]
    }
   ],
   "source": [
    "# 2nd option\n",
    "from sklearn.externals.six import StringIO\n",
    "import pydotplus\n",
    "\n",
    "dot_data = StringIO() \n",
    "tree.export_graphviz(clf, out_file=dot_data, feature_names=X.columns,\n",
    "                     filled=True, rounded=True, special_characters=True)\n",
    "graph = pydotplus.graph_from_dot_data(dot_data.getvalue())\n",
    "graph.write_pdf(\"data/dt.pdf\")\n",
    "# go to data folder and open the pdf file"
   ]
  },
  {
   "cell_type": "markdown",
   "metadata": {},
   "source": [
    "if you receive an error (\"**GraphViz's executables not found**\"), the solution can be found http://stackoverflow.com/questions/18438997/why-is-pydot-unable-to-find-graphvizs-executables-in-windows-8"
   ]
  },
  {
   "cell_type": "markdown",
   "metadata": {},
   "source": [
    "# What if your decision tree looks too complicated to be practical?\n",
    "- A \"full-grown\" decision tree could be too complicated to be practical\n",
    "- To be useful, a model needs to be simple, but not too simple\n",
    "- **\"Everything Should Be Made as Simple as Possible, But Not Simpler\"** - Albert Einstein or ?"
   ]
  },
  {
   "cell_type": "code",
   "execution_count": 40,
   "metadata": {},
   "outputs": [
    {
     "data": {
      "text/plain": [
       "DecisionTreeClassifier(class_weight=None, criterion='gini', max_depth=3,\n",
       "            max_features=None, max_leaf_nodes=None,\n",
       "            min_impurity_decrease=0.0, min_impurity_split=None,\n",
       "            min_samples_leaf=5, min_samples_split=2,\n",
       "            min_weight_fraction_leaf=0.0, presort=False, random_state=None,\n",
       "            splitter='best')"
      ]
     },
     "execution_count": 40,
     "metadata": {},
     "output_type": "execute_result"
    }
   ],
   "source": [
    "dt = DecisionTreeClassifier()    # develop a very complex (\"full-grown\") tree\n",
    "\n",
    "# You can make a simpler decision tree\n",
    "\n",
    "X_train, X_test, y_train, y_test = train_test_split(X, y, test_size=0.3, random_state=0)\n",
    "dt_simple = DecisionTreeClassifier(max_depth=3, min_samples_leaf=5)\n",
    "dt_simple.fit(X_train, y_train)\n",
    "\n",
    "# max_depth : The maximum depth of the tree. If None, then nodes are expanded until all leaves are pure or until all leaves contain less than min_samples_split samples.\n",
    "\n",
    "# min_samples_leaf : The minimum number of samples required to be at a leaf node\n",
    "\n",
    "# http://scikit-learn.org/stable/modules/generated/sklearn.tree.DecisionTreeClassifier.html#sklearn.tree.DecisionTreeClassifier"
   ]
  },
  {
   "cell_type": "code",
   "execution_count": 43,
   "metadata": {},
   "outputs": [
    {
     "data": {
      "text/plain": [
       "DecisionTreeClassifier(class_weight=None, criterion='gini', max_depth=3,\n",
       "            max_features=None, max_leaf_nodes=None,\n",
       "            min_impurity_decrease=0.0, min_impurity_split=None,\n",
       "            min_samples_leaf=5, min_samples_split=2,\n",
       "            min_weight_fraction_leaf=0.0, presort=False, random_state=None,\n",
       "            splitter='best')"
      ]
     },
     "execution_count": 43,
     "metadata": {},
     "output_type": "execute_result"
    }
   ],
   "source": [
    "# split validation\n",
    "X_train, X_test, y_train, y_test = train_test_split(X, y, test_size=0.3, random_state=0)\n",
    "\n",
    "# # Build a decision model with max_depth=3 and min_samples_leaf=5\n",
    "\n",
    "dt_simple = DecisionTreeClassifier(max_depth=3, min_samples_leaf=5)\n",
    "dt_simple.fit(X_train, y_train)"
   ]
  },
  {
   "cell_type": "code",
   "execution_count": 45,
   "metadata": {},
   "outputs": [
    {
     "name": "stdout",
     "output_type": "stream",
     "text": [
      "0.9047619047619048\n",
      "--------------------------------------------------------\n",
      "[[16  3]\n",
      " [ 1 22]]\n",
      "--------------------------------------------------------\n",
      "             precision    recall  f1-score   support\n",
      "\n",
      "          0       0.94      0.84      0.89        19\n",
      "          1       0.88      0.96      0.92        23\n",
      "\n",
      "avg / total       0.91      0.90      0.90        42\n",
      "\n",
      "--------------------------------------------------------\n",
      "0.8993135011441648\n"
     ]
    }
   ],
   "source": [
    "# Find out the performance of this model & interpret the results\n",
    "print(metrics.accuracy_score(y_test, dt_simple.predict(X_test)))\n",
    "print(\"--------------------------------------------------------\")\n",
    "print(metrics.confusion_matrix(y_test, dt_simple.predict(X_test))) \n",
    "print(\"--------------------------------------------------------\")\n",
    "print(metrics.classification_report(y_test, dt_simple.predict(X_test)))\n",
    "print(\"--------------------------------------------------------\")\n",
    "print(metrics.roc_auc_score(y_test, dt_simple.predict(X_test)))\n"
   ]
  },
  {
   "cell_type": "code",
   "execution_count": 46,
   "metadata": {},
   "outputs": [],
   "source": [
    "# Visualize the simpler decision tree model (dt_simple)\n",
    "tree.export_graphviz(dt_simple, out_file='data/decisiontree_simple.dot', feature_names=X.columns)"
   ]
  },
  {
   "cell_type": "code",
   "execution_count": 47,
   "metadata": {},
   "outputs": [
    {
     "data": {
      "image/png": "[encoded data removed]",
      "text/plain": [
       "<IPython.core.display.Image object>"
      ]
     },
     "execution_count": 47,
     "metadata": {},
     "output_type": "execute_result"
    }
   ],
   "source": [
    "# Embed the decision tree here\n",
    "\n",
    "from IPython.display import Image\n",
    "Image(\"data/decisiontree_simple.png\")"
   ]
  },
  {
   "cell_type": "markdown",
   "metadata": {},
   "source": [
    "# Model Deployement: Make Predictions on the new dataset (scoring dataset)\n",
    "\n",
    "There are different names for scoring dataset. Examples include:\n",
    "- validation dataset\n",
    "- future dataset\n",
    "- dataset without y value or label"
   ]
  },
  {
   "cell_type": "code",
   "execution_count": 48,
   "metadata": {},
   "outputs": [
    {
     "data": {
      "text/html": [
       "<div>\n",
       "<style scoped>\n",
       "    .dataframe tbody tr th:only-of-type {\n",
       "        vertical-align: middle;\n",
       "    }\n",
       "\n",
       "    .dataframe tbody tr th {\n",
       "        vertical-align: top;\n",
       "    }\n",
       "\n",
       "    .dataframe thead th {\n",
       "        text-align: right;\n",
       "    }\n",
       "</style>\n",
       "<table border=\"1\" class=\"dataframe\">\n",
       "  <thead>\n",
       "    <tr style=\"text-align: right;\">\n",
       "      <th></th>\n",
       "      <th>Age</th>\n",
       "      <th>Marital_Status</th>\n",
       "      <th>Gender</th>\n",
       "      <th>Weight_Category</th>\n",
       "      <th>Cholesterol</th>\n",
       "      <th>Stress_Management</th>\n",
       "      <th>Trait_Anxiety</th>\n",
       "    </tr>\n",
       "  </thead>\n",
       "  <tbody>\n",
       "    <tr>\n",
       "      <th>0</th>\n",
       "      <td>61</td>\n",
       "      <td>0</td>\n",
       "      <td>1</td>\n",
       "      <td>1</td>\n",
       "      <td>139</td>\n",
       "      <td>1</td>\n",
       "      <td>50</td>\n",
       "    </tr>\n",
       "    <tr>\n",
       "      <th>1</th>\n",
       "      <td>55</td>\n",
       "      <td>2</td>\n",
       "      <td>1</td>\n",
       "      <td>2</td>\n",
       "      <td>163</td>\n",
       "      <td>0</td>\n",
       "      <td>40</td>\n",
       "    </tr>\n",
       "  </tbody>\n",
       "</table>\n",
       "</div>"
      ],
      "text/plain": [
       "   Age  Marital_Status  Gender  Weight_Category  Cholesterol  \\\n",
       "0   61               0       1                1          139   \n",
       "1   55               2       1                2          163   \n",
       "\n",
       "   Stress_Management  Trait_Anxiety  \n",
       "0                  1             50  \n",
       "1                  0             40  "
      ]
     },
     "execution_count": 48,
     "metadata": {},
     "output_type": "execute_result"
    }
   ],
   "source": [
    "# scoring dataset\n",
    "score=pd.read_csv(\"data/heartattack_scoring.csv\")\n",
    "score.head(2)\n",
    "#no Y value in this dataset ... \n",
    "#we are trying to predict whether the people in this scoring dataset are likely to have 2nd heart attack or not."
   ]
  },
  {
   "cell_type": "code",
   "execution_count": 49,
   "metadata": {},
   "outputs": [
    {
     "name": "stdout",
     "output_type": "stream",
     "text": [
      "<class 'pandas.core.frame.DataFrame'>\n",
      "RangeIndex: 690 entries, 0 to 689\n",
      "Data columns (total 7 columns):\n",
      "Age                  690 non-null int64\n",
      "Marital_Status       690 non-null int64\n",
      "Gender               690 non-null int64\n",
      "Weight_Category      690 non-null int64\n",
      "Cholesterol          690 non-null int64\n",
      "Stress_Management    690 non-null int64\n",
      "Trait_Anxiety        690 non-null int64\n",
      "dtypes: int64(7)\n",
      "memory usage: 37.8 KB\n"
     ]
    }
   ],
   "source": [
    "score.info()"
   ]
  },
  {
   "cell_type": "code",
   "execution_count": 52,
   "metadata": {},
   "outputs": [
    {
     "name": "stdout",
     "output_type": "stream",
     "text": [
      "[0 1 0 1 1 0 0 0 1 0 1 0 1 1 1 1 1 0 0 1 0 1 0 1 0 1 1 1 1 0 1 0 0 0 0 1 1\n",
      " 0 1 0 0 0 0 1 0 1 0 1 1 0 0 0 0 1 1 1 0 1 1 0 1 0 1 1 0 1 1 0 1 0 0 0 1 1\n",
      " 0 1 0 0 0 1 1 0 0 1 0 1 1 1 1 1 1 0 0 1 0 0 0 0 0 1 0 1 0 1 1 1 0 1 0 0 1\n",
      " 1 0 1 0 1 1 0 1 0 0 0 0 1 1 0 1 1 1 0 0 0 0 1 0 0 1 1 1 1 1 1 1 0 1 0 0 0\n",
      " 1 0 0 1 1 1 0 1 1 0 1 1 1 0 0 1 0 0 1 1 0 1 1 0 0 0 0 0 0 0 1 1 1 1 0 1 1\n",
      " 0 1 1 1 1 1 1 0 0 1 0 1 1 1 0 0 0 1 0 0 1 0 0 0 0 1 1 1 0 0 0 0 1 1 1 0 1\n",
      " 1 1 0 1 1 0 0 0 0 1 0 1 1 1 0 0 1 1 0 0 0 1 1 0 1 1 0 0 0 1 1 1 1 1 0 1 1\n",
      " 0 1 1 0 1 1 1 1 0 1 1 1 1 1 0 1 1 1 0 0 0 1 0 0 1 1 0 0 0 0 1 0 1 1 1 1 1\n",
      " 1 1 1 1 1 1 1 0 1 1 1 1 1 1 0 1 0 0 1 1 1 1 0 1 0 1 1 0 0 0 1 0 1 1 1 0 0\n",
      " 0 1 0 1 1 0 0 1 0 0 0 1 1 1 1 0 1 1 0 1 1 1 0 1 0 1 0 0 0 0 1 1 0 1 0 1 0\n",
      " 1 0 0 0 0 1 1 1 0 1 1 1 1 0 1 0 0 1 1 1 0 1 1 1 1 0 0 0 1 1 0 1 1 0 0 0 0\n",
      " 1 1 0 0 1 1 1 1 0 1 0 1 1 1 0 0 1 1 1 1 1 1 1 0 0 1 0 0 1 0 0 0 0 1 1 0 0\n",
      " 0 0 1 0 0 0 1 1 0 1 1 1 0 0 1 1 1 0 1 1 1 0 0 0 1 1 1 0 0 1 1 0 1 0 0 0 0\n",
      " 1 1 1 1 1 1 0 1 0 1 1 0 1 1 1 0 0 0 1 1 1 0 1 1 0 0 1 1 1 0 1 0 0 1 1 1 1\n",
      " 1 1 1 1 1 1 1 0 1 0 1 0 0 0 0 0 1 1 1 0 0 0 0 0 1 0 0 0 1 1 1 0 0 1 1 1 1\n",
      " 1 0 1 1 0 1 0 1 0 1 1 1 1 0 0 1 0 0 0 1 1 0 0 0 1 1 1 0 1 1 1 1 1 1 1 1 0\n",
      " 1 0 1 1 1 0 1 0 1 0 1 0 1 0 1 1 0 1 1 1 1 0 0 1 0 1 0 1 1 0 1 0 0 0 0 0 0\n",
      " 0 1 0 1 0 1 1 1 1 0 0 0 1 1 0 1 1 0 0 0 1 0 0 0 0 0 0 0 0 1 1 1 0 0 0 1 0\n",
      " 0 1 1 1 1 0 0 1 1 1 1 0 0 0 1 0 1 0 0 1 1 0 0 1]\n"
     ]
    }
   ],
   "source": [
    "# deploy your model for real world\n",
    "\n",
    "predictedY = dt_simple.predict(score)\n",
    "print(predictedY)"
   ]
  },
  {
   "cell_type": "code",
   "execution_count": 53,
   "metadata": {},
   "outputs": [
    {
     "data": {
      "text/html": [
       "<div>\n",
       "<style scoped>\n",
       "    .dataframe tbody tr th:only-of-type {\n",
       "        vertical-align: middle;\n",
       "    }\n",
       "\n",
       "    .dataframe tbody tr th {\n",
       "        vertical-align: top;\n",
       "    }\n",
       "\n",
       "    .dataframe thead th {\n",
       "        text-align: right;\n",
       "    }\n",
       "</style>\n",
       "<table border=\"1\" class=\"dataframe\">\n",
       "  <thead>\n",
       "    <tr style=\"text-align: right;\">\n",
       "      <th></th>\n",
       "      <th>predicted Y</th>\n",
       "    </tr>\n",
       "  </thead>\n",
       "  <tbody>\n",
       "    <tr>\n",
       "      <th>0</th>\n",
       "      <td>0</td>\n",
       "    </tr>\n",
       "    <tr>\n",
       "      <th>1</th>\n",
       "      <td>1</td>\n",
       "    </tr>\n",
       "    <tr>\n",
       "      <th>2</th>\n",
       "      <td>0</td>\n",
       "    </tr>\n",
       "    <tr>\n",
       "      <th>3</th>\n",
       "      <td>1</td>\n",
       "    </tr>\n",
       "    <tr>\n",
       "      <th>4</th>\n",
       "      <td>1</td>\n",
       "    </tr>\n",
       "  </tbody>\n",
       "</table>\n",
       "</div>"
      ],
      "text/plain": [
       "   predicted Y\n",
       "0            0\n",
       "1            1\n",
       "2            0\n",
       "3            1\n",
       "4            1"
      ]
     },
     "execution_count": 53,
     "metadata": {},
     "output_type": "execute_result"
    }
   ],
   "source": [
    "#combine the predicted Y value with the scoring dataset\n",
    "predictedY = pd.DataFrame(predictedY, columns=['predicted Y'])\n",
    "predictedY.head()"
   ]
  },
  {
   "cell_type": "code",
   "execution_count": 54,
   "metadata": {},
   "outputs": [
    {
     "data": {
      "text/html": [
       "<div>\n",
       "<style scoped>\n",
       "    .dataframe tbody tr th:only-of-type {\n",
       "        vertical-align: middle;\n",
       "    }\n",
       "\n",
       "    .dataframe tbody tr th {\n",
       "        vertical-align: top;\n",
       "    }\n",
       "\n",
       "    .dataframe thead th {\n",
       "        text-align: right;\n",
       "    }\n",
       "</style>\n",
       "<table border=\"1\" class=\"dataframe\">\n",
       "  <thead>\n",
       "    <tr style=\"text-align: right;\">\n",
       "      <th></th>\n",
       "      <th>Age</th>\n",
       "      <th>Marital_Status</th>\n",
       "      <th>Gender</th>\n",
       "      <th>Weight_Category</th>\n",
       "      <th>Cholesterol</th>\n",
       "      <th>Stress_Management</th>\n",
       "      <th>Trait_Anxiety</th>\n",
       "      <th>predicted Y</th>\n",
       "    </tr>\n",
       "  </thead>\n",
       "  <tbody>\n",
       "    <tr>\n",
       "      <th>0</th>\n",
       "      <td>61</td>\n",
       "      <td>0</td>\n",
       "      <td>1</td>\n",
       "      <td>1</td>\n",
       "      <td>139</td>\n",
       "      <td>1</td>\n",
       "      <td>50</td>\n",
       "      <td>0</td>\n",
       "    </tr>\n",
       "    <tr>\n",
       "      <th>1</th>\n",
       "      <td>55</td>\n",
       "      <td>2</td>\n",
       "      <td>1</td>\n",
       "      <td>2</td>\n",
       "      <td>163</td>\n",
       "      <td>0</td>\n",
       "      <td>40</td>\n",
       "      <td>1</td>\n",
       "    </tr>\n",
       "    <tr>\n",
       "      <th>2</th>\n",
       "      <td>53</td>\n",
       "      <td>1</td>\n",
       "      <td>1</td>\n",
       "      <td>1</td>\n",
       "      <td>172</td>\n",
       "      <td>0</td>\n",
       "      <td>55</td>\n",
       "      <td>0</td>\n",
       "    </tr>\n",
       "    <tr>\n",
       "      <th>3</th>\n",
       "      <td>58</td>\n",
       "      <td>1</td>\n",
       "      <td>1</td>\n",
       "      <td>2</td>\n",
       "      <td>206</td>\n",
       "      <td>0</td>\n",
       "      <td>70</td>\n",
       "      <td>1</td>\n",
       "    </tr>\n",
       "    <tr>\n",
       "      <th>4</th>\n",
       "      <td>62</td>\n",
       "      <td>2</td>\n",
       "      <td>1</td>\n",
       "      <td>1</td>\n",
       "      <td>148</td>\n",
       "      <td>1</td>\n",
       "      <td>50</td>\n",
       "      <td>1</td>\n",
       "    </tr>\n",
       "  </tbody>\n",
       "</table>\n",
       "</div>"
      ],
      "text/plain": [
       "   Age  Marital_Status  Gender  Weight_Category  Cholesterol  \\\n",
       "0   61               0       1                1          139   \n",
       "1   55               2       1                2          163   \n",
       "2   53               1       1                1          172   \n",
       "3   58               1       1                2          206   \n",
       "4   62               2       1                1          148   \n",
       "\n",
       "   Stress_Management  Trait_Anxiety  predicted Y  \n",
       "0                  1             50            0  \n",
       "1                  0             40            1  \n",
       "2                  0             55            0  \n",
       "3                  0             70            1  \n",
       "4                  1             50            1  "
      ]
     },
     "execution_count": 54,
     "metadata": {},
     "output_type": "execute_result"
    }
   ],
   "source": [
    "#finally ...\n",
    "data1 = score.join(predictedY) \n",
    "data1.head()"
   ]
  },
  {
   "cell_type": "markdown",
   "metadata": {},
   "source": [
    "2nd person (a 55 years old male) is likely to have 2nd heart attack"
   ]
  },
  {
   "cell_type": "code",
   "execution_count": 55,
   "metadata": {},
   "outputs": [],
   "source": [
    "data1.to_csv(\"data/output_risky_patients.csv\")"
   ]
  },
  {
   "cell_type": "markdown",
   "metadata": {},
   "source": [
    "# Appendix 1: 10 fold cross validation\n",
    "\n",
    "We have used split validataion (training set and testing set) to build predictive models and test their quality. There is another option called 10 folder cross validation.\n",
    "\n",
    "### Split validation\n",
    "* X_train, X_test, y_train, y_test = train_test_split(X, y, test_size=0.3, random_state=0)\n",
    "* 70% of the data for “training” (or building) a supervised learning model and 30% of the data for “testing” the quality of the model\n",
    "\n",
    "* Let's consider an exmple\n",
    "    * X value = Size ; y value = Price \n",
    "<img src=\"http://www.holehouse.org/mlclass/10_Advice_for_applying_machine_learning_files/Image%20[1].png\">\n",
    "\n",
    "<img src=\"http://www.developer.com/imagesvr_ce/6793/ML4.png\">\n",
    "\n",
    "### Cross validation (CV) or 10-fold CV\n",
    "* The basic idea is that, rather than testing the model quality **only once**, cross validation (or 10-fold CV) tests the model **10 times** with 10 different testing datasets.\n",
    "#### How?\n",
    "* The training (or original) dataset is randomly partitioned into 10 equal sized subsamples (see the figure below). \n",
    "* At each time, one subsample is set aside as the **testing** or **validation dataset** and the other 9 subsamples are used as the training dataset. \n",
    "* A model is built using the training dataset and tested with the testing dataset. This is done 10 times. \n",
    "* This leads to 10 evaluation scores (mean squared error). The final score is based on the average of the scores.\n",
    "\n",
    "<img src=\"https://chrisjmccormick.files.wordpress.com/2013/07/10_fold_cv.png\">"
   ]
  },
  {
   "cell_type": "code",
   "execution_count": null,
   "metadata": {},
   "outputs": [],
   "source": [
    "# evaluate the decision tree model using 10-fold cross-validation\n",
    "scores = cross_val_score(dt, X, y, scoring='accuracy', cv=10)\n",
    "print scores\n",
    "print scores.mean()"
   ]
  },
  {
   "cell_type": "markdown",
   "metadata": {},
   "source": [
    "# Appendix 2. Model building, evaluation and model selection/deployment in machine learning"
   ]
  },
  {
   "cell_type": "code",
   "execution_count": null,
   "metadata": {},
   "outputs": [],
   "source": [
    "from IPython.display import Image\n",
    "from IPython.core.display import HTML \n",
    "Image(url= \"http://sebastianraschka.com/images/blog/2016/model-evaluation-selection-part1/testing.png\")"
   ]
  },
  {
   "cell_type": "markdown",
   "metadata": {},
   "source": [
    "# Appendix 3: Random Forest (Ensemble model): Very Important !!!\n",
    "- This is like **getting opionions from multiple doctors**, not one doctor, for medical diagnosis\n",
    "- Building **multiple decision trees (ensembled decision trees) with the purpose to improve the model accuracy**\n",
    "- **RandomForestClassifier**(n_estimators=10, max_depth=None, min_samples_split=1, random_state=0)\n",
    "    - n_estimators = the number of **decision trees** in the forest \n",
    "- **Combining different opionions is likely to lead to high accuracy**. \n",
    "- The winners of some recent industry data anlytics competitions (e.g., Kaggle.com) happened to use **random forest**. A recent paper \"[(Do We Need Hundreds of Classifiers to Solve Real World Classification Problems?)](http://jmlr.csail.mit.edu/papers/volume15/delgado14a/delgado14a.pdf)\" published in the Journal of Machine Learning Research shows:\n",
    "\n",
    "> **Ensembled decision tree (Random Forest) performs the best for most classification problems.**\n",
    "\n",
    "- \"blackbox\" algorithm: a drawback ..."
   ]
  },
  {
   "cell_type": "code",
   "execution_count": 56,
   "metadata": {},
   "outputs": [
    {
     "data": {
      "text/plain": [
       "0.9523809523809523"
      ]
     },
     "execution_count": 56,
     "metadata": {},
     "output_type": "execute_result"
    }
   ],
   "source": [
    "from sklearn.ensemble import RandomForestClassifier\n",
    "\n",
    "clf = RandomForestClassifier(n_estimators=20)    #building 20 decision trees\n",
    "clf=clf.fit(X_train, y_train)\n",
    "clf.score(X_test, y_test)"
   ]
  },
  {
   "cell_type": "code",
   "execution_count": 58,
   "metadata": {},
   "outputs": [
    {
     "name": "stdout",
     "output_type": "stream",
     "text": [
      "0.9523809523809523\n",
      "[[18  1]\n",
      " [ 1 22]]\n",
      "             precision    recall  f1-score   support\n",
      "\n",
      "          0       0.95      0.95      0.95        19\n",
      "          1       0.96      0.96      0.96        23\n",
      "\n",
      "avg / total       0.95      0.95      0.95        42\n",
      "\n"
     ]
    }
   ],
   "source": [
    "# generate evaluation metrics\n",
    "print(metrics.accuracy_score(y_test, clf.predict(X_test))) #overall accuracy\n",
    "print(metrics.confusion_matrix(y_test, clf.predict(X_test)))\n",
    "print(metrics.classification_report(y_test, clf.predict(X_test)))"
   ]
  },
  {
   "cell_type": "markdown",
   "metadata": {},
   "source": [
    "> #### Feature Selection (or Feature Engineering)"
   ]
  },
  {
   "cell_type": "code",
   "execution_count": 59,
   "metadata": {},
   "outputs": [
    {
     "name": "stdout",
     "output_type": "stream",
     "text": [
      "Features sorted by their rank:\n",
      "[(0.0277, 'Gender'), (0.0348, 'Stress_Management'), (0.0944, 'Trait_Anxiety'), (0.1592, 'Age'), (0.2032, 'Cholesterol'), (0.2151, 'Weight_Category'), (0.2657, 'Marital_Status')]\n"
     ]
    }
   ],
   "source": [
    "print(\"Features sorted by their rank:\")\n",
    "print(sorted(zip(map(lambda x: round(x, 4), clf.feature_importances_), X.columns)))"
   ]
  },
  {
   "cell_type": "markdown",
   "metadata": {},
   "source": [
    "Weight_Category appears to be an important predictor"
   ]
  },
  {
   "cell_type": "code",
   "execution_count": 60,
   "metadata": {},
   "outputs": [
    {
     "data": {
      "text/html": [
       "<div>\n",
       "<style scoped>\n",
       "    .dataframe tbody tr th:only-of-type {\n",
       "        vertical-align: middle;\n",
       "    }\n",
       "\n",
       "    .dataframe tbody tr th {\n",
       "        vertical-align: top;\n",
       "    }\n",
       "\n",
       "    .dataframe thead th {\n",
       "        text-align: right;\n",
       "    }\n",
       "</style>\n",
       "<table border=\"1\" class=\"dataframe\">\n",
       "  <thead>\n",
       "    <tr style=\"text-align: right;\">\n",
       "      <th></th>\n",
       "      <th>feature</th>\n",
       "      <th>importance</th>\n",
       "    </tr>\n",
       "  </thead>\n",
       "  <tbody>\n",
       "    <tr>\n",
       "      <th>1</th>\n",
       "      <td>Marital_Status</td>\n",
       "      <td>0.265674</td>\n",
       "    </tr>\n",
       "    <tr>\n",
       "      <th>3</th>\n",
       "      <td>Weight_Category</td>\n",
       "      <td>0.215118</td>\n",
       "    </tr>\n",
       "    <tr>\n",
       "      <th>4</th>\n",
       "      <td>Cholesterol</td>\n",
       "      <td>0.203212</td>\n",
       "    </tr>\n",
       "    <tr>\n",
       "      <th>0</th>\n",
       "      <td>Age</td>\n",
       "      <td>0.159167</td>\n",
       "    </tr>\n",
       "    <tr>\n",
       "      <th>6</th>\n",
       "      <td>Trait_Anxiety</td>\n",
       "      <td>0.094376</td>\n",
       "    </tr>\n",
       "    <tr>\n",
       "      <th>5</th>\n",
       "      <td>Stress_Management</td>\n",
       "      <td>0.034774</td>\n",
       "    </tr>\n",
       "    <tr>\n",
       "      <th>2</th>\n",
       "      <td>Gender</td>\n",
       "      <td>0.027679</td>\n",
       "    </tr>\n",
       "  </tbody>\n",
       "</table>\n",
       "</div>"
      ],
      "text/plain": [
       "             feature  importance\n",
       "1     Marital_Status    0.265674\n",
       "3    Weight_Category    0.215118\n",
       "4        Cholesterol    0.203212\n",
       "0                Age    0.159167\n",
       "6      Trait_Anxiety    0.094376\n",
       "5  Stress_Management    0.034774\n",
       "2             Gender    0.027679"
      ]
     },
     "execution_count": 60,
     "metadata": {},
     "output_type": "execute_result"
    }
   ],
   "source": [
    "# another method\n",
    "pd.DataFrame({'feature':X.columns, 'importance':clf.feature_importances_}).\\\n",
    "                                                    sort_values('importance',ascending=False)"
   ]
  },
  {
   "cell_type": "code",
   "execution_count": 61,
   "metadata": {},
   "outputs": [
    {
     "data": {
      "text/plain": [
       "array([[0.85, 0.15],\n",
       "       [0.  , 1.  ],\n",
       "       [0.9 , 0.1 ],\n",
       "       [1.  , 0.  ],\n",
       "       [0.  , 1.  ],\n",
       "       [0.95, 0.05],\n",
       "       [0.  , 1.  ],\n",
       "       [0.05, 0.95],\n",
       "       [0.  , 1.  ],\n",
       "       [1.  , 0.  ],\n",
       "       [0.  , 1.  ],\n",
       "       [0.05, 0.95],\n",
       "       [0.  , 1.  ],\n",
       "       [0.95, 0.05],\n",
       "       [0.95, 0.05],\n",
       "       [0.25, 0.75],\n",
       "       [0.05, 0.95],\n",
       "       [0.  , 1.  ],\n",
       "       [0.6 , 0.4 ],\n",
       "       [0.05, 0.95],\n",
       "       [0.  , 1.  ],\n",
       "       [1.  , 0.  ],\n",
       "       [0.95, 0.05],\n",
       "       [0.7 , 0.3 ],\n",
       "       [0.05, 0.95],\n",
       "       [0.1 , 0.9 ],\n",
       "       [0.05, 0.95],\n",
       "       [0.9 , 0.1 ],\n",
       "       [0.95, 0.05],\n",
       "       [0.  , 1.  ],\n",
       "       [1.  , 0.  ],\n",
       "       [1.  , 0.  ],\n",
       "       [0.2 , 0.8 ],\n",
       "       [1.  , 0.  ],\n",
       "       [0.  , 1.  ],\n",
       "       [0.95, 0.05],\n",
       "       [0.  , 1.  ],\n",
       "       [0.  , 1.  ],\n",
       "       [0.1 , 0.9 ],\n",
       "       [0.95, 0.05],\n",
       "       [0.4 , 0.6 ],\n",
       "       [0.95, 0.05]])"
      ]
     },
     "execution_count": 61,
     "metadata": {},
     "output_type": "execute_result"
    }
   ],
   "source": [
    "#Predict class probabilities for X\n",
    "clf.predict_proba(X_test)\n",
    "# 1st value: the probability of NO\n",
    "# 2nd value: the probability of YES (2nd heart attack)"
   ]
  },
  {
   "cell_type": "markdown",
   "metadata": {},
   "source": [
    "### Make predictions on the new dataset (scoring dataset without y value)"
   ]
  },
  {
   "cell_type": "code",
   "execution_count": 62,
   "metadata": {},
   "outputs": [],
   "source": [
    "score=pd.read_csv(\"data/heartattack_scoring.csv\")\n",
    "output_scoring = clf.predict(score)\n",
    "predicted_y= pd.DataFrame(output_scoring, columns=['Predicted 2nd Heart Attack'])\n",
    "\n",
    "probs = clf.predict_proba(score)\n",
    "probs = pd.DataFrame(probs, columns=['prob of NO', 'prob of YES'])\n",
    "\n",
    "risky_patients = predicted_y.join(probs)\n",
    "\n",
    "risky_patients.to_csv(\"data/output_heartattack_RandomForest_ScoringDataset.csv\")"
   ]
  },
  {
   "cell_type": "markdown",
   "metadata": {},
   "source": [
    "# Appendix 4: Model Evaluation with Receiver Operating Characteristic (ROC)\n",
    "* In addition to confusion matrix, this is another method to evaluate classifier output quality\n",
    "* True positive rate on the Y axis and false positive rate on the X axis (the top left corner of the plot is “ideal point”)\n",
    "* The steeper the curve is, the better the classifier quality is\n",
    "* In general, high quality model leads to a steeper curve\n",
    "\n",
    "# ROC & AUC Score\n",
    "\n",
    "- TPR on the Y axis\n",
    "- FPR on the X axis\n",
    "- High TPR --> High model accuracy\n",
    "- High FPR --> Poor model accuracy\n",
    "- Therefore, a steeper curve indicates a good model performance\n",
    "\n",
    "# Examples\n",
    "<img src = \"http://gim.unmc.edu/dxtests/roccomp.jpg\">"
   ]
  },
  {
   "cell_type": "code",
   "execution_count": 63,
   "metadata": {},
   "outputs": [
    {
     "data": {
      "image/png": "[encoded data removed]",
      "text/plain": [
       "<Figure size 432x288 with 1 Axes>"
      ]
     },
     "metadata": {},
     "output_type": "display_data"
    },
    {
     "name": "stdout",
     "output_type": "stream",
     "text": [
      "False-positive rate: [0.         0.05263158 1.        ]\n",
      "True-positive rate:  [0.         0.91304348 1.        ]\n",
      "AUC score:  0.9302059496567506\n"
     ]
    }
   ],
   "source": [
    "y = df['2nd_Heart_Attack']\n",
    "X = df.drop(['2nd_Heart_Attack'], axis=1)\n",
    "\n",
    "# evaluate the model by splitting into train (70%) and test sets (30%)\n",
    "X_train, X_test, y_train, y_test = train_test_split(X, y, test_size=0.3, random_state=0)\n",
    "dt = DecisionTreeClassifier()\n",
    "dt.fit(X_train, y_train)\n",
    "\n",
    "#This is ROC chart based on the testing dataset\n",
    "\n",
    "fpr, tpr, thresholds = metrics.roc_curve(y_test,dt.predict(X_test))\n",
    "plt.subplot()\n",
    "plt.xlabel('false positive rate')\n",
    "plt.ylabel('true positive rate')\n",
    "plt.plot(fpr, tpr)\n",
    "plt.show()\n",
    "\n",
    "print(\"False-positive rate:\", fpr)\n",
    "print(\"True-positive rate: \", tpr)\n",
    "print(\"AUC score: \", metrics.roc_auc_score(y_test, dt.predict(X_test)))"
   ]
  },
  {
   "cell_type": "markdown",
   "metadata": {},
   "source": [
    "- **Yes. ROC chart shows that 5% FPR & 91.3% TPR**\n",
    "- **And, AUC is 0.93**\n",
    "\n",
    "### AUC (Area Under Curve), perhaps the most widely used measure, is considered more important than accuracy (confusion matrix)"
   ]
  },
  {
   "cell_type": "code",
   "execution_count": 64,
   "metadata": {},
   "outputs": [
    {
     "data": {
      "image/png": "[encoded data removed]",
      "text/plain": [
       "<Figure size 432x288 with 1 Axes>"
      ]
     },
     "metadata": {},
     "output_type": "display_data"
    },
    {
     "name": "stdout",
     "output_type": "stream",
     "text": [
      "False-positive rate: [0.         0.15789474 1.        ]\n",
      "True-positive rate:  [0.         0.95652174 1.        ]\n",
      "AUC score:  0.8993135011441648\n"
     ]
    }
   ],
   "source": [
    "# Generate ROC chart using your second (simple) decision tree model\n",
    "\n",
    "y = df['2nd_Heart_Attack']\n",
    "X = df.drop(['2nd_Heart_Attack'], axis=1)\n",
    "\n",
    "# evaluate the model by splitting into train (70%) and test sets (30%)\n",
    "X_train, X_test, y_train, y_test = train_test_split(X, y, test_size=0.3, random_state=0)\n",
    "dt_simple = DecisionTreeClassifier(max_depth=3, min_samples_leaf=5)\n",
    "dt_simple.fit(X_train, y_train)\n",
    "\n",
    "#This is ROC chart based on the testing dataset\n",
    "\n",
    "fpr, tpr, thresholds = metrics.roc_curve(y_test,dt_simple.predict(X_test))\n",
    "plt.subplot()\n",
    "plt.xlabel('false positive rate')\n",
    "plt.ylabel('true positive rate')\n",
    "plt.plot(fpr, tpr)\n",
    "plt.show()\n",
    "\n",
    "print(\"False-positive rate:\", fpr)\n",
    "print(\"True-positive rate: \", tpr)\n",
    "print(\"AUC score: \", metrics.roc_auc_score(y_test, dt_simple.predict(X_test)))"
   ]
  },
  {
   "cell_type": "markdown",
   "metadata": {},
   "source": [
    "# Appendix 5: Decision Tree Algorithm"
   ]
  },
  {
   "cell_type": "markdown",
   "metadata": {},
   "source": [
    "CART (Calssification And Regression Tree) is the default decision tree classication algorithm in scikit learn. \n",
    "\n",
    "The goal of this algorithm is **to minimize impurity in nodes** (in other words, to maximize purity in nodes).\n",
    "\n",
    "<img src=\"images\\gini.png\">\n",
    "\n",
    "where Gini score is the degree of **impurity**"
   ]
  },
  {
   "cell_type": "markdown",
   "metadata": {},
   "source": [
    "Consider an example below:\n",
    "<img src=\"images\\dt1.gif\">\n",
    "\n",
    "9 observations in the dataset. \n",
    "- **_Before split_,** \n",
    "    - ** the box contains 5 poor creditors and 4 good creditors.**\n",
    "    - **Gini impurity = 1 - (5/9)^2 - (4/9)^2  = 0.5 (this is the maxium impurity)**\n",
    "\n",
    "\n",
    "The best way to minimize impurity is below:\n",
    "<img src=\"images\\dt2.gif\">\n",
    "\n",
    "- **_After split_,** \n",
    "    - the left node contains 5 poor creditors and 0 good creditors: **Gini impurity of the left node = 1 - (5/5)^2 - (0/5)^2  = 0 (this is the minimum impurity)**\n",
    "    - the right node contains 0 poor creditors and 4 good creditors: **Gini impurity of the right node = 1 - (0/4)^2 - (4/4)^2  = 0 (this is the minimum impurity)**\n",
    "    - **The weighted Gini = (5/9)*0 + (4/9)*0 = 0**\n",
    "    - This is an example of perfect classification :)"
   ]
  },
  {
   "cell_type": "markdown",
   "metadata": {},
   "source": [
    "#### Let's consider another example:\n",
    "<img src=\"images\\dt3.gif\">\n",
    "\n",
    "42 observations in the dataset: 22 people with passing grade & 20 people with failing grade  \n",
    "- **_Before split_,** \n",
    "    - the large retangle contains 5 poor creditors and 4 good creditors.**\n",
    "    - **Gini impurity = 1 - (20/42)^2 - (22/42)^2  = 0.5 (this is the maxium impurity)**\n",
    "\n",
    "#### How about this split?\n",
    "<img src=\"images\\dt4.gif\">\n",
    "\n",
    "- **_After 1st split_,** \n",
    "    - the left retangle contains 19 fails and 3 pass: **Gini impurity of the left node = 1 - (19/22)^2 - (3/22)^2  = 0.23**\n",
    "    - the right retangle contains 1 fail and 19 passes: **Gini impurity of the right node = 1 - (1/20)^2 - (19/20)^2  = 0.095**\n",
    "    - **The weighted Gini = (22/42)*0.23 + (20/42)*0.095 = 0.165**\n",
    "\n",
    "- **_After 2nd split_,** \n",
    "    - the top left retangle contains 1 fail and 3 pass: **Gini impurity of the left node = 1 - (1/4)^2 - (3/4)^2  = 0.375**\n",
    "    - the bottom left retangle contains 18 fails and 0 pass: **Gini impurity of the left node = 1 - (18/18)^2 - (0/18)^2  = 0**\n",
    "    - the right retangle contains 1 fail and 19 passes: **Gini impurity of the right node = 1 - (1/20)^2 - (19/20)^2  = 0.095**\n",
    "    - **The weighted Gini = (4/42)*0.375 + (18/42)*0 + (20/42)*0.095 = 0.080**"
   ]
  }
 ],
 "metadata": {
  "kernelspec": {
   "display_name": "Python 3",
   "language": "python",
   "name": "python3"
  },
  "language_info": {
   "codemirror_mode": {
    "name": "ipython",
    "version": 3
   },
   "file_extension": ".py",
   "mimetype": "text/x-python",
   "name": "python",
   "nbconvert_exporter": "python",
   "pygments_lexer": "ipython3",
   "version": "3.6.7"
  }
 },
 "nbformat": 4,
 "nbformat_minor": 1
}
